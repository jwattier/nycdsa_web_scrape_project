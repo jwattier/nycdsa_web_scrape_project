{
 "nbformat": 4,
 "nbformat_minor": 2,
 "metadata": {
  "language_info": {
   "name": "python",
   "codemirror_mode": {
    "name": "ipython",
    "version": 3
   },
   "version": "3.7.6-final"
  },
  "orig_nbformat": 2,
  "file_extension": ".py",
  "mimetype": "text/x-python",
  "name": "python",
  "npconvert_exporter": "python",
  "pygments_lexer": "ipython3",
  "version": 3,
  "kernelspec": {
   "name": "python37664bitbaseconda78814975a87e45dd93a41087a924c115",
   "display_name": "Python 3.7.6 64-bit ('base': conda)"
  }
 },
 "cells": [
  {
   "cell_type": "code",
   "execution_count": 1,
   "metadata": {},
   "outputs": [],
   "source": [
    "import pandas as pd"
   ]
  },
  {
   "cell_type": "code",
   "execution_count": 4,
   "metadata": {},
   "outputs": [],
   "source": [
    "test_df = pd.read_html('https://www.espn.com/nfl/standings/_/season/2018/group/league')"
   ]
  },
  {
   "cell_type": "code",
   "execution_count": 5,
   "metadata": {},
   "outputs": [
    {
     "ename": "AttributeError",
     "evalue": "'list' object has no attribute 'shape'",
     "output_type": "error",
     "traceback": [
      "\u001b[1;31m---------------------------------------------------------------------------\u001b[0m",
      "\u001b[1;31mAttributeError\u001b[0m                            Traceback (most recent call last)",
      "\u001b[1;32m<ipython-input-5-8dce04e9bdce>\u001b[0m in \u001b[0;36m<module>\u001b[1;34m\u001b[0m\n\u001b[1;32m----> 1\u001b[1;33m \u001b[0mtest_df\u001b[0m\u001b[1;33m.\u001b[0m\u001b[0mshape\u001b[0m\u001b[1;33m\u001b[0m\u001b[1;33m\u001b[0m\u001b[0m\n\u001b[0m",
      "\u001b[1;31mAttributeError\u001b[0m: 'list' object has no attribute 'shape'"
     ]
    }
   ],
   "source": [
    "test_df.shape"
   ]
  },
  {
   "cell_type": "code",
   "execution_count": 6,
   "metadata": {},
   "outputs": [
    {
     "data": {
      "text/plain": "2"
     },
     "execution_count": 6,
     "metadata": {},
     "output_type": "execute_result"
    }
   ],
   "source": [
    "len(test_df)"
   ]
  },
  {
   "cell_type": "code",
   "execution_count": 9,
   "metadata": {},
   "outputs": [
    {
     "data": {
      "text/html": "<div>\n<style scoped>\n    .dataframe tbody tr th:only-of-type {\n        vertical-align: middle;\n    }\n\n    .dataframe tbody tr th {\n        vertical-align: top;\n    }\n\n    .dataframe thead th {\n        text-align: right;\n    }\n</style>\n<table border=\"1\" class=\"dataframe\">\n  <thead>\n    <tr style=\"text-align: right;\">\n      <th></th>\n      <th>W</th>\n      <th>L</th>\n      <th>T</th>\n      <th>PCT</th>\n      <th>HOME</th>\n      <th>AWAY</th>\n      <th>DIV</th>\n      <th>CONF</th>\n      <th>PF</th>\n      <th>PA</th>\n      <th>DIFF</th>\n      <th>STRK</th>\n    </tr>\n  </thead>\n  <tbody>\n    <tr>\n      <th>0</th>\n      <td>13</td>\n      <td>3</td>\n      <td>0</td>\n      <td>0.813</td>\n      <td>6-2</td>\n      <td>7-1</td>\n      <td>4-2</td>\n      <td>9-3</td>\n      <td>504</td>\n      <td>353</td>\n      <td>151</td>\n      <td>L1</td>\n    </tr>\n    <tr>\n      <th>1</th>\n      <td>13</td>\n      <td>3</td>\n      <td>0</td>\n      <td>0.813</td>\n      <td>7-1</td>\n      <td>6-2</td>\n      <td>6-0</td>\n      <td>9-3</td>\n      <td>527</td>\n      <td>384</td>\n      <td>143</td>\n      <td>W2</td>\n    </tr>\n    <tr>\n      <th>2</th>\n      <td>12</td>\n      <td>4</td>\n      <td>0</td>\n      <td>0.750</td>\n      <td>7-1</td>\n      <td>5-3</td>\n      <td>5-1</td>\n      <td>10-2</td>\n      <td>565</td>\n      <td>421</td>\n      <td>144</td>\n      <td>W1</td>\n    </tr>\n    <tr>\n      <th>3</th>\n      <td>12</td>\n      <td>4</td>\n      <td>0</td>\n      <td>0.750</td>\n      <td>7-1</td>\n      <td>5-3</td>\n      <td>5-1</td>\n      <td>10-2</td>\n      <td>421</td>\n      <td>283</td>\n      <td>138</td>\n      <td>W4</td>\n    </tr>\n    <tr>\n      <th>4</th>\n      <td>12</td>\n      <td>4</td>\n      <td>0</td>\n      <td>0.750</td>\n      <td>5-3</td>\n      <td>7-1</td>\n      <td>4-2</td>\n      <td>9-3</td>\n      <td>428</td>\n      <td>329</td>\n      <td>99</td>\n      <td>W1</td>\n    </tr>\n    <tr>\n      <th>5</th>\n      <td>11</td>\n      <td>5</td>\n      <td>0</td>\n      <td>0.688</td>\n      <td>8-0</td>\n      <td>3-5</td>\n      <td>5-1</td>\n      <td>8-4</td>\n      <td>436</td>\n      <td>325</td>\n      <td>111</td>\n      <td>W2</td>\n    </tr>\n    <tr>\n      <th>6</th>\n      <td>11</td>\n      <td>5</td>\n      <td>0</td>\n      <td>0.688</td>\n      <td>6-2</td>\n      <td>5-3</td>\n      <td>4-2</td>\n      <td>9-3</td>\n      <td>402</td>\n      <td>316</td>\n      <td>86</td>\n      <td>W1</td>\n    </tr>\n    <tr>\n      <th>7</th>\n      <td>10</td>\n      <td>6</td>\n      <td>0</td>\n      <td>0.625</td>\n      <td>6-2</td>\n      <td>4-4</td>\n      <td>3-3</td>\n      <td>8-4</td>\n      <td>389</td>\n      <td>287</td>\n      <td>102</td>\n      <td>W3</td>\n    </tr>\n    <tr>\n      <th>8</th>\n      <td>10</td>\n      <td>6</td>\n      <td>0</td>\n      <td>0.625</td>\n      <td>7-1</td>\n      <td>3-5</td>\n      <td>5-1</td>\n      <td>9-3</td>\n      <td>339</td>\n      <td>324</td>\n      <td>15</td>\n      <td>W2</td>\n    </tr>\n    <tr>\n      <th>9</th>\n      <td>10</td>\n      <td>6</td>\n      <td>0</td>\n      <td>0.625</td>\n      <td>6-2</td>\n      <td>4-4</td>\n      <td>3-3</td>\n      <td>8-4</td>\n      <td>428</td>\n      <td>347</td>\n      <td>81</td>\n      <td>W2</td>\n    </tr>\n    <tr>\n      <th>10</th>\n      <td>10</td>\n      <td>6</td>\n      <td>0</td>\n      <td>0.625</td>\n      <td>6-2</td>\n      <td>4-4</td>\n      <td>4-2</td>\n      <td>7-5</td>\n      <td>433</td>\n      <td>344</td>\n      <td>89</td>\n      <td>W4</td>\n    </tr>\n    <tr>\n      <th>11</th>\n      <td>9</td>\n      <td>6</td>\n      <td>1</td>\n      <td>0.594</td>\n      <td>5-3</td>\n      <td>4-3-1</td>\n      <td>4-1-1</td>\n      <td>6-5-1</td>\n      <td>428</td>\n      <td>360</td>\n      <td>68</td>\n      <td>W1</td>\n    </tr>\n    <tr>\n      <th>12</th>\n      <td>9</td>\n      <td>7</td>\n      <td>0</td>\n      <td>0.563</td>\n      <td>5-3</td>\n      <td>4-4</td>\n      <td>4-2</td>\n      <td>6-6</td>\n      <td>367</td>\n      <td>348</td>\n      <td>19</td>\n      <td>W3</td>\n    </tr>\n    <tr>\n      <th>13</th>\n      <td>9</td>\n      <td>7</td>\n      <td>0</td>\n      <td>0.563</td>\n      <td>6-2</td>\n      <td>3-5</td>\n      <td>3-3</td>\n      <td>5-7</td>\n      <td>310</td>\n      <td>303</td>\n      <td>7</td>\n      <td>L1</td>\n    </tr>\n    <tr>\n      <th>14</th>\n      <td>8</td>\n      <td>7</td>\n      <td>1</td>\n      <td>0.531</td>\n      <td>5-3</td>\n      <td>3-4-1</td>\n      <td>3-2-1</td>\n      <td>6-5-1</td>\n      <td>360</td>\n      <td>341</td>\n      <td>19</td>\n      <td>L1</td>\n    </tr>\n    <tr>\n      <th>15</th>\n      <td>7</td>\n      <td>8</td>\n      <td>1</td>\n      <td>0.469</td>\n      <td>5-2-1</td>\n      <td>2-6</td>\n      <td>3-2-1</td>\n      <td>5-6-1</td>\n      <td>359</td>\n      <td>392</td>\n      <td>-33</td>\n      <td>L1</td>\n    </tr>\n    <tr>\n      <th>16</th>\n      <td>7</td>\n      <td>9</td>\n      <td>0</td>\n      <td>0.438</td>\n      <td>4-4</td>\n      <td>3-5</td>\n      <td>4-2</td>\n      <td>7-5</td>\n      <td>414</td>\n      <td>423</td>\n      <td>-9</td>\n      <td>W3</td>\n    </tr>\n    <tr>\n      <th>17</th>\n      <td>7</td>\n      <td>9</td>\n      <td>0</td>\n      <td>0.438</td>\n      <td>3-5</td>\n      <td>4-4</td>\n      <td>2-4</td>\n      <td>6-6</td>\n      <td>281</td>\n      <td>359</td>\n      <td>-78</td>\n      <td>L2</td>\n    </tr>\n    <tr>\n      <th>18</th>\n      <td>7</td>\n      <td>9</td>\n      <td>0</td>\n      <td>0.438</td>\n      <td>5-3</td>\n      <td>2-6</td>\n      <td>2-4</td>\n      <td>5-7</td>\n      <td>376</td>\n      <td>382</td>\n      <td>-6</td>\n      <td>W1</td>\n    </tr>\n    <tr>\n      <th>19</th>\n      <td>7</td>\n      <td>9</td>\n      <td>0</td>\n      <td>0.438</td>\n      <td>6-2</td>\n      <td>1-7</td>\n      <td>4-2</td>\n      <td>6-6</td>\n      <td>319</td>\n      <td>433</td>\n      <td>-114</td>\n      <td>L3</td>\n    </tr>\n    <tr>\n      <th>20</th>\n      <td>6</td>\n      <td>9</td>\n      <td>1</td>\n      <td>0.406</td>\n      <td>5-2-1</td>\n      <td>1-7</td>\n      <td>1-4-1</td>\n      <td>3-8-1</td>\n      <td>376</td>\n      <td>400</td>\n      <td>-24</td>\n      <td>L1</td>\n    </tr>\n    <tr>\n      <th>21</th>\n      <td>6</td>\n      <td>10</td>\n      <td>0</td>\n      <td>0.375</td>\n      <td>3-5</td>\n      <td>3-5</td>\n      <td>2-4</td>\n      <td>4-8</td>\n      <td>329</td>\n      <td>349</td>\n      <td>-20</td>\n      <td>L4</td>\n    </tr>\n    <tr>\n      <th>22</th>\n      <td>6</td>\n      <td>10</td>\n      <td>0</td>\n      <td>0.375</td>\n      <td>3-5</td>\n      <td>3-5</td>\n      <td>2-4</td>\n      <td>4-8</td>\n      <td>324</td>\n      <td>360</td>\n      <td>-36</td>\n      <td>W1</td>\n    </tr>\n    <tr>\n      <th>23</th>\n      <td>6</td>\n      <td>10</td>\n      <td>0</td>\n      <td>0.375</td>\n      <td>4-4</td>\n      <td>2-6</td>\n      <td>1-5</td>\n      <td>4-8</td>\n      <td>368</td>\n      <td>455</td>\n      <td>-87</td>\n      <td>L2</td>\n    </tr>\n    <tr>\n      <th>24</th>\n      <td>6</td>\n      <td>10</td>\n      <td>0</td>\n      <td>0.375</td>\n      <td>4-4</td>\n      <td>2-6</td>\n      <td>2-4</td>\n      <td>4-8</td>\n      <td>269</td>\n      <td>374</td>\n      <td>-105</td>\n      <td>W1</td>\n    </tr>\n    <tr>\n      <th>25</th>\n      <td>5</td>\n      <td>11</td>\n      <td>0</td>\n      <td>0.313</td>\n      <td>2-6</td>\n      <td>3-5</td>\n      <td>1-5</td>\n      <td>4-8</td>\n      <td>369</td>\n      <td>412</td>\n      <td>-43</td>\n      <td>L3</td>\n    </tr>\n    <tr>\n      <th>26</th>\n      <td>5</td>\n      <td>11</td>\n      <td>0</td>\n      <td>0.313</td>\n      <td>3-5</td>\n      <td>2-6</td>\n      <td>1-5</td>\n      <td>4-8</td>\n      <td>245</td>\n      <td>316</td>\n      <td>-71</td>\n      <td>L1</td>\n    </tr>\n    <tr>\n      <th>27</th>\n      <td>5</td>\n      <td>11</td>\n      <td>0</td>\n      <td>0.313</td>\n      <td>4-4</td>\n      <td>1-7</td>\n      <td>2-4</td>\n      <td>4-8</td>\n      <td>396</td>\n      <td>464</td>\n      <td>-68</td>\n      <td>L4</td>\n    </tr>\n    <tr>\n      <th>28</th>\n      <td>4</td>\n      <td>12</td>\n      <td>0</td>\n      <td>0.250</td>\n      <td>4-4</td>\n      <td>0-8</td>\n      <td>1-5</td>\n      <td>2-10</td>\n      <td>342</td>\n      <td>435</td>\n      <td>-93</td>\n      <td>L2</td>\n    </tr>\n    <tr>\n      <th>29</th>\n      <td>4</td>\n      <td>12</td>\n      <td>0</td>\n      <td>0.250</td>\n      <td>2-6</td>\n      <td>2-6</td>\n      <td>1-5</td>\n      <td>3-9</td>\n      <td>333</td>\n      <td>441</td>\n      <td>-108</td>\n      <td>L3</td>\n    </tr>\n    <tr>\n      <th>30</th>\n      <td>4</td>\n      <td>12</td>\n      <td>0</td>\n      <td>0.250</td>\n      <td>3-5</td>\n      <td>1-7</td>\n      <td>1-5</td>\n      <td>3-9</td>\n      <td>290</td>\n      <td>467</td>\n      <td>-177</td>\n      <td>L1</td>\n    </tr>\n    <tr>\n      <th>31</th>\n      <td>3</td>\n      <td>13</td>\n      <td>0</td>\n      <td>0.188</td>\n      <td>1-7</td>\n      <td>2-6</td>\n      <td>2-4</td>\n      <td>3-9</td>\n      <td>225</td>\n      <td>425</td>\n      <td>-200</td>\n      <td>L4</td>\n    </tr>\n  </tbody>\n</table>\n</div>",
      "text/plain": "     W   L  T    PCT   HOME   AWAY    DIV   CONF   PF   PA  DIFF STRK\n0   13   3  0  0.813    6-2    7-1    4-2    9-3  504  353   151   L1\n1   13   3  0  0.813    7-1    6-2    6-0    9-3  527  384   143   W2\n2   12   4  0  0.750    7-1    5-3    5-1   10-2  565  421   144   W1\n3   12   4  0  0.750    7-1    5-3    5-1   10-2  421  283   138   W4\n4   12   4  0  0.750    5-3    7-1    4-2    9-3  428  329    99   W1\n5   11   5  0  0.688    8-0    3-5    5-1    8-4  436  325   111   W2\n6   11   5  0  0.688    6-2    5-3    4-2    9-3  402  316    86   W1\n7   10   6  0  0.625    6-2    4-4    3-3    8-4  389  287   102   W3\n8   10   6  0  0.625    7-1    3-5    5-1    9-3  339  324    15   W2\n9   10   6  0  0.625    6-2    4-4    3-3    8-4  428  347    81   W2\n10  10   6  0  0.625    6-2    4-4    4-2    7-5  433  344    89   W4\n11   9   6  1  0.594    5-3  4-3-1  4-1-1  6-5-1  428  360    68   W1\n12   9   7  0  0.563    5-3    4-4    4-2    6-6  367  348    19   W3\n13   9   7  0  0.563    6-2    3-5    3-3    5-7  310  303     7   L1\n14   8   7  1  0.531    5-3  3-4-1  3-2-1  6-5-1  360  341    19   L1\n15   7   8  1  0.469  5-2-1    2-6  3-2-1  5-6-1  359  392   -33   L1\n16   7   9  0  0.438    4-4    3-5    4-2    7-5  414  423    -9   W3\n17   7   9  0  0.438    3-5    4-4    2-4    6-6  281  359   -78   L2\n18   7   9  0  0.438    5-3    2-6    2-4    5-7  376  382    -6   W1\n19   7   9  0  0.438    6-2    1-7    4-2    6-6  319  433  -114   L3\n20   6   9  1  0.406  5-2-1    1-7  1-4-1  3-8-1  376  400   -24   L1\n21   6  10  0  0.375    3-5    3-5    2-4    4-8  329  349   -20   L4\n22   6  10  0  0.375    3-5    3-5    2-4    4-8  324  360   -36   W1\n23   6  10  0  0.375    4-4    2-6    1-5    4-8  368  455   -87   L2\n24   6  10  0  0.375    4-4    2-6    2-4    4-8  269  374  -105   W1\n25   5  11  0  0.313    2-6    3-5    1-5    4-8  369  412   -43   L3\n26   5  11  0  0.313    3-5    2-6    1-5    4-8  245  316   -71   L1\n27   5  11  0  0.313    4-4    1-7    2-4    4-8  396  464   -68   L4\n28   4  12  0  0.250    4-4    0-8    1-5   2-10  342  435   -93   L2\n29   4  12  0  0.250    2-6    2-6    1-5    3-9  333  441  -108   L3\n30   4  12  0  0.250    3-5    1-7    1-5    3-9  290  467  -177   L1\n31   3  13  0  0.188    1-7    2-6    2-4    3-9  225  425  -200   L4"
     },
     "execution_count": 9,
     "metadata": {},
     "output_type": "execute_result"
    }
   ],
   "source": [
    "test_df[1]"
   ]
  },
  {
   "cell_type": "code",
   "execution_count": null,
   "metadata": {},
   "outputs": [],
   "source": []
  }
 ]
}
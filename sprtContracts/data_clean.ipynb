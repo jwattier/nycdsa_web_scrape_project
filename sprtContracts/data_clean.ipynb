{
 "cells": [
  {
   "cell_type": "code",
   "execution_count": 1,
   "metadata": {
    "collapsed": true,
    "pycharm": {
     "is_executing": false
    }
   },
   "outputs": [
    {
     "name": "stdout",
     "text": [
      "Populating the interactive namespace from numpy and matplotlib\n"
     ],
     "output_type": "stream"
    }
   ],
   "source": [
    "%pylab inline\n",
    "import pandas as pd\n",
    "import numpy as np\n",
    "from pandas import DataFrame, Series"
   ]
  },
  {
   "cell_type": "code",
   "execution_count": 27,
   "outputs": [],
   "source": [
    "# - are brought in as NaN so that fill_na operation can be done post import\n",
    "nfl_df = pd.read_csv(filepath_or_buffer=\"nfl_team_contracts.csv\", header=0, na_values='-').fillna(0)"
   ],
   "metadata": {
    "collapsed": false,
    "pycharm": {
     "name": "#%%\n",
     "is_executing": false
    }
   }
  },
  {
   "cell_type": "code",
   "execution_count": 6,
   "outputs": [
    {
     "data": {
      "text/plain": "      base_salary    cap_hit  cap_perc dead_cap_amt             name  \\\n26787      $6,300    $6,300       0.00            0   Xavier Grimble   \n6530     $570,000  $756,998       0.39            0       Ian Thomas   \n14349    $585,000  $665,526       0.31            0  Amani Oruwariye   \n3474      $30,000   $30,000       0.02            0    Charles James   \n5895      $52,235   $52,235       0.04            0       Ben Jacobs   \n\n      option_bonus other_bonus position restruct_bonus roster_bonus  \\\n26787            0           0       TE              0            0   \n6530             0           0       TE              0            0   \n14349            0           0       CB              0            0   \n3474             0           0       CB              0            0   \n5895             0           0      ILB              0            0   \n\n      roster_status signing_bonus                  team workout_bonus  year  \n26787      dead_cap             0  new-england-patriots             0  2014  \n6530         active      $186,998     carolina-panthers             0  2019  \n14349        active       $80,526         detroit-lions             0  2020  \n3474       dead_cap             0      baltimore-ravens             0  2015  \n5895       dead_cap             0     carolina-panthers             0  2013  ",
      "text/html": "<div>\n<style scoped>\n    .dataframe tbody tr th:only-of-type {\n        vertical-align: middle;\n    }\n\n    .dataframe tbody tr th {\n        vertical-align: top;\n    }\n\n    .dataframe thead th {\n        text-align: right;\n    }\n</style>\n<table border=\"1\" class=\"dataframe\">\n  <thead>\n    <tr style=\"text-align: right;\">\n      <th></th>\n      <th>base_salary</th>\n      <th>cap_hit</th>\n      <th>cap_perc</th>\n      <th>dead_cap_amt</th>\n      <th>name</th>\n      <th>option_bonus</th>\n      <th>other_bonus</th>\n      <th>position</th>\n      <th>restruct_bonus</th>\n      <th>roster_bonus</th>\n      <th>roster_status</th>\n      <th>signing_bonus</th>\n      <th>team</th>\n      <th>workout_bonus</th>\n      <th>year</th>\n    </tr>\n  </thead>\n  <tbody>\n    <tr>\n      <th>26787</th>\n      <td>$6,300</td>\n      <td>$6,300</td>\n      <td>0.00</td>\n      <td>0</td>\n      <td>Xavier Grimble</td>\n      <td>0</td>\n      <td>0</td>\n      <td>TE</td>\n      <td>0</td>\n      <td>0</td>\n      <td>dead_cap</td>\n      <td>0</td>\n      <td>new-england-patriots</td>\n      <td>0</td>\n      <td>2014</td>\n    </tr>\n    <tr>\n      <th>6530</th>\n      <td>$570,000</td>\n      <td>$756,998</td>\n      <td>0.39</td>\n      <td>0</td>\n      <td>Ian Thomas</td>\n      <td>0</td>\n      <td>0</td>\n      <td>TE</td>\n      <td>0</td>\n      <td>0</td>\n      <td>active</td>\n      <td>$186,998</td>\n      <td>carolina-panthers</td>\n      <td>0</td>\n      <td>2019</td>\n    </tr>\n    <tr>\n      <th>14349</th>\n      <td>$585,000</td>\n      <td>$665,526</td>\n      <td>0.31</td>\n      <td>0</td>\n      <td>Amani Oruwariye</td>\n      <td>0</td>\n      <td>0</td>\n      <td>CB</td>\n      <td>0</td>\n      <td>0</td>\n      <td>active</td>\n      <td>$80,526</td>\n      <td>detroit-lions</td>\n      <td>0</td>\n      <td>2020</td>\n    </tr>\n    <tr>\n      <th>3474</th>\n      <td>$30,000</td>\n      <td>$30,000</td>\n      <td>0.02</td>\n      <td>0</td>\n      <td>Charles James</td>\n      <td>0</td>\n      <td>0</td>\n      <td>CB</td>\n      <td>0</td>\n      <td>0</td>\n      <td>dead_cap</td>\n      <td>0</td>\n      <td>baltimore-ravens</td>\n      <td>0</td>\n      <td>2015</td>\n    </tr>\n    <tr>\n      <th>5895</th>\n      <td>$52,235</td>\n      <td>$52,235</td>\n      <td>0.04</td>\n      <td>0</td>\n      <td>Ben Jacobs</td>\n      <td>0</td>\n      <td>0</td>\n      <td>ILB</td>\n      <td>0</td>\n      <td>0</td>\n      <td>dead_cap</td>\n      <td>0</td>\n      <td>carolina-panthers</td>\n      <td>0</td>\n      <td>2013</td>\n    </tr>\n  </tbody>\n</table>\n</div>"
     },
     "metadata": {},
     "output_type": "execute_result",
     "execution_count": 6
    }
   ],
   "source": [
    "# first step is to replace \"-\" with zeroes. \n",
    "nfl_df.sample(5)"
   ],
   "metadata": {
    "collapsed": false,
    "pycharm": {
     "name": "#%%\n",
     "is_executing": false
    }
   }
  },
  {
   "cell_type": "code",
   "execution_count": 7,
   "outputs": [
    {
     "data": {
      "text/plain": "base_salary       0\ncap_hit           0\ncap_perc          0\ndead_cap_amt      0\nname              0\noption_bonus      0\nother_bonus       0\nposition          0\nrestruct_bonus    0\nroster_bonus      0\nroster_status     0\nsigning_bonus     0\nteam              0\nworkout_bonus     0\nyear              0\ndtype: int64"
     },
     "metadata": {},
     "output_type": "execute_result",
     "execution_count": 7
    }
   ],
   "source": [
    "nfl_df.isna().sum()"
   ],
   "metadata": {
    "collapsed": false,
    "pycharm": {
     "name": "#%%\n",
     "is_executing": false
    }
   }
  },
  {
   "cell_type": "code",
   "execution_count": 5,
   "outputs": [
    {
     "data": {
      "text/plain": "7"
     },
     "metadata": {},
     "output_type": "execute_result",
     "execution_count": 5
    }
   ],
   "source": [
    "# checking the 7 cap_perc rows that have N/As\n",
    "sum(nfl_df['cap_perc'].isnull()) # == True"
   ],
   "metadata": {
    "collapsed": false,
    "pycharm": {
     "name": "#%%\n",
     "is_executing": false
    }
   }
  },
  {
   "cell_type": "code",
   "execution_count": 6,
   "outputs": [
    {
     "data": {
      "text/plain": "      base_salary cap_hit  cap_perc dead_cap_amt               name  \\\n251      $500,000      -        NaN            -         Ben Graham   \n10679    $550,000      -        NaN            -          Jay Moore   \n17204    $395,000      -        NaN            -         Kyle DeVan   \n17205    $320,000      -        NaN            -          Joe Reitz   \n36878  $2,956,000      -        NaN            -      Stacy Andrews   \n36879    $320,000      -        NaN            -  Lemuel Jeanpierre   \n38206    $470,000      -        NaN            -          James Lee   \n\n      option_bonus other_bonus position restruct_bonus roster_bonus  \\\n251              -           -        P              -            -   \n10679            -           -       LB              -            -   \n17204            -           -        G              -            -   \n17205            -           -        G              -            -   \n36878            -           -        G              -            -   \n36879            -           -        C              -            -   \n38206            -           -        T              -            -   \n\n      roster_status signing_bonus                  team workout_bonus  year  \n251          active             -     arizona-cardinals             -  2010  \n10679        active             -        dallas-cowboys             -  2010  \n17204        active             -    indianapolis-colts             -  2010  \n17205        active             -    indianapolis-colts             -  2010  \n36878        active             -      seattle-seahawks             -  2010  \n36879        active             -      seattle-seahawks             -  2010  \n38206        active             -  tampa-bay-buccaneers             -  2010  ",
      "text/html": "<div>\n<style scoped>\n    .dataframe tbody tr th:only-of-type {\n        vertical-align: middle;\n    }\n\n    .dataframe tbody tr th {\n        vertical-align: top;\n    }\n\n    .dataframe thead th {\n        text-align: right;\n    }\n</style>\n<table border=\"1\" class=\"dataframe\">\n  <thead>\n    <tr style=\"text-align: right;\">\n      <th></th>\n      <th>base_salary</th>\n      <th>cap_hit</th>\n      <th>cap_perc</th>\n      <th>dead_cap_amt</th>\n      <th>name</th>\n      <th>option_bonus</th>\n      <th>other_bonus</th>\n      <th>position</th>\n      <th>restruct_bonus</th>\n      <th>roster_bonus</th>\n      <th>roster_status</th>\n      <th>signing_bonus</th>\n      <th>team</th>\n      <th>workout_bonus</th>\n      <th>year</th>\n    </tr>\n  </thead>\n  <tbody>\n    <tr>\n      <th>251</th>\n      <td>$500,000</td>\n      <td>-</td>\n      <td>NaN</td>\n      <td>-</td>\n      <td>Ben Graham</td>\n      <td>-</td>\n      <td>-</td>\n      <td>P</td>\n      <td>-</td>\n      <td>-</td>\n      <td>active</td>\n      <td>-</td>\n      <td>arizona-cardinals</td>\n      <td>-</td>\n      <td>2010</td>\n    </tr>\n    <tr>\n      <th>10679</th>\n      <td>$550,000</td>\n      <td>-</td>\n      <td>NaN</td>\n      <td>-</td>\n      <td>Jay Moore</td>\n      <td>-</td>\n      <td>-</td>\n      <td>LB</td>\n      <td>-</td>\n      <td>-</td>\n      <td>active</td>\n      <td>-</td>\n      <td>dallas-cowboys</td>\n      <td>-</td>\n      <td>2010</td>\n    </tr>\n    <tr>\n      <th>17204</th>\n      <td>$395,000</td>\n      <td>-</td>\n      <td>NaN</td>\n      <td>-</td>\n      <td>Kyle DeVan</td>\n      <td>-</td>\n      <td>-</td>\n      <td>G</td>\n      <td>-</td>\n      <td>-</td>\n      <td>active</td>\n      <td>-</td>\n      <td>indianapolis-colts</td>\n      <td>-</td>\n      <td>2010</td>\n    </tr>\n    <tr>\n      <th>17205</th>\n      <td>$320,000</td>\n      <td>-</td>\n      <td>NaN</td>\n      <td>-</td>\n      <td>Joe Reitz</td>\n      <td>-</td>\n      <td>-</td>\n      <td>G</td>\n      <td>-</td>\n      <td>-</td>\n      <td>active</td>\n      <td>-</td>\n      <td>indianapolis-colts</td>\n      <td>-</td>\n      <td>2010</td>\n    </tr>\n    <tr>\n      <th>36878</th>\n      <td>$2,956,000</td>\n      <td>-</td>\n      <td>NaN</td>\n      <td>-</td>\n      <td>Stacy Andrews</td>\n      <td>-</td>\n      <td>-</td>\n      <td>G</td>\n      <td>-</td>\n      <td>-</td>\n      <td>active</td>\n      <td>-</td>\n      <td>seattle-seahawks</td>\n      <td>-</td>\n      <td>2010</td>\n    </tr>\n    <tr>\n      <th>36879</th>\n      <td>$320,000</td>\n      <td>-</td>\n      <td>NaN</td>\n      <td>-</td>\n      <td>Lemuel Jeanpierre</td>\n      <td>-</td>\n      <td>-</td>\n      <td>C</td>\n      <td>-</td>\n      <td>-</td>\n      <td>active</td>\n      <td>-</td>\n      <td>seattle-seahawks</td>\n      <td>-</td>\n      <td>2010</td>\n    </tr>\n    <tr>\n      <th>38206</th>\n      <td>$470,000</td>\n      <td>-</td>\n      <td>NaN</td>\n      <td>-</td>\n      <td>James Lee</td>\n      <td>-</td>\n      <td>-</td>\n      <td>T</td>\n      <td>-</td>\n      <td>-</td>\n      <td>active</td>\n      <td>-</td>\n      <td>tampa-bay-buccaneers</td>\n      <td>-</td>\n      <td>2010</td>\n    </tr>\n  </tbody>\n</table>\n</div>"
     },
     "metadata": {},
     "output_type": "execute_result",
     "execution_count": 6
    }
   ],
   "source": [
    "nfl_df.loc[nfl_df['cap_perc'].isnull(), :]\n",
    "\n",
    "# issuue is some values in the tables for cap percentage is inherently mark as \"nan\" or \"inf\" in raw data pull. \n",
    "# cap_perc -> since it can be derived from the raw absolute figures -> will likely be disregarded. "
   ],
   "metadata": {
    "collapsed": false,
    "pycharm": {
     "name": "#%%\n",
     "is_executing": false
    }
   }
  },
  {
   "cell_type": "code",
   "execution_count": 8,
   "outputs": [
    {
     "data": {
      "text/plain": "0"
     },
     "metadata": {},
     "output_type": "execute_result",
     "execution_count": 8
    }
   ],
   "source": [
    "nfl_df['name'].str.contains('$', regex=False).sum()"
   ],
   "metadata": {
    "collapsed": false,
    "pycharm": {
     "name": "#%%\n",
     "is_executing": false
    }
   }
  },
  {
   "cell_type": "code",
   "execution_count": 11,
   "outputs": [
    {
     "data": {
      "text/plain": "8"
     },
     "metadata": {},
     "output_type": "execute_result",
     "execution_count": 11
    }
   ],
   "source": [
    "nfl_df['name'].str.contains(',', regex=False).sum()"
   ],
   "metadata": {
    "collapsed": false,
    "pycharm": {
     "name": "#%%\n",
     "is_executing": false
    }
   }
  },
  {
   "cell_type": "code",
   "execution_count": null,
   "outputs": [],
   "source": [
    "nfl_df = nfl_df.replace(to_replace='-', value=0)"
   ],
   "metadata": {
    "collapsed": false,
    "pycharm": {
     "name": "#%%\n"
    }
   }
  },
  {
   "cell_type": "code",
   "execution_count": 28,
   "outputs": [],
   "source": [
    "# substitute \"-\"/dashes with zeroes\n",
    "# nfl_df = nfl_df.replace(to_replace='-', value=0)\n",
    "# replace $-sign and comma with empty spaces\n",
    "\n",
    "nfl_df = nfl_df.replace(to_replace='[\\$,]', value='', regex=True)"
   ],
   "metadata": {
    "collapsed": false,
    "pycharm": {
     "name": "#%%\n",
     "is_executing": false
    }
   }
  },
  {
   "cell_type": "code",
   "execution_count": null,
   "outputs": [],
   "source": [
    "# nfl_df.applymap(lambda  )"
   ],
   "metadata": {
    "collapsed": false,
    "pycharm": {
     "name": "#%%\n"
    }
   }
  },
  {
   "cell_type": "code",
   "execution_count": 14,
   "outputs": [
    {
     "traceback": [
      "\u001b[1;31m---------------------------------------------------------------------------\u001b[0m",
      "\u001b[1;31mValueError\u001b[0m                                Traceback (most recent call last)",
      "\u001b[1;32m<ipython-input-14-5ffe37ec8b97>\u001b[0m in \u001b[0;36m<module>\u001b[1;34m\u001b[0m\n\u001b[0;32m      1\u001b[0m \u001b[0mnfl_df\u001b[0m\u001b[1;33m[\u001b[0m\u001b[1;33m[\u001b[0m\u001b[1;34m'base_salary'\u001b[0m\u001b[1;33m,\u001b[0m \u001b[1;34m'cap_hit'\u001b[0m\u001b[1;33m,\u001b[0m \u001b[1;34m'option_bonus'\u001b[0m\u001b[1;33m,\u001b[0m \u001b[1;34m'other_bonus'\u001b[0m\u001b[1;33m,\u001b[0m\u001b[1;34m'option_bonus'\u001b[0m\u001b[1;33m,\u001b[0m \u001b[1;34m'restruct_bonus'\u001b[0m\u001b[1;33m,\u001b[0m \u001b[1;34m'roster_bonus'\u001b[0m\u001b[1;33m,\u001b[0m \u001b[1;34m'signing_bonus'\u001b[0m\u001b[1;33m,\u001b[0m \u001b[1;34m'workout_bonus'\u001b[0m\u001b[1;33m]\u001b[0m\u001b[1;33m]\u001b[0m\u001b[0;31m\\\u001b[0m\u001b[1;33m\u001b[0m\u001b[1;33m\u001b[0m\u001b[0m\n\u001b[1;32m----> 2\u001b[1;33m     \u001b[1;33m=\u001b[0m \u001b[0mnfl_df\u001b[0m\u001b[1;33m[\u001b[0m\u001b[1;33m[\u001b[0m\u001b[1;34m'base_salary'\u001b[0m\u001b[1;33m,\u001b[0m \u001b[1;34m'cap_hit'\u001b[0m\u001b[1;33m,\u001b[0m \u001b[1;34m'option_bonus'\u001b[0m\u001b[1;33m,\u001b[0m \u001b[1;34m'other_bonus'\u001b[0m\u001b[1;33m,\u001b[0m\u001b[1;34m'option_bonus'\u001b[0m\u001b[1;33m,\u001b[0m \u001b[1;34m'restruct_bonus'\u001b[0m\u001b[1;33m,\u001b[0m \u001b[1;34m'roster_bonus'\u001b[0m\u001b[1;33m,\u001b[0m \u001b[1;34m'signing_bonus'\u001b[0m\u001b[1;33m,\u001b[0m \u001b[1;34m'workout_bonus'\u001b[0m\u001b[1;33m]\u001b[0m\u001b[1;33m]\u001b[0m\u001b[1;33m.\u001b[0m\u001b[0mastype\u001b[0m\u001b[1;33m(\u001b[0m\u001b[0mfloat\u001b[0m\u001b[1;33m)\u001b[0m\u001b[1;33m\u001b[0m\u001b[1;33m\u001b[0m\u001b[0m\n\u001b[0m\u001b[0;32m      3\u001b[0m \u001b[1;33m\u001b[0m\u001b[0m\n",
      "\u001b[1;32m~\\Anaconda3\\lib\\site-packages\\pandas\\core\\generic.py\u001b[0m in \u001b[0;36mastype\u001b[1;34m(self, dtype, copy, errors, **kwargs)\u001b[0m\n\u001b[0;32m   5880\u001b[0m             \u001b[1;31m# else, only a single dtype is given\u001b[0m\u001b[1;33m\u001b[0m\u001b[1;33m\u001b[0m\u001b[1;33m\u001b[0m\u001b[0m\n\u001b[0;32m   5881\u001b[0m             new_data = self._data.astype(\n\u001b[1;32m-> 5882\u001b[1;33m                 \u001b[0mdtype\u001b[0m\u001b[1;33m=\u001b[0m\u001b[0mdtype\u001b[0m\u001b[1;33m,\u001b[0m \u001b[0mcopy\u001b[0m\u001b[1;33m=\u001b[0m\u001b[0mcopy\u001b[0m\u001b[1;33m,\u001b[0m \u001b[0merrors\u001b[0m\u001b[1;33m=\u001b[0m\u001b[0merrors\u001b[0m\u001b[1;33m,\u001b[0m \u001b[1;33m**\u001b[0m\u001b[0mkwargs\u001b[0m\u001b[1;33m\u001b[0m\u001b[1;33m\u001b[0m\u001b[0m\n\u001b[0m\u001b[0;32m   5883\u001b[0m             )\n\u001b[0;32m   5884\u001b[0m             \u001b[1;32mreturn\u001b[0m \u001b[0mself\u001b[0m\u001b[1;33m.\u001b[0m\u001b[0m_constructor\u001b[0m\u001b[1;33m(\u001b[0m\u001b[0mnew_data\u001b[0m\u001b[1;33m)\u001b[0m\u001b[1;33m.\u001b[0m\u001b[0m__finalize__\u001b[0m\u001b[1;33m(\u001b[0m\u001b[0mself\u001b[0m\u001b[1;33m)\u001b[0m\u001b[1;33m\u001b[0m\u001b[1;33m\u001b[0m\u001b[0m\n",
      "\u001b[1;32m~\\Anaconda3\\lib\\site-packages\\pandas\\core\\internals\\managers.py\u001b[0m in \u001b[0;36mastype\u001b[1;34m(self, dtype, **kwargs)\u001b[0m\n\u001b[0;32m    579\u001b[0m \u001b[1;33m\u001b[0m\u001b[0m\n\u001b[0;32m    580\u001b[0m     \u001b[1;32mdef\u001b[0m \u001b[0mastype\u001b[0m\u001b[1;33m(\u001b[0m\u001b[0mself\u001b[0m\u001b[1;33m,\u001b[0m \u001b[0mdtype\u001b[0m\u001b[1;33m,\u001b[0m \u001b[1;33m**\u001b[0m\u001b[0mkwargs\u001b[0m\u001b[1;33m)\u001b[0m\u001b[1;33m:\u001b[0m\u001b[1;33m\u001b[0m\u001b[1;33m\u001b[0m\u001b[0m\n\u001b[1;32m--> 581\u001b[1;33m         \u001b[1;32mreturn\u001b[0m \u001b[0mself\u001b[0m\u001b[1;33m.\u001b[0m\u001b[0mapply\u001b[0m\u001b[1;33m(\u001b[0m\u001b[1;34m\"astype\"\u001b[0m\u001b[1;33m,\u001b[0m \u001b[0mdtype\u001b[0m\u001b[1;33m=\u001b[0m\u001b[0mdtype\u001b[0m\u001b[1;33m,\u001b[0m \u001b[1;33m**\u001b[0m\u001b[0mkwargs\u001b[0m\u001b[1;33m)\u001b[0m\u001b[1;33m\u001b[0m\u001b[1;33m\u001b[0m\u001b[0m\n\u001b[0m\u001b[0;32m    582\u001b[0m \u001b[1;33m\u001b[0m\u001b[0m\n\u001b[0;32m    583\u001b[0m     \u001b[1;32mdef\u001b[0m \u001b[0mconvert\u001b[0m\u001b[1;33m(\u001b[0m\u001b[0mself\u001b[0m\u001b[1;33m,\u001b[0m \u001b[1;33m**\u001b[0m\u001b[0mkwargs\u001b[0m\u001b[1;33m)\u001b[0m\u001b[1;33m:\u001b[0m\u001b[1;33m\u001b[0m\u001b[1;33m\u001b[0m\u001b[0m\n",
      "\u001b[1;32m~\\Anaconda3\\lib\\site-packages\\pandas\\core\\internals\\managers.py\u001b[0m in \u001b[0;36mapply\u001b[1;34m(self, f, axes, filter, do_integrity_check, consolidate, **kwargs)\u001b[0m\n\u001b[0;32m    436\u001b[0m                     \u001b[0mkwargs\u001b[0m\u001b[1;33m[\u001b[0m\u001b[0mk\u001b[0m\u001b[1;33m]\u001b[0m \u001b[1;33m=\u001b[0m \u001b[0mobj\u001b[0m\u001b[1;33m.\u001b[0m\u001b[0mreindex\u001b[0m\u001b[1;33m(\u001b[0m\u001b[0mb_items\u001b[0m\u001b[1;33m,\u001b[0m \u001b[0maxis\u001b[0m\u001b[1;33m=\u001b[0m\u001b[0maxis\u001b[0m\u001b[1;33m,\u001b[0m \u001b[0mcopy\u001b[0m\u001b[1;33m=\u001b[0m\u001b[0malign_copy\u001b[0m\u001b[1;33m)\u001b[0m\u001b[1;33m\u001b[0m\u001b[1;33m\u001b[0m\u001b[0m\n\u001b[0;32m    437\u001b[0m \u001b[1;33m\u001b[0m\u001b[0m\n\u001b[1;32m--> 438\u001b[1;33m             \u001b[0mapplied\u001b[0m \u001b[1;33m=\u001b[0m \u001b[0mgetattr\u001b[0m\u001b[1;33m(\u001b[0m\u001b[0mb\u001b[0m\u001b[1;33m,\u001b[0m \u001b[0mf\u001b[0m\u001b[1;33m)\u001b[0m\u001b[1;33m(\u001b[0m\u001b[1;33m**\u001b[0m\u001b[0mkwargs\u001b[0m\u001b[1;33m)\u001b[0m\u001b[1;33m\u001b[0m\u001b[1;33m\u001b[0m\u001b[0m\n\u001b[0m\u001b[0;32m    439\u001b[0m             \u001b[0mresult_blocks\u001b[0m \u001b[1;33m=\u001b[0m \u001b[0m_extend_blocks\u001b[0m\u001b[1;33m(\u001b[0m\u001b[0mapplied\u001b[0m\u001b[1;33m,\u001b[0m \u001b[0mresult_blocks\u001b[0m\u001b[1;33m)\u001b[0m\u001b[1;33m\u001b[0m\u001b[1;33m\u001b[0m\u001b[0m\n\u001b[0;32m    440\u001b[0m \u001b[1;33m\u001b[0m\u001b[0m\n",
      "\u001b[1;32m~\\Anaconda3\\lib\\site-packages\\pandas\\core\\internals\\blocks.py\u001b[0m in \u001b[0;36mastype\u001b[1;34m(self, dtype, copy, errors, values, **kwargs)\u001b[0m\n\u001b[0;32m    557\u001b[0m \u001b[1;33m\u001b[0m\u001b[0m\n\u001b[0;32m    558\u001b[0m     \u001b[1;32mdef\u001b[0m \u001b[0mastype\u001b[0m\u001b[1;33m(\u001b[0m\u001b[0mself\u001b[0m\u001b[1;33m,\u001b[0m \u001b[0mdtype\u001b[0m\u001b[1;33m,\u001b[0m \u001b[0mcopy\u001b[0m\u001b[1;33m=\u001b[0m\u001b[1;32mFalse\u001b[0m\u001b[1;33m,\u001b[0m \u001b[0merrors\u001b[0m\u001b[1;33m=\u001b[0m\u001b[1;34m\"raise\"\u001b[0m\u001b[1;33m,\u001b[0m \u001b[0mvalues\u001b[0m\u001b[1;33m=\u001b[0m\u001b[1;32mNone\u001b[0m\u001b[1;33m,\u001b[0m \u001b[1;33m**\u001b[0m\u001b[0mkwargs\u001b[0m\u001b[1;33m)\u001b[0m\u001b[1;33m:\u001b[0m\u001b[1;33m\u001b[0m\u001b[1;33m\u001b[0m\u001b[0m\n\u001b[1;32m--> 559\u001b[1;33m         \u001b[1;32mreturn\u001b[0m \u001b[0mself\u001b[0m\u001b[1;33m.\u001b[0m\u001b[0m_astype\u001b[0m\u001b[1;33m(\u001b[0m\u001b[0mdtype\u001b[0m\u001b[1;33m,\u001b[0m \u001b[0mcopy\u001b[0m\u001b[1;33m=\u001b[0m\u001b[0mcopy\u001b[0m\u001b[1;33m,\u001b[0m \u001b[0merrors\u001b[0m\u001b[1;33m=\u001b[0m\u001b[0merrors\u001b[0m\u001b[1;33m,\u001b[0m \u001b[0mvalues\u001b[0m\u001b[1;33m=\u001b[0m\u001b[0mvalues\u001b[0m\u001b[1;33m,\u001b[0m \u001b[1;33m**\u001b[0m\u001b[0mkwargs\u001b[0m\u001b[1;33m)\u001b[0m\u001b[1;33m\u001b[0m\u001b[1;33m\u001b[0m\u001b[0m\n\u001b[0m\u001b[0;32m    560\u001b[0m \u001b[1;33m\u001b[0m\u001b[0m\n\u001b[0;32m    561\u001b[0m     \u001b[1;32mdef\u001b[0m \u001b[0m_astype\u001b[0m\u001b[1;33m(\u001b[0m\u001b[0mself\u001b[0m\u001b[1;33m,\u001b[0m \u001b[0mdtype\u001b[0m\u001b[1;33m,\u001b[0m \u001b[0mcopy\u001b[0m\u001b[1;33m=\u001b[0m\u001b[1;32mFalse\u001b[0m\u001b[1;33m,\u001b[0m \u001b[0merrors\u001b[0m\u001b[1;33m=\u001b[0m\u001b[1;34m\"raise\"\u001b[0m\u001b[1;33m,\u001b[0m \u001b[0mvalues\u001b[0m\u001b[1;33m=\u001b[0m\u001b[1;32mNone\u001b[0m\u001b[1;33m,\u001b[0m \u001b[1;33m**\u001b[0m\u001b[0mkwargs\u001b[0m\u001b[1;33m)\u001b[0m\u001b[1;33m:\u001b[0m\u001b[1;33m\u001b[0m\u001b[1;33m\u001b[0m\u001b[0m\n",
      "\u001b[1;32m~\\Anaconda3\\lib\\site-packages\\pandas\\core\\internals\\blocks.py\u001b[0m in \u001b[0;36m_astype\u001b[1;34m(self, dtype, copy, errors, values, **kwargs)\u001b[0m\n\u001b[0;32m    641\u001b[0m                     \u001b[1;31m# _astype_nansafe works fine with 1-d only\u001b[0m\u001b[1;33m\u001b[0m\u001b[1;33m\u001b[0m\u001b[1;33m\u001b[0m\u001b[0m\n\u001b[0;32m    642\u001b[0m                     \u001b[0mvals1d\u001b[0m \u001b[1;33m=\u001b[0m \u001b[0mvalues\u001b[0m\u001b[1;33m.\u001b[0m\u001b[0mravel\u001b[0m\u001b[1;33m(\u001b[0m\u001b[1;33m)\u001b[0m\u001b[1;33m\u001b[0m\u001b[1;33m\u001b[0m\u001b[0m\n\u001b[1;32m--> 643\u001b[1;33m                     \u001b[0mvalues\u001b[0m \u001b[1;33m=\u001b[0m \u001b[0mastype_nansafe\u001b[0m\u001b[1;33m(\u001b[0m\u001b[0mvals1d\u001b[0m\u001b[1;33m,\u001b[0m \u001b[0mdtype\u001b[0m\u001b[1;33m,\u001b[0m \u001b[0mcopy\u001b[0m\u001b[1;33m=\u001b[0m\u001b[1;32mTrue\u001b[0m\u001b[1;33m,\u001b[0m \u001b[1;33m**\u001b[0m\u001b[0mkwargs\u001b[0m\u001b[1;33m)\u001b[0m\u001b[1;33m\u001b[0m\u001b[1;33m\u001b[0m\u001b[0m\n\u001b[0m\u001b[0;32m    644\u001b[0m \u001b[1;33m\u001b[0m\u001b[0m\n\u001b[0;32m    645\u001b[0m                 \u001b[1;31m# TODO(extension)\u001b[0m\u001b[1;33m\u001b[0m\u001b[1;33m\u001b[0m\u001b[1;33m\u001b[0m\u001b[0m\n",
      "\u001b[1;32m~\\Anaconda3\\lib\\site-packages\\pandas\\core\\dtypes\\cast.py\u001b[0m in \u001b[0;36mastype_nansafe\u001b[1;34m(arr, dtype, copy, skipna)\u001b[0m\n\u001b[0;32m    727\u001b[0m     \u001b[1;32mif\u001b[0m \u001b[0mcopy\u001b[0m \u001b[1;32mor\u001b[0m \u001b[0mis_object_dtype\u001b[0m\u001b[1;33m(\u001b[0m\u001b[0marr\u001b[0m\u001b[1;33m)\u001b[0m \u001b[1;32mor\u001b[0m \u001b[0mis_object_dtype\u001b[0m\u001b[1;33m(\u001b[0m\u001b[0mdtype\u001b[0m\u001b[1;33m)\u001b[0m\u001b[1;33m:\u001b[0m\u001b[1;33m\u001b[0m\u001b[1;33m\u001b[0m\u001b[0m\n\u001b[0;32m    728\u001b[0m         \u001b[1;31m# Explicit copy, or required since NumPy can't view from / to object.\u001b[0m\u001b[1;33m\u001b[0m\u001b[1;33m\u001b[0m\u001b[1;33m\u001b[0m\u001b[0m\n\u001b[1;32m--> 729\u001b[1;33m         \u001b[1;32mreturn\u001b[0m \u001b[0marr\u001b[0m\u001b[1;33m.\u001b[0m\u001b[0mastype\u001b[0m\u001b[1;33m(\u001b[0m\u001b[0mdtype\u001b[0m\u001b[1;33m,\u001b[0m \u001b[0mcopy\u001b[0m\u001b[1;33m=\u001b[0m\u001b[1;32mTrue\u001b[0m\u001b[1;33m)\u001b[0m\u001b[1;33m\u001b[0m\u001b[1;33m\u001b[0m\u001b[0m\n\u001b[0m\u001b[0;32m    730\u001b[0m \u001b[1;33m\u001b[0m\u001b[0m\n\u001b[0;32m    731\u001b[0m     \u001b[1;32mreturn\u001b[0m \u001b[0marr\u001b[0m\u001b[1;33m.\u001b[0m\u001b[0mview\u001b[0m\u001b[1;33m(\u001b[0m\u001b[0mdtype\u001b[0m\u001b[1;33m)\u001b[0m\u001b[1;33m\u001b[0m\u001b[1;33m\u001b[0m\u001b[0m\n",
      "\u001b[1;31mValueError\u001b[0m: could not convert string to float: '- '"
     ],
     "ename": "ValueError",
     "evalue": "could not convert string to float: '- '",
     "output_type": "error"
    }
   ],
   "source": [
    "#\n",
    "#nfl_df[['base_salary', 'cap_hit', 'option_bonus', 'other_bonus','option_bonus', 'restruct_bonus', 'roster_bonus', 'signing_bonus', 'workout_bonus']]\\\n",
    "#    = nfl_df[['base_salary', 'cap_hit', 'option_bonus', 'other_bonus','option_bonus', 'restruct_bonus', 'roster_bonus', 'signing_bonus', 'workout_bonus']].astype(float)"
   ],
   "metadata": {
    "collapsed": false,
    "pycharm": {
     "name": "#%%\n",
     "is_executing": false
    }
   }
  },
  {
   "cell_type": "code",
   "execution_count": 4,
   "outputs": [
    {
     "data": {
      "text/plain": "base_salary           0\ncap_hit             191\ncap_perc              0\ndead_cap_amt          0\nname                451\noption_bonus          0\nother_bonus           7\nposition              0\nrestruct_bonus        0\nroster_bonus          0\nroster_status         0\nsigning_bonus         2\nteam              41897\nworkout_bonus         0\nyear                  0\ndtype: int64"
     },
     "metadata": {},
     "output_type": "execute_result",
     "execution_count": 4
    }
   ],
   "source": [
    "def str_contains_dash(string_input: str) -> bool:\n",
    "    if type(string_input) in (int, float):\n",
    "        return False\n",
    "    else:\n",
    "        return string_input.find(\"-\") != -1\n",
    "    \n",
    "nfl_df.applymap(func=str_contains_dash).sum()"
   ],
   "metadata": {
    "collapsed": false,
    "pycharm": {
     "name": "#%%\n",
     "is_executing": false
    }
   }
  },
  {
   "cell_type": "code",
   "execution_count": 15,
   "outputs": [
    {
     "data": {
      "text/plain": "       cap_hit  signing_bonus  other_bonus\n0        False          False        False\n1        False          False        False\n2        False          False        False\n3        False          False        False\n4        False          False        False\n...        ...            ...          ...\n41892    False          False        False\n41893    False          False        False\n41894    False          False        False\n41895    False          False        False\n41896    False          False        False\n\n[41897 rows x 3 columns]",
      "text/html": "<div>\n<style scoped>\n    .dataframe tbody tr th:only-of-type {\n        vertical-align: middle;\n    }\n\n    .dataframe tbody tr th {\n        vertical-align: top;\n    }\n\n    .dataframe thead th {\n        text-align: right;\n    }\n</style>\n<table border=\"1\" class=\"dataframe\">\n  <thead>\n    <tr style=\"text-align: right;\">\n      <th></th>\n      <th>cap_hit</th>\n      <th>signing_bonus</th>\n      <th>other_bonus</th>\n    </tr>\n  </thead>\n  <tbody>\n    <tr>\n      <th>0</th>\n      <td>False</td>\n      <td>False</td>\n      <td>False</td>\n    </tr>\n    <tr>\n      <th>1</th>\n      <td>False</td>\n      <td>False</td>\n      <td>False</td>\n    </tr>\n    <tr>\n      <th>2</th>\n      <td>False</td>\n      <td>False</td>\n      <td>False</td>\n    </tr>\n    <tr>\n      <th>3</th>\n      <td>False</td>\n      <td>False</td>\n      <td>False</td>\n    </tr>\n    <tr>\n      <th>4</th>\n      <td>False</td>\n      <td>False</td>\n      <td>False</td>\n    </tr>\n    <tr>\n      <th>...</th>\n      <td>...</td>\n      <td>...</td>\n      <td>...</td>\n    </tr>\n    <tr>\n      <th>41892</th>\n      <td>False</td>\n      <td>False</td>\n      <td>False</td>\n    </tr>\n    <tr>\n      <th>41893</th>\n      <td>False</td>\n      <td>False</td>\n      <td>False</td>\n    </tr>\n    <tr>\n      <th>41894</th>\n      <td>False</td>\n      <td>False</td>\n      <td>False</td>\n    </tr>\n    <tr>\n      <th>41895</th>\n      <td>False</td>\n      <td>False</td>\n      <td>False</td>\n    </tr>\n    <tr>\n      <th>41896</th>\n      <td>False</td>\n      <td>False</td>\n      <td>False</td>\n    </tr>\n  </tbody>\n</table>\n<p>41897 rows × 3 columns</p>\n</div>"
     },
     "metadata": {},
     "output_type": "execute_result",
     "execution_count": 15
    }
   ],
   "source": [
    "nfl_df[['cap_hit', 'signing_bonus', 'other_bonus']].applymap(str_contains_dash)\n"
   ],
   "metadata": {
    "collapsed": false,
    "pycharm": {
     "name": "#%%\n",
     "is_executing": false
    }
   }
  },
  {
   "cell_type": "code",
   "execution_count": 19,
   "outputs": [
    {
     "data": {
      "text/plain": "      base_salary    cap_hit  cap_perc dead_cap_amt             name  \\\n20987     5750000   8675000       7.96            0    Philip Rivers   \n21031     6500000   9675000       8.34            0    Philip Rivers   \n22496     1235000   9482500       7.65            0       Chris Long   \n22565    10310000  19007500      15.76            0       Chris Long   \n31667     7045000  10873833       8.81      1666666  Darren McFadden   \n31726     5650000   9478833       7.86      1666666  Darren McFadden   \n31813     5856250   9685084       7.58      1666668  Darren McFadden   \n\n      option_bonus other_bonus position restruct_bonus roster_bonus  \\\n20987      1325000    -1300000       QB        1625000            0   \n21031      1325000    -1050000       QB        1625000            0   \n22496      4050000    -1852500       DE        6050000            0   \n22565      4500000    -1852500       DE        6050000            0   \n31667            0     -844333       RB        3006500      1666666   \n31726            0     -844333       RB        3006500      1666666   \n31813            0     -844334       RB        3006500      1666668   \n\n      roster_status signing_bonus                  team workout_bonus  year  \n20987        active       1275000  los-angeles-chargers             0  2007  \n21031        active       1275000  los-angeles-chargers             0  2008  \n22496        active             0      los-angeles-rams             0  2011  \n22565        active             0      los-angeles-rams             0  2012  \n31667        active             0       oakland-raiders             0  2011  \n31726        active             0       oakland-raiders             0  2012  \n31813        active             0       oakland-raiders             0  2013  ",
      "text/html": "<div>\n<style scoped>\n    .dataframe tbody tr th:only-of-type {\n        vertical-align: middle;\n    }\n\n    .dataframe tbody tr th {\n        vertical-align: top;\n    }\n\n    .dataframe thead th {\n        text-align: right;\n    }\n</style>\n<table border=\"1\" class=\"dataframe\">\n  <thead>\n    <tr style=\"text-align: right;\">\n      <th></th>\n      <th>base_salary</th>\n      <th>cap_hit</th>\n      <th>cap_perc</th>\n      <th>dead_cap_amt</th>\n      <th>name</th>\n      <th>option_bonus</th>\n      <th>other_bonus</th>\n      <th>position</th>\n      <th>restruct_bonus</th>\n      <th>roster_bonus</th>\n      <th>roster_status</th>\n      <th>signing_bonus</th>\n      <th>team</th>\n      <th>workout_bonus</th>\n      <th>year</th>\n    </tr>\n  </thead>\n  <tbody>\n    <tr>\n      <th>20987</th>\n      <td>5750000</td>\n      <td>8675000</td>\n      <td>7.96</td>\n      <td>0</td>\n      <td>Philip Rivers</td>\n      <td>1325000</td>\n      <td>-1300000</td>\n      <td>QB</td>\n      <td>1625000</td>\n      <td>0</td>\n      <td>active</td>\n      <td>1275000</td>\n      <td>los-angeles-chargers</td>\n      <td>0</td>\n      <td>2007</td>\n    </tr>\n    <tr>\n      <th>21031</th>\n      <td>6500000</td>\n      <td>9675000</td>\n      <td>8.34</td>\n      <td>0</td>\n      <td>Philip Rivers</td>\n      <td>1325000</td>\n      <td>-1050000</td>\n      <td>QB</td>\n      <td>1625000</td>\n      <td>0</td>\n      <td>active</td>\n      <td>1275000</td>\n      <td>los-angeles-chargers</td>\n      <td>0</td>\n      <td>2008</td>\n    </tr>\n    <tr>\n      <th>22496</th>\n      <td>1235000</td>\n      <td>9482500</td>\n      <td>7.65</td>\n      <td>0</td>\n      <td>Chris Long</td>\n      <td>4050000</td>\n      <td>-1852500</td>\n      <td>DE</td>\n      <td>6050000</td>\n      <td>0</td>\n      <td>active</td>\n      <td>0</td>\n      <td>los-angeles-rams</td>\n      <td>0</td>\n      <td>2011</td>\n    </tr>\n    <tr>\n      <th>22565</th>\n      <td>10310000</td>\n      <td>19007500</td>\n      <td>15.76</td>\n      <td>0</td>\n      <td>Chris Long</td>\n      <td>4500000</td>\n      <td>-1852500</td>\n      <td>DE</td>\n      <td>6050000</td>\n      <td>0</td>\n      <td>active</td>\n      <td>0</td>\n      <td>los-angeles-rams</td>\n      <td>0</td>\n      <td>2012</td>\n    </tr>\n    <tr>\n      <th>31667</th>\n      <td>7045000</td>\n      <td>10873833</td>\n      <td>8.81</td>\n      <td>1666666</td>\n      <td>Darren McFadden</td>\n      <td>0</td>\n      <td>-844333</td>\n      <td>RB</td>\n      <td>3006500</td>\n      <td>1666666</td>\n      <td>active</td>\n      <td>0</td>\n      <td>oakland-raiders</td>\n      <td>0</td>\n      <td>2011</td>\n    </tr>\n    <tr>\n      <th>31726</th>\n      <td>5650000</td>\n      <td>9478833</td>\n      <td>7.86</td>\n      <td>1666666</td>\n      <td>Darren McFadden</td>\n      <td>0</td>\n      <td>-844333</td>\n      <td>RB</td>\n      <td>3006500</td>\n      <td>1666666</td>\n      <td>active</td>\n      <td>0</td>\n      <td>oakland-raiders</td>\n      <td>0</td>\n      <td>2012</td>\n    </tr>\n    <tr>\n      <th>31813</th>\n      <td>5856250</td>\n      <td>9685084</td>\n      <td>7.58</td>\n      <td>1666668</td>\n      <td>Darren McFadden</td>\n      <td>0</td>\n      <td>-844334</td>\n      <td>RB</td>\n      <td>3006500</td>\n      <td>1666668</td>\n      <td>active</td>\n      <td>0</td>\n      <td>oakland-raiders</td>\n      <td>0</td>\n      <td>2013</td>\n    </tr>\n  </tbody>\n</table>\n</div>"
     },
     "metadata": {},
     "output_type": "execute_result",
     "execution_count": 19
    }
   ],
   "source": [
    "mask = nfl_df[['other_bonus']].applymap(str_contains_dash).any(axis='columns')\n",
    "nfl_df[mask]"
   ],
   "metadata": {
    "collapsed": false,
    "pycharm": {
     "name": "#%%\n",
     "is_executing": false
    }
   }
  },
  {
   "cell_type": "code",
   "execution_count": 27,
   "outputs": [
    {
     "data": {
      "text/plain": "      base_salary cap_hit  cap_perc dead_cap_amt              name  \\\n183        500000      -        0.0            0        Ben Graham   \n251        500000      -        NaN            0        Ben Graham   \n721        435000      -        0.0            0       Gabe Martin   \n722             0      -        0.0            0       Jason Babin   \n1547      2000000      -        0.0            0    Chauncey Davis   \n...           ...     ...       ...          ...               ...   \n41886           0      -        0.0            0        Paul Adams   \n41887           0      -        0.0            0          Ryan Bee   \n41888           0      -        0.0            0      Emanuel Hall   \n41889           0      -        0.0            0  Cameron Malveaux   \n41890           0      -        0.0            0      Jordan Veasy   \n\n      option_bonus other_bonus position restruct_bonus roster_bonus  \\\n183              0           0        P              0            0   \n251              0           0        P              0            0   \n721              0           0      ILB              0            0   \n722              0           0       DE              0            0   \n1547             0           0       DE              0            0   \n...            ...         ...      ...            ...          ...   \n41886            0           0        T              0            0   \n41887            0           0       DT              0            0   \n41888            0           0       WR              0            0   \n41889            0           0       DE              0            0   \n41890            0           0       WR              0            0   \n\n      roster_status signing_bonus                 team workout_bonus  year  \n183          active             0    arizona-cardinals             0  2009  \n251          active             0    arizona-cardinals             0  2010  \n721          active             0    arizona-cardinals             0  2015  \n722          active             0    arizona-cardinals             0  2015  \n1547         active        750000      atlanta-falcons             0  2009  \n...             ...           ...                  ...           ...   ...  \n41886        active             0  washington-redskins             0  2020  \n41887        active             0  washington-redskins             0  2020  \n41888        active             0  washington-redskins             0  2020  \n41889        active             0  washington-redskins             0  2020  \n41890        active             0  washington-redskins             0  2020  \n\n[191 rows x 15 columns]",
      "text/html": "<div>\n<style scoped>\n    .dataframe tbody tr th:only-of-type {\n        vertical-align: middle;\n    }\n\n    .dataframe tbody tr th {\n        vertical-align: top;\n    }\n\n    .dataframe thead th {\n        text-align: right;\n    }\n</style>\n<table border=\"1\" class=\"dataframe\">\n  <thead>\n    <tr style=\"text-align: right;\">\n      <th></th>\n      <th>base_salary</th>\n      <th>cap_hit</th>\n      <th>cap_perc</th>\n      <th>dead_cap_amt</th>\n      <th>name</th>\n      <th>option_bonus</th>\n      <th>other_bonus</th>\n      <th>position</th>\n      <th>restruct_bonus</th>\n      <th>roster_bonus</th>\n      <th>roster_status</th>\n      <th>signing_bonus</th>\n      <th>team</th>\n      <th>workout_bonus</th>\n      <th>year</th>\n    </tr>\n  </thead>\n  <tbody>\n    <tr>\n      <th>183</th>\n      <td>500000</td>\n      <td>-</td>\n      <td>0.0</td>\n      <td>0</td>\n      <td>Ben Graham</td>\n      <td>0</td>\n      <td>0</td>\n      <td>P</td>\n      <td>0</td>\n      <td>0</td>\n      <td>active</td>\n      <td>0</td>\n      <td>arizona-cardinals</td>\n      <td>0</td>\n      <td>2009</td>\n    </tr>\n    <tr>\n      <th>251</th>\n      <td>500000</td>\n      <td>-</td>\n      <td>NaN</td>\n      <td>0</td>\n      <td>Ben Graham</td>\n      <td>0</td>\n      <td>0</td>\n      <td>P</td>\n      <td>0</td>\n      <td>0</td>\n      <td>active</td>\n      <td>0</td>\n      <td>arizona-cardinals</td>\n      <td>0</td>\n      <td>2010</td>\n    </tr>\n    <tr>\n      <th>721</th>\n      <td>435000</td>\n      <td>-</td>\n      <td>0.0</td>\n      <td>0</td>\n      <td>Gabe Martin</td>\n      <td>0</td>\n      <td>0</td>\n      <td>ILB</td>\n      <td>0</td>\n      <td>0</td>\n      <td>active</td>\n      <td>0</td>\n      <td>arizona-cardinals</td>\n      <td>0</td>\n      <td>2015</td>\n    </tr>\n    <tr>\n      <th>722</th>\n      <td>0</td>\n      <td>-</td>\n      <td>0.0</td>\n      <td>0</td>\n      <td>Jason Babin</td>\n      <td>0</td>\n      <td>0</td>\n      <td>DE</td>\n      <td>0</td>\n      <td>0</td>\n      <td>active</td>\n      <td>0</td>\n      <td>arizona-cardinals</td>\n      <td>0</td>\n      <td>2015</td>\n    </tr>\n    <tr>\n      <th>1547</th>\n      <td>2000000</td>\n      <td>-</td>\n      <td>0.0</td>\n      <td>0</td>\n      <td>Chauncey Davis</td>\n      <td>0</td>\n      <td>0</td>\n      <td>DE</td>\n      <td>0</td>\n      <td>0</td>\n      <td>active</td>\n      <td>750000</td>\n      <td>atlanta-falcons</td>\n      <td>0</td>\n      <td>2009</td>\n    </tr>\n    <tr>\n      <th>...</th>\n      <td>...</td>\n      <td>...</td>\n      <td>...</td>\n      <td>...</td>\n      <td>...</td>\n      <td>...</td>\n      <td>...</td>\n      <td>...</td>\n      <td>...</td>\n      <td>...</td>\n      <td>...</td>\n      <td>...</td>\n      <td>...</td>\n      <td>...</td>\n      <td>...</td>\n    </tr>\n    <tr>\n      <th>41886</th>\n      <td>0</td>\n      <td>-</td>\n      <td>0.0</td>\n      <td>0</td>\n      <td>Paul Adams</td>\n      <td>0</td>\n      <td>0</td>\n      <td>T</td>\n      <td>0</td>\n      <td>0</td>\n      <td>active</td>\n      <td>0</td>\n      <td>washington-redskins</td>\n      <td>0</td>\n      <td>2020</td>\n    </tr>\n    <tr>\n      <th>41887</th>\n      <td>0</td>\n      <td>-</td>\n      <td>0.0</td>\n      <td>0</td>\n      <td>Ryan Bee</td>\n      <td>0</td>\n      <td>0</td>\n      <td>DT</td>\n      <td>0</td>\n      <td>0</td>\n      <td>active</td>\n      <td>0</td>\n      <td>washington-redskins</td>\n      <td>0</td>\n      <td>2020</td>\n    </tr>\n    <tr>\n      <th>41888</th>\n      <td>0</td>\n      <td>-</td>\n      <td>0.0</td>\n      <td>0</td>\n      <td>Emanuel Hall</td>\n      <td>0</td>\n      <td>0</td>\n      <td>WR</td>\n      <td>0</td>\n      <td>0</td>\n      <td>active</td>\n      <td>0</td>\n      <td>washington-redskins</td>\n      <td>0</td>\n      <td>2020</td>\n    </tr>\n    <tr>\n      <th>41889</th>\n      <td>0</td>\n      <td>-</td>\n      <td>0.0</td>\n      <td>0</td>\n      <td>Cameron Malveaux</td>\n      <td>0</td>\n      <td>0</td>\n      <td>DE</td>\n      <td>0</td>\n      <td>0</td>\n      <td>active</td>\n      <td>0</td>\n      <td>washington-redskins</td>\n      <td>0</td>\n      <td>2020</td>\n    </tr>\n    <tr>\n      <th>41890</th>\n      <td>0</td>\n      <td>-</td>\n      <td>0.0</td>\n      <td>0</td>\n      <td>Jordan Veasy</td>\n      <td>0</td>\n      <td>0</td>\n      <td>WR</td>\n      <td>0</td>\n      <td>0</td>\n      <td>active</td>\n      <td>0</td>\n      <td>washington-redskins</td>\n      <td>0</td>\n      <td>2020</td>\n    </tr>\n  </tbody>\n</table>\n<p>191 rows × 15 columns</p>\n</div>"
     },
     "metadata": {},
     "output_type": "execute_result",
     "execution_count": 27
    }
   ],
   "source": [
    "mask = nfl_df[['cap_hit']].applymap(str_contains_dash).any(axis='columns')\n",
    "nfl_df[mask]\n"
   ],
   "metadata": {
    "collapsed": false,
    "pycharm": {
     "name": "#%%\n",
     "is_executing": false
    }
   }
  },
  {
   "cell_type": "code",
   "execution_count": 31,
   "outputs": [
    {
     "data": {
      "text/plain": "      base_salary cap_hit  cap_perc dead_cap_amt            name option_bonus  \\\n183        500000      -        0.0            0      Ben Graham            0   \n251        500000      -        NaN            0      Ben Graham            0   \n721        435000      -        0.0            0     Gabe Martin            0   \n722             0      -        0.0            0     Jason Babin            0   \n1547      2000000      -        0.0            0  Chauncey Davis            0   \n...           ...     ...       ...          ...             ...          ...   \n40570      285000      -        0.0            0    Chris Wilson            0   \n40616      370000      -        0.0            0    Chris Wilson            0   \n40667      460000      -        0.0            0    Chris Wilson            0   \n41245           0      -        0.0            0   Cary Williams            0   \n41654           0      -        0.0            0    Chris Cooper            0   \n\n      other_bonus position restruct_bonus roster_bonus   roster_status  \\\n183             0        P              0            0          active   \n251             0        P              0            0          active   \n721             0      ILB              0            0          active   \n722             0       DE              0            0          active   \n1547            0       DE              0            0          active   \n...           ...      ...            ...          ...             ...   \n40570           0       LB              0            0          active   \n40616           0       LB              0            0          active   \n40667           0       LB              0            0          active   \n41245           0       CB              0            0          active   \n41654           0        S              0            0  practice_squad   \n\n      signing_bonus                 team workout_bonus  year  \n183               0    arizona-cardinals             0  2009  \n251               0    arizona-cardinals             0  2010  \n721               0    arizona-cardinals             0  2015  \n722               0    arizona-cardinals             0  2015  \n1547         750000      atlanta-falcons             0  2009  \n...             ...                  ...           ...   ...  \n40570             0  washington-redskins             0  2007  \n40616             0  washington-redskins             0  2008  \n40667             0  washington-redskins             0  2009  \n41245             0  washington-redskins             0  2015  \n41654             0  washington-redskins             0  2018  \n\n[63 rows x 15 columns]",
      "text/html": "<div>\n<style scoped>\n    .dataframe tbody tr th:only-of-type {\n        vertical-align: middle;\n    }\n\n    .dataframe tbody tr th {\n        vertical-align: top;\n    }\n\n    .dataframe thead th {\n        text-align: right;\n    }\n</style>\n<table border=\"1\" class=\"dataframe\">\n  <thead>\n    <tr style=\"text-align: right;\">\n      <th></th>\n      <th>base_salary</th>\n      <th>cap_hit</th>\n      <th>cap_perc</th>\n      <th>dead_cap_amt</th>\n      <th>name</th>\n      <th>option_bonus</th>\n      <th>other_bonus</th>\n      <th>position</th>\n      <th>restruct_bonus</th>\n      <th>roster_bonus</th>\n      <th>roster_status</th>\n      <th>signing_bonus</th>\n      <th>team</th>\n      <th>workout_bonus</th>\n      <th>year</th>\n    </tr>\n  </thead>\n  <tbody>\n    <tr>\n      <th>183</th>\n      <td>500000</td>\n      <td>-</td>\n      <td>0.0</td>\n      <td>0</td>\n      <td>Ben Graham</td>\n      <td>0</td>\n      <td>0</td>\n      <td>P</td>\n      <td>0</td>\n      <td>0</td>\n      <td>active</td>\n      <td>0</td>\n      <td>arizona-cardinals</td>\n      <td>0</td>\n      <td>2009</td>\n    </tr>\n    <tr>\n      <th>251</th>\n      <td>500000</td>\n      <td>-</td>\n      <td>NaN</td>\n      <td>0</td>\n      <td>Ben Graham</td>\n      <td>0</td>\n      <td>0</td>\n      <td>P</td>\n      <td>0</td>\n      <td>0</td>\n      <td>active</td>\n      <td>0</td>\n      <td>arizona-cardinals</td>\n      <td>0</td>\n      <td>2010</td>\n    </tr>\n    <tr>\n      <th>721</th>\n      <td>435000</td>\n      <td>-</td>\n      <td>0.0</td>\n      <td>0</td>\n      <td>Gabe Martin</td>\n      <td>0</td>\n      <td>0</td>\n      <td>ILB</td>\n      <td>0</td>\n      <td>0</td>\n      <td>active</td>\n      <td>0</td>\n      <td>arizona-cardinals</td>\n      <td>0</td>\n      <td>2015</td>\n    </tr>\n    <tr>\n      <th>722</th>\n      <td>0</td>\n      <td>-</td>\n      <td>0.0</td>\n      <td>0</td>\n      <td>Jason Babin</td>\n      <td>0</td>\n      <td>0</td>\n      <td>DE</td>\n      <td>0</td>\n      <td>0</td>\n      <td>active</td>\n      <td>0</td>\n      <td>arizona-cardinals</td>\n      <td>0</td>\n      <td>2015</td>\n    </tr>\n    <tr>\n      <th>1547</th>\n      <td>2000000</td>\n      <td>-</td>\n      <td>0.0</td>\n      <td>0</td>\n      <td>Chauncey Davis</td>\n      <td>0</td>\n      <td>0</td>\n      <td>DE</td>\n      <td>0</td>\n      <td>0</td>\n      <td>active</td>\n      <td>750000</td>\n      <td>atlanta-falcons</td>\n      <td>0</td>\n      <td>2009</td>\n    </tr>\n    <tr>\n      <th>...</th>\n      <td>...</td>\n      <td>...</td>\n      <td>...</td>\n      <td>...</td>\n      <td>...</td>\n      <td>...</td>\n      <td>...</td>\n      <td>...</td>\n      <td>...</td>\n      <td>...</td>\n      <td>...</td>\n      <td>...</td>\n      <td>...</td>\n      <td>...</td>\n      <td>...</td>\n    </tr>\n    <tr>\n      <th>40570</th>\n      <td>285000</td>\n      <td>-</td>\n      <td>0.0</td>\n      <td>0</td>\n      <td>Chris Wilson</td>\n      <td>0</td>\n      <td>0</td>\n      <td>LB</td>\n      <td>0</td>\n      <td>0</td>\n      <td>active</td>\n      <td>0</td>\n      <td>washington-redskins</td>\n      <td>0</td>\n      <td>2007</td>\n    </tr>\n    <tr>\n      <th>40616</th>\n      <td>370000</td>\n      <td>-</td>\n      <td>0.0</td>\n      <td>0</td>\n      <td>Chris Wilson</td>\n      <td>0</td>\n      <td>0</td>\n      <td>LB</td>\n      <td>0</td>\n      <td>0</td>\n      <td>active</td>\n      <td>0</td>\n      <td>washington-redskins</td>\n      <td>0</td>\n      <td>2008</td>\n    </tr>\n    <tr>\n      <th>40667</th>\n      <td>460000</td>\n      <td>-</td>\n      <td>0.0</td>\n      <td>0</td>\n      <td>Chris Wilson</td>\n      <td>0</td>\n      <td>0</td>\n      <td>LB</td>\n      <td>0</td>\n      <td>0</td>\n      <td>active</td>\n      <td>0</td>\n      <td>washington-redskins</td>\n      <td>0</td>\n      <td>2009</td>\n    </tr>\n    <tr>\n      <th>41245</th>\n      <td>0</td>\n      <td>-</td>\n      <td>0.0</td>\n      <td>0</td>\n      <td>Cary Williams</td>\n      <td>0</td>\n      <td>0</td>\n      <td>CB</td>\n      <td>0</td>\n      <td>0</td>\n      <td>active</td>\n      <td>0</td>\n      <td>washington-redskins</td>\n      <td>0</td>\n      <td>2015</td>\n    </tr>\n    <tr>\n      <th>41654</th>\n      <td>0</td>\n      <td>-</td>\n      <td>0.0</td>\n      <td>0</td>\n      <td>Chris Cooper</td>\n      <td>0</td>\n      <td>0</td>\n      <td>S</td>\n      <td>0</td>\n      <td>0</td>\n      <td>practice_squad</td>\n      <td>0</td>\n      <td>washington-redskins</td>\n      <td>0</td>\n      <td>2018</td>\n    </tr>\n  </tbody>\n</table>\n<p>63 rows × 15 columns</p>\n</div>"
     },
     "metadata": {},
     "output_type": "execute_result",
     "execution_count": 31
    }
   ],
   "source": [
    "nfl_df.dtypes\n",
    "nfl_df[(nfl_df['year'] != 2020) & mask]"
   ],
   "metadata": {
    "collapsed": false,
    "pycharm": {
     "name": "#%%\n",
     "is_executing": false
    }
   }
  },
  {
   "cell_type": "code",
   "execution_count": 32,
   "outputs": [
    {
     "data": {
      "text/plain": "      base_salary   cap_hit  cap_perc dead_cap_amt         name option_bonus  \\\n31735      612500  2804412       2.33            0  Ron Bartell            0   \n39645      700000   393750       0.33            0    Zac Diles            0   \n\n      other_bonus position restruct_bonus roster_bonus    roster_status  \\\n31735           0       CB              0            0           active   \n39645           0      ILB              0            0  injured_reserve   \n\n      signing_bonus              team workout_bonus  year  \n31735       -108088   oakland-raiders             0  2012  \n39645       -306250  tennessee-titans             0  2012  ",
      "text/html": "<div>\n<style scoped>\n    .dataframe tbody tr th:only-of-type {\n        vertical-align: middle;\n    }\n\n    .dataframe tbody tr th {\n        vertical-align: top;\n    }\n\n    .dataframe thead th {\n        text-align: right;\n    }\n</style>\n<table border=\"1\" class=\"dataframe\">\n  <thead>\n    <tr style=\"text-align: right;\">\n      <th></th>\n      <th>base_salary</th>\n      <th>cap_hit</th>\n      <th>cap_perc</th>\n      <th>dead_cap_amt</th>\n      <th>name</th>\n      <th>option_bonus</th>\n      <th>other_bonus</th>\n      <th>position</th>\n      <th>restruct_bonus</th>\n      <th>roster_bonus</th>\n      <th>roster_status</th>\n      <th>signing_bonus</th>\n      <th>team</th>\n      <th>workout_bonus</th>\n      <th>year</th>\n    </tr>\n  </thead>\n  <tbody>\n    <tr>\n      <th>31735</th>\n      <td>612500</td>\n      <td>2804412</td>\n      <td>2.33</td>\n      <td>0</td>\n      <td>Ron Bartell</td>\n      <td>0</td>\n      <td>0</td>\n      <td>CB</td>\n      <td>0</td>\n      <td>0</td>\n      <td>active</td>\n      <td>-108088</td>\n      <td>oakland-raiders</td>\n      <td>0</td>\n      <td>2012</td>\n    </tr>\n    <tr>\n      <th>39645</th>\n      <td>700000</td>\n      <td>393750</td>\n      <td>0.33</td>\n      <td>0</td>\n      <td>Zac Diles</td>\n      <td>0</td>\n      <td>0</td>\n      <td>ILB</td>\n      <td>0</td>\n      <td>0</td>\n      <td>injured_reserve</td>\n      <td>-306250</td>\n      <td>tennessee-titans</td>\n      <td>0</td>\n      <td>2012</td>\n    </tr>\n  </tbody>\n</table>\n</div>"
     },
     "metadata": {},
     "output_type": "execute_result",
     "execution_count": 32
    }
   ],
   "source": [
    "mask = nfl_df[['signing_bonus']].applymap(str_contains_dash).any(axis='columns')\n",
    "nfl_df[mask]\n",
    "\n"
   ],
   "metadata": {
    "collapsed": false,
    "pycharm": {
     "name": "#%%\n",
     "is_executing": false
    }
   }
  },
  {
   "cell_type": "code",
   "execution_count": 29,
   "outputs": [],
   "source": [
    "nfl_df[['base_salary', 'option_bonus', 'other_bonus','option_bonus', 'restruct_bonus', 'roster_bonus', 'signing_bonus', 'workout_bonus']] = \\\n",
    "    nfl_df[['base_salary', 'option_bonus', 'other_bonus','option_bonus', 'restruct_bonus', 'roster_bonus', 'signing_bonus', 'workout_bonus']].apply(pd.to_numeric)\n"
   ],
   "metadata": {
    "collapsed": false,
    "pycharm": {
     "name": "#%%\n",
     "is_executing": false
    }
   }
  },
  {
   "cell_type": "code",
   "execution_count": 30,
   "outputs": [
    {
     "data": {
      "text/plain": "base_salary         int64\ncap_hit            object\ncap_perc          float64\ndead_cap_amt       object\nname               object\noption_bonus        int64\nother_bonus         int64\nposition           object\nrestruct_bonus      int64\nroster_bonus        int64\nroster_status      object\nsigning_bonus       int64\nteam               object\nworkout_bonus       int64\nyear                int64\ndtype: object"
     },
     "metadata": {},
     "output_type": "execute_result",
     "execution_count": 30
    }
   ],
   "source": [
    "nfl_df.dtypes\n",
    "\n"
   ],
   "metadata": {
    "collapsed": false,
    "pycharm": {
     "name": "#%%\n",
     "is_executing": false
    }
   }
  },
  {
   "cell_type": "code",
   "execution_count": 31,
   "outputs": [],
   "source": [
    "nfl_df = nfl_df.astype({'team': 'category', 'position': 'category', 'roster_status': 'category'})"
   ],
   "metadata": {
    "collapsed": false,
    "pycharm": {
     "name": "#%%\n",
     "is_executing": false
    }
   }
  },
  {
   "cell_type": "code",
   "execution_count": 32,
   "outputs": [
    {
     "data": {
      "text/plain": "base_salary          int64\ncap_hit             object\ncap_perc           float64\ndead_cap_amt        object\nname                object\noption_bonus         int64\nother_bonus          int64\nposition          category\nrestruct_bonus       int64\nroster_bonus         int64\nroster_status     category\nsigning_bonus        int64\nteam              category\nworkout_bonus        int64\nyear                 int64\ndtype: object"
     },
     "metadata": {},
     "output_type": "execute_result",
     "execution_count": 32
    }
   ],
   "source": [
    "nfl_df.dtypes"
   ],
   "metadata": {
    "collapsed": false,
    "pycharm": {
     "name": "#%%\n",
     "is_executing": false
    }
   }
  },
  {
   "cell_type": "code",
   "execution_count": 33,
   "outputs": [],
   "source": [
    "nfl_df['bonus_total'] =nfl_df[['option_bonus', 'other_bonus','option_bonus', 'restruct_bonus', 'roster_bonus', 'signing_bonus', 'workout_bonus']].apply(func=sum, axis='columns')"
   ],
   "metadata": {
    "collapsed": false,
    "pycharm": {
     "name": "#%%\n",
     "is_executing": false
    }
   }
  },
  {
   "cell_type": "code",
   "execution_count": 35,
   "outputs": [],
   "source": [
    "nfl_df['total_money'] = nfl_df['base_salary'] + nfl_df['bonus_total']"
   ],
   "metadata": {
    "collapsed": false,
    "pycharm": {
     "name": "#%%\n",
     "is_executing": false
    }
   }
  },
  {
   "cell_type": "code",
   "execution_count": 37,
   "outputs": [
    {
     "data": {
      "text/plain": "position\nLT     6.529224e+06\nQB     3.926725e+06\nRT     2.705796e+06\nSS     2.642289e+06\nFS     2.443230e+06\nC      1.882187e+06\nDE     1.852862e+06\nILB    1.840445e+06\nOLB    1.786370e+06\nG      1.718488e+06\nCB     1.605054e+06\nDT     1.564459e+06\nWR     1.397259e+06\nK      1.330388e+06\nTE     1.106909e+06\nP      1.018012e+06\nRB     8.770254e+05\nFB     7.312014e+05\nLS     6.637931e+05\nS      4.196757e+05\nLB     3.485929e+05\nT      2.892217e+05\nKR              NaN\nPR              NaN\nName: total_money, dtype: float64"
     },
     "metadata": {},
     "output_type": "execute_result",
     "execution_count": 37
    }
   ],
   "source": [
    "nfl_df.loc[nfl_df['year'] == 2019, :].groupby('position').mean()['total_money'].sort_values(ascending=False)"
   ],
   "metadata": {
    "collapsed": false,
    "pycharm": {
     "name": "#%%\n",
     "is_executing": false
    }
   }
  },
  {
   "cell_type": "code",
   "execution_count": 38,
   "outputs": [
    {
     "data": {
      "text/plain": "WR     527\nCB     402\nDE     292\nRB     272\nDT     267\nTE     257\nG      228\nOLB    224\nS      182\nT      179\nQB     171\nILB    149\nLB     131\nC      111\nFS      76\nRT      72\nK       62\nSS      61\nP       52\nLS      45\nLT      44\nFB      39\nKR       0\nPR       0\nName: position, dtype: int64"
     },
     "metadata": {},
     "output_type": "execute_result",
     "execution_count": 38
    }
   ],
   "source": [
    "nfl_df.loc[nfl_df['year'] == 2019, :]['position'].value_counts()"
   ],
   "metadata": {
    "collapsed": false,
    "pycharm": {
     "name": "#%%\n",
     "is_executing": false
    }
   }
  },
  {
   "cell_type": "code",
   "execution_count": 40,
   "outputs": [
    {
     "data": {
      "text/plain": "year  position\n2007  C           9.838218e+05\n      CB          1.158638e+06\n      DE          1.646297e+06\n      DT          1.492320e+06\n      FB          4.531301e+05\n                      ...     \n2019  S           4.196757e+05\n      SS          2.642289e+06\n      T           2.892217e+05\n      TE          1.106909e+06\n      WR          1.397259e+06\nName: total_money, Length: 312, dtype: float64"
     },
     "metadata": {},
     "output_type": "execute_result",
     "execution_count": 40
    }
   ],
   "source": [
    "nfl_df.loc[nfl_df['year'] != 2020, :].groupby(['year', 'position']).mean()['total_money']\n"
   ],
   "metadata": {
    "collapsed": false,
    "pycharm": {
     "name": "#%%\n",
     "is_executing": false
    }
   }
  },
  {
   "cell_type": "code",
   "execution_count": 42,
   "outputs": [
    {
     "data": {
      "text/plain": "position\nLT     3.793634e+06\nQB     3.684463e+06\nFS     2.146900e+06\nRT     1.828583e+06\nSS     1.774645e+06\nG      1.587254e+06\nDT     1.569139e+06\nP      1.553796e+06\nC      1.516144e+06\nDE     1.498598e+06\nOLB    1.422049e+06\nCB     1.343635e+06\nWR     1.214940e+06\nTE     1.154193e+06\nK      1.092308e+06\nILB    1.083745e+06\nRB     8.944164e+05\nLB     6.874380e+05\nLS     6.143754e+05\nFB     5.949891e+05\nS      3.145275e+05\nT      2.238998e+05\nKR              NaN\nPR              NaN\nName: total_money, dtype: float64"
     },
     "metadata": {},
     "output_type": "execute_result",
     "execution_count": 42
    }
   ],
   "source": [
    "nfl_df.loc[nfl_df['year'] == 2017, :].groupby('position').mean()['total_money'].sort_values(ascending=False)\n"
   ],
   "metadata": {
    "collapsed": false,
    "pycharm": {
     "name": "#%%\n",
     "is_executing": false
    }
   }
  },
  {
   "cell_type": "code",
   "execution_count": 46,
   "outputs": [
    {
     "data": {
      "text/plain": "<matplotlib.axes._subplots.AxesSubplot at 0x1d8791aa288>"
     },
     "metadata": {},
     "output_type": "execute_result",
     "execution_count": 46
    }
   ],
   "source": [
    "nfl_df.loc[(nfl_df['year'] == 2019) & (nfl_df['position'] == 'QB'), : 'total_money'].plot.hist()\n"
   ],
   "metadata": {
    "collapsed": false,
    "pycharm": {
     "name": "#%%\n",
     "is_executing": false
    }
   }
  },
  {
   "cell_type": "code",
   "execution_count": 51,
   "outputs": [
    {
     "data": {
      "text/plain": "<matplotlib.axes._subplots.AxesSubplot at 0x1d87b6c7b88>"
     },
     "metadata": {},
     "output_type": "execute_result",
     "execution_count": 51
    }
   ],
   "source": [
    "nfl_df.loc[(nfl_df['year'] == 2019) & (nfl_df['position'] == 'QB'), : ]['total_money'].plot.hist()\n"
   ],
   "metadata": {
    "collapsed": false,
    "pycharm": {
     "name": "#%%\n",
     "is_executing": false
    }
   }
  },
  {
   "cell_type": "code",
   "execution_count": 52,
   "outputs": [
    {
     "data": {
      "text/plain": "<matplotlib.axes._subplots.AxesSubplot at 0x1d87b6b9908>"
     },
     "metadata": {},
     "output_type": "execute_result",
     "execution_count": 52
    }
   ],
   "source": [
    "nfl_df.loc[(nfl_df['year'] == 2019) , : ]['total_money'].plot.hist()\n",
    "\n"
   ],
   "metadata": {
    "collapsed": false,
    "pycharm": {
     "name": "#%%\n",
     "is_executing": false
    }
   }
  },
  {
   "cell_type": "code",
   "execution_count": null,
   "outputs": [],
   "source": [
    "\n"
   ],
   "metadata": {
    "collapsed": false,
    "pycharm": {
     "name": "#%%\n"
    }
   }
  }
 ],
 "metadata": {
  "kernelspec": {
   "display_name": "Python 3",
   "language": "python",
   "name": "python3"
  },
  "language_info": {
   "codemirror_mode": {
    "name": "ipython",
    "version": 2
   },
   "file_extension": ".py",
   "mimetype": "text/x-python",
   "name": "python",
   "nbconvert_exporter": "python",
   "pygments_lexer": "ipython2",
   "version": "2.7.6"
  },
  "pycharm": {
   "stem_cell": {
    "cell_type": "raw",
    "source": [],
    "metadata": {
     "collapsed": false
    }
   }
  }
 },
 "nbformat": 4,
 "nbformat_minor": 0
}
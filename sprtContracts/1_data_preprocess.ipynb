{
 "nbformat": 4,
 "nbformat_minor": 2,
 "metadata": {
  "language_info": {
   "name": "python",
   "codemirror_mode": {
    "name": "ipython",
    "version": 3
   },
   "version": "3.7.6-final"
  },
  "orig_nbformat": 2,
  "file_extension": ".py",
  "mimetype": "text/x-python",
  "name": "python",
  "npconvert_exporter": "python",
  "pygments_lexer": "ipython3",
  "version": 3,
  "kernelspec": {
   "name": "python37664bitbaseconda78814975a87e45dd93a41087a924c115",
   "display_name": "Python 3.7.6 64-bit ('base': conda)"
  }
 },
 "cells": [
  {
   "cell_type": "code",
   "execution_count": 1,
   "metadata": {},
   "outputs": [
    {
     "name": "stdout",
     "output_type": "stream",
     "text": "Populating the interactive namespace from numpy and matplotlib\n"
    }
   ],
   "source": [
    "%pylab inline\n",
    "import pandas as pd\n",
    "import numpy as np\n",
    "from pandas import DataFrame, Series"
   ]
  },
  {
   "cell_type": "code",
   "execution_count": 2,
   "metadata": {},
   "outputs": [],
   "source": [
    "# header in first row\n",
    "# dashes treated as NaN to then be replaced by zeroes\n",
    "# the nfl_team_contracts represent the initial output as a result of the nfl_team_spider under the \"sprtContracts\" folder\n",
    "nfl_df = pd.read_csv(filepath_or_buffer=\"nfl_team_contracts.csv\", header=0, na_values='-').fillna(0)"
   ]
  },
  {
   "cell_type": "code",
   "execution_count": 3,
   "metadata": {},
   "outputs": [],
   "source": [
    "# replace $-sign and comma with empty spaces in preparation of columns that have these values being\n",
    "# converted to a numeric type\n",
    "nfl_df = nfl_df.replace(to_replace='[\\$,]', value='', regex=True)"
   ]
  },
  {
   "cell_type": "code",
   "execution_count": 4,
   "metadata": {},
   "outputs": [
    {
     "data": {
      "text/plain": "base_salary        object\ncap_hit            object\ncap_perc          float64\ndead_cap_amt       object\nname               object\noption_bonus       object\nother_bonus        object\nposition           object\nrestruct_bonus     object\nroster_bonus       object\nroster_status      object\nsigning_bonus      object\nteam               object\nworkout_bonus      object\nyear                int64\ndtype: object"
     },
     "execution_count": 4,
     "metadata": {},
     "output_type": "execute_result"
    }
   ],
   "source": [
    "nfl_df.dtypes"
   ]
  },
  {
   "cell_type": "code",
   "execution_count": 5,
   "metadata": {},
   "outputs": [],
   "source": [
    "# convert columns with monetary values to numeric\n",
    "# dead_cap_amount is not being converted b/c it will be dropped in further processing \n",
    "# it represents what the cap amount would be if the player were cut\n",
    "nfl_df[['base_salary', 'option_bonus', 'other_bonus','option_bonus', 'restruct_bonus', 'roster_bonus', 'signing_bonus', 'workout_bonus']] = \\\n",
    "    nfl_df[['base_salary', 'option_bonus', 'other_bonus','option_bonus', 'restruct_bonus', 'roster_bonus', 'signing_bonus', 'workout_bonus']].apply(pd.to_numeric)"
   ]
  },
  {
   "cell_type": "code",
   "execution_count": 6,
   "metadata": {},
   "outputs": [
    {
     "data": {
      "text/plain": "base_salary         int64\ncap_hit            object\ncap_perc          float64\ndead_cap_amt       object\nname               object\noption_bonus        int64\nother_bonus         int64\nposition           object\nrestruct_bonus      int64\nroster_bonus        int64\nroster_status      object\nsigning_bonus       int64\nteam               object\nworkout_bonus       int64\nyear                int64\ndtype: object"
     },
     "execution_count": 6,
     "metadata": {},
     "output_type": "execute_result"
    }
   ],
   "source": [
    "nfl_df.dtypes"
   ]
  },
  {
   "cell_type": "code",
   "execution_count": 7,
   "metadata": {},
   "outputs": [],
   "source": [
    "# convert position, team and roster_status to categorical data types\n",
    "nfl_df = nfl_df.astype({'team': 'category', 'position': 'category', 'roster_status': 'category'})"
   ]
  },
  {
   "cell_type": "code",
   "execution_count": 8,
   "metadata": {},
   "outputs": [
    {
     "data": {
      "text/plain": "base_salary          int64\ncap_hit             object\ncap_perc           float64\ndead_cap_amt        object\nname                object\noption_bonus         int64\nother_bonus          int64\nposition          category\nrestruct_bonus       int64\nroster_bonus         int64\nroster_status     category\nsigning_bonus        int64\nteam              category\nworkout_bonus        int64\nyear                 int64\ndtype: object"
     },
     "execution_count": 8,
     "metadata": {},
     "output_type": "execute_result"
    }
   ],
   "source": [
    "nfl_df.dtypes"
   ]
  },
  {
   "cell_type": "code",
   "execution_count": 9,
   "metadata": {},
   "outputs": [],
   "source": [
    "# collapse non-salary category into single bonus amount\n",
    "nfl_df['bonus_total'] =nfl_df[['option_bonus', 'other_bonus','option_bonus', 'restruct_bonus', 'roster_bonus', 'signing_bonus', 'workout_bonus']].apply(func=sum, axis='columns')"
   ]
  },
  {
   "cell_type": "code",
   "execution_count": 10,
   "metadata": {},
   "outputs": [],
   "source": [
    "# sum base salary and bonus total to  single total money column\n",
    "nfl_df['total_money'] = nfl_df['base_salary'] + nfl_df['bonus_total']"
   ]
  },
  {
   "cell_type": "code",
   "execution_count": 12,
   "metadata": {},
   "outputs": [
    {
     "data": {
      "text/plain": "base_salary          int64\ncap_hit             object\ncap_perc           float64\ndead_cap_amt        object\nname                object\noption_bonus         int64\nother_bonus          int64\nposition          category\nrestruct_bonus       int64\nroster_bonus         int64\nroster_status     category\nsigning_bonus        int64\nteam              category\nworkout_bonus        int64\nyear                 int64\nbonus_total          int64\ntotal_money          int64\ndtype: object"
     },
     "execution_count": 12,
     "metadata": {},
     "output_type": "execute_result"
    }
   ],
   "source": [
    "nfl_df.dtypes"
   ]
  },
  {
   "cell_type": "code",
   "execution_count": 16,
   "metadata": {},
   "outputs": [],
   "source": [
    "# output adjusted df to csv file excluding bonus category amounts other than total bonus, cap percentage and dead cap amount\n",
    "nfl_df[['base_salary','bonus_total', 'name', 'position','roster_status', 'team','total_money', 'year']].to_csv('2_nfl_contracts_pre_process.csv', header=True, index=True, index_label='index')"
   ]
  },
  {
   "cell_type": "code",
   "execution_count": 30,
   "metadata": {},
   "outputs": [
    {
     "data": {
      "text/plain": "base_salary          int64\ncap_hit             object\ncap_perc           float64\ndead_cap_amt        object\nname                object\noption_bonus         int64\nother_bonus          int64\nposition          category\nrestruct_bonus       int64\nroster_bonus         int64\nroster_status     category\nsigning_bonus        int64\nteam              category\nworkout_bonus        int64\nyear                 int64\nbonus_total          int64\ntotal_money          int64\ndtype: object"
     },
     "execution_count": 30,
     "metadata": {},
     "output_type": "execute_result"
    }
   ],
   "source": [
    "nfl_df.dtypes"
   ]
  },
  {
   "cell_type": "code",
   "execution_count": 18,
   "metadata": {},
   "outputs": [
    {
     "name": "stderr",
     "output_type": "stream",
     "text": "C:\\Users\\jason\\AppData\\Roaming\\Python\\Python37\\site-packages\\ipykernel_launcher.py:1: FutureWarning: The signature of `Series.to_csv` was aligned to that of `DataFrame.to_csv`, and argument 'header' will change its default value from False to True: please pass an explicit value to suppress this warning.\n  \"\"\"Entry point for launching an IPython kernel.\n"
    }
   ],
   "source": [
    "# output initial pre_processing to separate csv file for further processing / analysis in the 2_nfl_pre_process_fnl juptyer nb file\n",
    "nfl_df[['base_salary','bonus_total', 'name', 'position','roster_status', 'team','total_money', 'year']].dtypes.to_csv('2_nfl_pre_process_dtypes.csv', index_label='col_name')"
   ]
  },
  {
   "cell_type": "code",
   "execution_count": null,
   "metadata": {},
   "outputs": [],
   "source": []
  }
 ]
}
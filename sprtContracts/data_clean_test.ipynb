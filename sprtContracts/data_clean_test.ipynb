{
 "cells": [
  {
   "cell_type": "code",
   "execution_count": 22,
   "metadata": {
    "collapsed": true,
    "pycharm": {
     "is_executing": false
    }
   },
   "outputs": [
    {
     "name": "stdout",
     "text": [
      "Populating the interactive namespace from numpy and matplotlib\n"
     ],
     "output_type": "stream"
    }
   ],
   "source": [
    "%pylab inline\n",
    "import pandas as pd\n",
    "from pandas import DataFrame, Series"
   ]
  },
  {
   "cell_type": "code",
   "execution_count": 23,
   "outputs": [],
   "source": [
    "df = pd.read_csv('nfl_team_contracts.csv')"
   ],
   "metadata": {
    "collapsed": false,
    "pycharm": {
     "name": "#%%\n",
     "is_executing": false
    }
   }
  },
  {
   "cell_type": "code",
   "execution_count": 24,
   "outputs": [
    {
     "data": {
      "text/plain": "    base_salary      cap_hit  cap_perc dead_cap_amt            name  \\\n77            -  $5,000,000       2.58            -    Sam Bradford   \n48     $134,118    $134,117       0.07            -     Kylie Fitts   \n23     $495,000    $841,794       0.43            -   Andy Isabella   \n52      $29,118     $29,118       0.02            -   Drew Anderson   \n119           -     $35,045       0.02            -  Johnathan Ford   \n\n    option_bonus other_bonus position restruct_bonus roster_bonus  \\\n77             -           -       QB              -            -   \n48             -           -       DE              -            -   \n23             -           -       WR              -            -   \n52             -           -       QB              -            -   \n119            -           -        S              -            -   \n\n    roster_status signing_bonus               team workout_bonus  year  \n77       dead_cap    $5,000,000  Arizona Cardinals             -  2019  \n48         active             -  Arizona Cardinals             -  2019  \n23         active      $346,794  Arizona Cardinals             -  2019  \n52         active             -  Arizona Cardinals             -  2019  \n119      dead_cap       $35,045  Arizona Cardinals             -  2019  ",
      "text/html": "<div>\n<style scoped>\n    .dataframe tbody tr th:only-of-type {\n        vertical-align: middle;\n    }\n\n    .dataframe tbody tr th {\n        vertical-align: top;\n    }\n\n    .dataframe thead th {\n        text-align: right;\n    }\n</style>\n<table border=\"1\" class=\"dataframe\">\n  <thead>\n    <tr style=\"text-align: right;\">\n      <th></th>\n      <th>base_salary</th>\n      <th>cap_hit</th>\n      <th>cap_perc</th>\n      <th>dead_cap_amt</th>\n      <th>name</th>\n      <th>option_bonus</th>\n      <th>other_bonus</th>\n      <th>position</th>\n      <th>restruct_bonus</th>\n      <th>roster_bonus</th>\n      <th>roster_status</th>\n      <th>signing_bonus</th>\n      <th>team</th>\n      <th>workout_bonus</th>\n      <th>year</th>\n    </tr>\n  </thead>\n  <tbody>\n    <tr>\n      <th>77</th>\n      <td>-</td>\n      <td>$5,000,000</td>\n      <td>2.58</td>\n      <td>-</td>\n      <td>Sam Bradford</td>\n      <td>-</td>\n      <td>-</td>\n      <td>QB</td>\n      <td>-</td>\n      <td>-</td>\n      <td>dead_cap</td>\n      <td>$5,000,000</td>\n      <td>Arizona Cardinals</td>\n      <td>-</td>\n      <td>2019</td>\n    </tr>\n    <tr>\n      <th>48</th>\n      <td>$134,118</td>\n      <td>$134,117</td>\n      <td>0.07</td>\n      <td>-</td>\n      <td>Kylie Fitts</td>\n      <td>-</td>\n      <td>-</td>\n      <td>DE</td>\n      <td>-</td>\n      <td>-</td>\n      <td>active</td>\n      <td>-</td>\n      <td>Arizona Cardinals</td>\n      <td>-</td>\n      <td>2019</td>\n    </tr>\n    <tr>\n      <th>23</th>\n      <td>$495,000</td>\n      <td>$841,794</td>\n      <td>0.43</td>\n      <td>-</td>\n      <td>Andy Isabella</td>\n      <td>-</td>\n      <td>-</td>\n      <td>WR</td>\n      <td>-</td>\n      <td>-</td>\n      <td>active</td>\n      <td>$346,794</td>\n      <td>Arizona Cardinals</td>\n      <td>-</td>\n      <td>2019</td>\n    </tr>\n    <tr>\n      <th>52</th>\n      <td>$29,118</td>\n      <td>$29,118</td>\n      <td>0.02</td>\n      <td>-</td>\n      <td>Drew Anderson</td>\n      <td>-</td>\n      <td>-</td>\n      <td>QB</td>\n      <td>-</td>\n      <td>-</td>\n      <td>active</td>\n      <td>-</td>\n      <td>Arizona Cardinals</td>\n      <td>-</td>\n      <td>2019</td>\n    </tr>\n    <tr>\n      <th>119</th>\n      <td>-</td>\n      <td>$35,045</td>\n      <td>0.02</td>\n      <td>-</td>\n      <td>Johnathan Ford</td>\n      <td>-</td>\n      <td>-</td>\n      <td>S</td>\n      <td>-</td>\n      <td>-</td>\n      <td>dead_cap</td>\n      <td>$35,045</td>\n      <td>Arizona Cardinals</td>\n      <td>-</td>\n      <td>2019</td>\n    </tr>\n  </tbody>\n</table>\n</div>"
     },
     "metadata": {},
     "output_type": "execute_result",
     "execution_count": 24
    }
   ],
   "source": [
    "df.sample(5)"
   ],
   "metadata": {
    "collapsed": false,
    "pycharm": {
     "name": "#%%\n",
     "is_executing": false
    }
   }
  },
  {
   "cell_type": "code",
   "execution_count": 25,
   "outputs": [
    {
     "data": {
      "text/plain": "base_salary        object\ncap_hit            object\ncap_perc          float64\ndead_cap_amt       object\nname               object\noption_bonus       object\nother_bonus        object\nposition           object\nrestruct_bonus     object\nroster_bonus       object\nroster_status      object\nsigning_bonus      object\nteam               object\nworkout_bonus      object\nyear                int64\ndtype: object"
     },
     "metadata": {},
     "output_type": "execute_result",
     "execution_count": 25
    }
   ],
   "source": [
    "df.dtypes\n"
   ],
   "metadata": {
    "collapsed": false,
    "pycharm": {
     "name": "#%%\n",
     "is_executing": false
    }
   }
  },
  {
   "cell_type": "code",
   "execution_count": 26,
   "outputs": [],
   "source": [
    "df['cap_hit'] = df['cap_hit'].replace(to_replace='[\\$,]', value='', regex=True).astype(float)"
   ],
   "metadata": {
    "collapsed": false,
    "pycharm": {
     "name": "#%%\n",
     "is_executing": false
    }
   }
  },
  {
   "cell_type": "code",
   "execution_count": 27,
   "outputs": [
    {
     "data": {
      "text/plain": "0      14833333.0\n1      11750000.0\n2       9656250.0\n3       9625000.0\n4       8002235.0\n          ...    \n129        4000.0\n130        3333.0\n131        2666.0\n132        2000.0\n133        1333.0\nName: cap_hit, Length: 134, dtype: float64"
     },
     "metadata": {},
     "output_type": "execute_result",
     "execution_count": 27
    }
   ],
   "source": [
    "df['cap_hit']"
   ],
   "metadata": {
    "collapsed": false,
    "pycharm": {
     "name": "#%%\n",
     "is_executing": false
    }
   }
  },
  {
   "cell_type": "code",
   "execution_count": 28,
   "outputs": [
    {
     "data": {
      "text/plain": "roster_status\nactive             118348287.0\ndead_cap            50866166.0\ninjured_reserve     22278474.0\nnon_fb_injury         495000.0\npractice_squad        168000.0\nName: cap_hit, dtype: float64"
     },
     "metadata": {},
     "output_type": "execute_result",
     "execution_count": 28
    }
   ],
   "source": [
    "df.groupby('roster_status').sum()['cap_hit']\n",
    "\n"
   ],
   "metadata": {
    "collapsed": false,
    "pycharm": {
     "name": "#%%\n",
     "is_executing": false
    }
   }
  },
  {
   "cell_type": "code",
   "execution_count": 28,
   "outputs": [],
   "source": [
    "\n"
   ],
   "metadata": {
    "collapsed": false,
    "pycharm": {
     "name": "#%%\n",
     "is_executing": false
    }
   }
  }
 ],
 "metadata": {
  "kernelspec": {
   "display_name": "Python 3",
   "language": "python",
   "name": "python3"
  },
  "language_info": {
   "codemirror_mode": {
    "name": "ipython",
    "version": 2
   },
   "file_extension": ".py",
   "mimetype": "text/x-python",
   "name": "python",
   "nbconvert_exporter": "python",
   "pygments_lexer": "ipython2",
   "version": "2.7.6"
  },
  "pycharm": {
   "stem_cell": {
    "cell_type": "raw",
    "source": [],
    "metadata": {
     "collapsed": false
    }
   }
  }
 },
 "nbformat": 4,
 "nbformat_minor": 0
}
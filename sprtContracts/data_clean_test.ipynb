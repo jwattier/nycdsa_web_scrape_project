{
 "cells": [
  {
   "cell_type": "code",
   "execution_count": 1,
   "metadata": {
    "collapsed": true,
    "pycharm": {
     "is_executing": false
    }
   },
   "outputs": [
    {
     "name": "stdout",
     "text": [
      "Populating the interactive namespace from numpy and matplotlib\n"
     ],
     "output_type": "stream"
    }
   ],
   "source": [
    "%pylab inline\n",
    "import pandas as pd\n",
    "from pandas import DataFrame, Series"
   ]
  },
  {
   "cell_type": "code",
   "execution_count": 2,
   "outputs": [],
   "source": [
    "df = pd.read_csv('nfl_team_contracts.csv')"
   ],
   "metadata": {
    "collapsed": false,
    "pycharm": {
     "name": "#%%\n",
     "is_executing": false
    }
   }
  },
  {
   "cell_type": "code",
   "execution_count": 3,
   "outputs": [
    {
     "data": {
      "text/plain": "      base_salary      cap_hit  cap_perc dead_cap_amt              name  \\\n16661  $1,250,000  $3,000,000       1.60   $1,250,000  Johnson Bademosi   \n28499  $1,700,000  $3,300,000       1.86            -      Kurt Coleman   \n3694            -  $2,666,667       1.63            -   Shareece Wright   \n27037           -    $107,919       0.07            -     Matthew Wells   \n41314           -      $2,500       0.00            -         Brey Cook   \n\n      option_bonus other_bonus position restruct_bonus roster_bonus  \\\n16661            -           -       CB              -   $1,250,000   \n28499            -           -       SS              -            -   \n3694             -           -       CB              -            -   \n27037            -           -       LB              -            -   \n41314            -           -        T              -            -   \n\n      roster_status signing_bonus                  team workout_bonus  year  \n16661        active      $500,000        houston-texans             -  2018  \n28499        active    $1,500,000    new-orleans-saints      $100,000  2018  \n3694       dead_cap    $2,666,667      baltimore-ravens             -  2017  \n27037      dead_cap      $107,919  new-england-patriots             -  2016  \n41314      dead_cap        $2,500   washington-redskins             -  2015  ",
      "text/html": "<div>\n<style scoped>\n    .dataframe tbody tr th:only-of-type {\n        vertical-align: middle;\n    }\n\n    .dataframe tbody tr th {\n        vertical-align: top;\n    }\n\n    .dataframe thead th {\n        text-align: right;\n    }\n</style>\n<table border=\"1\" class=\"dataframe\">\n  <thead>\n    <tr style=\"text-align: right;\">\n      <th></th>\n      <th>base_salary</th>\n      <th>cap_hit</th>\n      <th>cap_perc</th>\n      <th>dead_cap_amt</th>\n      <th>name</th>\n      <th>option_bonus</th>\n      <th>other_bonus</th>\n      <th>position</th>\n      <th>restruct_bonus</th>\n      <th>roster_bonus</th>\n      <th>roster_status</th>\n      <th>signing_bonus</th>\n      <th>team</th>\n      <th>workout_bonus</th>\n      <th>year</th>\n    </tr>\n  </thead>\n  <tbody>\n    <tr>\n      <th>16661</th>\n      <td>$1,250,000</td>\n      <td>$3,000,000</td>\n      <td>1.60</td>\n      <td>$1,250,000</td>\n      <td>Johnson Bademosi</td>\n      <td>-</td>\n      <td>-</td>\n      <td>CB</td>\n      <td>-</td>\n      <td>$1,250,000</td>\n      <td>active</td>\n      <td>$500,000</td>\n      <td>houston-texans</td>\n      <td>-</td>\n      <td>2018</td>\n    </tr>\n    <tr>\n      <th>28499</th>\n      <td>$1,700,000</td>\n      <td>$3,300,000</td>\n      <td>1.86</td>\n      <td>-</td>\n      <td>Kurt Coleman</td>\n      <td>-</td>\n      <td>-</td>\n      <td>SS</td>\n      <td>-</td>\n      <td>-</td>\n      <td>active</td>\n      <td>$1,500,000</td>\n      <td>new-orleans-saints</td>\n      <td>$100,000</td>\n      <td>2018</td>\n    </tr>\n    <tr>\n      <th>3694</th>\n      <td>-</td>\n      <td>$2,666,667</td>\n      <td>1.63</td>\n      <td>-</td>\n      <td>Shareece Wright</td>\n      <td>-</td>\n      <td>-</td>\n      <td>CB</td>\n      <td>-</td>\n      <td>-</td>\n      <td>dead_cap</td>\n      <td>$2,666,667</td>\n      <td>baltimore-ravens</td>\n      <td>-</td>\n      <td>2017</td>\n    </tr>\n    <tr>\n      <th>27037</th>\n      <td>-</td>\n      <td>$107,919</td>\n      <td>0.07</td>\n      <td>-</td>\n      <td>Matthew Wells</td>\n      <td>-</td>\n      <td>-</td>\n      <td>LB</td>\n      <td>-</td>\n      <td>-</td>\n      <td>dead_cap</td>\n      <td>$107,919</td>\n      <td>new-england-patriots</td>\n      <td>-</td>\n      <td>2016</td>\n    </tr>\n    <tr>\n      <th>41314</th>\n      <td>-</td>\n      <td>$2,500</td>\n      <td>0.00</td>\n      <td>-</td>\n      <td>Brey Cook</td>\n      <td>-</td>\n      <td>-</td>\n      <td>T</td>\n      <td>-</td>\n      <td>-</td>\n      <td>dead_cap</td>\n      <td>$2,500</td>\n      <td>washington-redskins</td>\n      <td>-</td>\n      <td>2015</td>\n    </tr>\n  </tbody>\n</table>\n</div>"
     },
     "metadata": {},
     "output_type": "execute_result",
     "execution_count": 3
    }
   ],
   "source": [
    "df.sample(5)"
   ],
   "metadata": {
    "collapsed": false,
    "pycharm": {
     "name": "#%%\n",
     "is_executing": false
    }
   }
  },
  {
   "cell_type": "code",
   "execution_count": 4,
   "outputs": [
    {
     "data": {
      "text/plain": "base_salary        object\ncap_hit            object\ncap_perc          float64\ndead_cap_amt       object\nname               object\noption_bonus       object\nother_bonus        object\nposition           object\nrestruct_bonus     object\nroster_bonus       object\nroster_status      object\nsigning_bonus      object\nteam               object\nworkout_bonus      object\nyear                int64\ndtype: object"
     },
     "metadata": {},
     "output_type": "execute_result",
     "execution_count": 4
    }
   ],
   "source": [
    "df.dtypes\n"
   ],
   "metadata": {
    "collapsed": false,
    "pycharm": {
     "name": "#%%\n",
     "is_executing": false
    }
   }
  },
  {
   "cell_type": "code",
   "execution_count": 9,
   "outputs": [
    {
     "traceback": [
      "\u001b[1;31m---------------------------------------------------------------------------\u001b[0m",
      "\u001b[1;31mValueError\u001b[0m                                Traceback (most recent call last)",
      "\u001b[1;32m<ipython-input-9-41f105ed9cbe>\u001b[0m in \u001b[0;36m<module>\u001b[1;34m\u001b[0m\n\u001b[1;32m----> 1\u001b[1;33m \u001b[0mdf\u001b[0m\u001b[1;33m[\u001b[0m\u001b[1;34m'cap_hit'\u001b[0m\u001b[1;33m]\u001b[0m \u001b[1;33m=\u001b[0m \u001b[0mdf\u001b[0m\u001b[1;33m[\u001b[0m\u001b[1;34m'cap_hit'\u001b[0m\u001b[1;33m]\u001b[0m\u001b[1;33m.\u001b[0m\u001b[0mreplace\u001b[0m\u001b[1;33m(\u001b[0m\u001b[0mto_replace\u001b[0m\u001b[1;33m=\u001b[0m\u001b[1;34m'[\\$,]'\u001b[0m\u001b[1;33m,\u001b[0m \u001b[0mvalue\u001b[0m\u001b[1;33m=\u001b[0m\u001b[1;34m''\u001b[0m\u001b[1;33m,\u001b[0m \u001b[0mregex\u001b[0m\u001b[1;33m=\u001b[0m\u001b[1;32mTrue\u001b[0m\u001b[1;33m)\u001b[0m\u001b[1;33m.\u001b[0m\u001b[0mastype\u001b[0m\u001b[1;33m(\u001b[0m\u001b[0mfloat\u001b[0m\u001b[1;33m)\u001b[0m\u001b[1;33m\u001b[0m\u001b[1;33m\u001b[0m\u001b[0m\n\u001b[0m\u001b[0;32m      2\u001b[0m \u001b[1;33m\u001b[0m\u001b[0m\n",
      "\u001b[1;32m~\\Anaconda3\\lib\\site-packages\\pandas\\core\\generic.py\u001b[0m in \u001b[0;36mastype\u001b[1;34m(self, dtype, copy, errors, **kwargs)\u001b[0m\n\u001b[0;32m   5880\u001b[0m             \u001b[1;31m# else, only a single dtype is given\u001b[0m\u001b[1;33m\u001b[0m\u001b[1;33m\u001b[0m\u001b[1;33m\u001b[0m\u001b[0m\n\u001b[0;32m   5881\u001b[0m             new_data = self._data.astype(\n\u001b[1;32m-> 5882\u001b[1;33m                 \u001b[0mdtype\u001b[0m\u001b[1;33m=\u001b[0m\u001b[0mdtype\u001b[0m\u001b[1;33m,\u001b[0m \u001b[0mcopy\u001b[0m\u001b[1;33m=\u001b[0m\u001b[0mcopy\u001b[0m\u001b[1;33m,\u001b[0m \u001b[0merrors\u001b[0m\u001b[1;33m=\u001b[0m\u001b[0merrors\u001b[0m\u001b[1;33m,\u001b[0m \u001b[1;33m**\u001b[0m\u001b[0mkwargs\u001b[0m\u001b[1;33m\u001b[0m\u001b[1;33m\u001b[0m\u001b[0m\n\u001b[0m\u001b[0;32m   5883\u001b[0m             )\n\u001b[0;32m   5884\u001b[0m             \u001b[1;32mreturn\u001b[0m \u001b[0mself\u001b[0m\u001b[1;33m.\u001b[0m\u001b[0m_constructor\u001b[0m\u001b[1;33m(\u001b[0m\u001b[0mnew_data\u001b[0m\u001b[1;33m)\u001b[0m\u001b[1;33m.\u001b[0m\u001b[0m__finalize__\u001b[0m\u001b[1;33m(\u001b[0m\u001b[0mself\u001b[0m\u001b[1;33m)\u001b[0m\u001b[1;33m\u001b[0m\u001b[1;33m\u001b[0m\u001b[0m\n",
      "\u001b[1;32m~\\Anaconda3\\lib\\site-packages\\pandas\\core\\internals\\managers.py\u001b[0m in \u001b[0;36mastype\u001b[1;34m(self, dtype, **kwargs)\u001b[0m\n\u001b[0;32m    579\u001b[0m \u001b[1;33m\u001b[0m\u001b[0m\n\u001b[0;32m    580\u001b[0m     \u001b[1;32mdef\u001b[0m \u001b[0mastype\u001b[0m\u001b[1;33m(\u001b[0m\u001b[0mself\u001b[0m\u001b[1;33m,\u001b[0m \u001b[0mdtype\u001b[0m\u001b[1;33m,\u001b[0m \u001b[1;33m**\u001b[0m\u001b[0mkwargs\u001b[0m\u001b[1;33m)\u001b[0m\u001b[1;33m:\u001b[0m\u001b[1;33m\u001b[0m\u001b[1;33m\u001b[0m\u001b[0m\n\u001b[1;32m--> 581\u001b[1;33m         \u001b[1;32mreturn\u001b[0m \u001b[0mself\u001b[0m\u001b[1;33m.\u001b[0m\u001b[0mapply\u001b[0m\u001b[1;33m(\u001b[0m\u001b[1;34m\"astype\"\u001b[0m\u001b[1;33m,\u001b[0m \u001b[0mdtype\u001b[0m\u001b[1;33m=\u001b[0m\u001b[0mdtype\u001b[0m\u001b[1;33m,\u001b[0m \u001b[1;33m**\u001b[0m\u001b[0mkwargs\u001b[0m\u001b[1;33m)\u001b[0m\u001b[1;33m\u001b[0m\u001b[1;33m\u001b[0m\u001b[0m\n\u001b[0m\u001b[0;32m    582\u001b[0m \u001b[1;33m\u001b[0m\u001b[0m\n\u001b[0;32m    583\u001b[0m     \u001b[1;32mdef\u001b[0m \u001b[0mconvert\u001b[0m\u001b[1;33m(\u001b[0m\u001b[0mself\u001b[0m\u001b[1;33m,\u001b[0m \u001b[1;33m**\u001b[0m\u001b[0mkwargs\u001b[0m\u001b[1;33m)\u001b[0m\u001b[1;33m:\u001b[0m\u001b[1;33m\u001b[0m\u001b[1;33m\u001b[0m\u001b[0m\n",
      "\u001b[1;32m~\\Anaconda3\\lib\\site-packages\\pandas\\core\\internals\\managers.py\u001b[0m in \u001b[0;36mapply\u001b[1;34m(self, f, axes, filter, do_integrity_check, consolidate, **kwargs)\u001b[0m\n\u001b[0;32m    436\u001b[0m                     \u001b[0mkwargs\u001b[0m\u001b[1;33m[\u001b[0m\u001b[0mk\u001b[0m\u001b[1;33m]\u001b[0m \u001b[1;33m=\u001b[0m \u001b[0mobj\u001b[0m\u001b[1;33m.\u001b[0m\u001b[0mreindex\u001b[0m\u001b[1;33m(\u001b[0m\u001b[0mb_items\u001b[0m\u001b[1;33m,\u001b[0m \u001b[0maxis\u001b[0m\u001b[1;33m=\u001b[0m\u001b[0maxis\u001b[0m\u001b[1;33m,\u001b[0m \u001b[0mcopy\u001b[0m\u001b[1;33m=\u001b[0m\u001b[0malign_copy\u001b[0m\u001b[1;33m)\u001b[0m\u001b[1;33m\u001b[0m\u001b[1;33m\u001b[0m\u001b[0m\n\u001b[0;32m    437\u001b[0m \u001b[1;33m\u001b[0m\u001b[0m\n\u001b[1;32m--> 438\u001b[1;33m             \u001b[0mapplied\u001b[0m \u001b[1;33m=\u001b[0m \u001b[0mgetattr\u001b[0m\u001b[1;33m(\u001b[0m\u001b[0mb\u001b[0m\u001b[1;33m,\u001b[0m \u001b[0mf\u001b[0m\u001b[1;33m)\u001b[0m\u001b[1;33m(\u001b[0m\u001b[1;33m**\u001b[0m\u001b[0mkwargs\u001b[0m\u001b[1;33m)\u001b[0m\u001b[1;33m\u001b[0m\u001b[1;33m\u001b[0m\u001b[0m\n\u001b[0m\u001b[0;32m    439\u001b[0m             \u001b[0mresult_blocks\u001b[0m \u001b[1;33m=\u001b[0m \u001b[0m_extend_blocks\u001b[0m\u001b[1;33m(\u001b[0m\u001b[0mapplied\u001b[0m\u001b[1;33m,\u001b[0m \u001b[0mresult_blocks\u001b[0m\u001b[1;33m)\u001b[0m\u001b[1;33m\u001b[0m\u001b[1;33m\u001b[0m\u001b[0m\n\u001b[0;32m    440\u001b[0m \u001b[1;33m\u001b[0m\u001b[0m\n",
      "\u001b[1;32m~\\Anaconda3\\lib\\site-packages\\pandas\\core\\internals\\blocks.py\u001b[0m in \u001b[0;36mastype\u001b[1;34m(self, dtype, copy, errors, values, **kwargs)\u001b[0m\n\u001b[0;32m    557\u001b[0m \u001b[1;33m\u001b[0m\u001b[0m\n\u001b[0;32m    558\u001b[0m     \u001b[1;32mdef\u001b[0m \u001b[0mastype\u001b[0m\u001b[1;33m(\u001b[0m\u001b[0mself\u001b[0m\u001b[1;33m,\u001b[0m \u001b[0mdtype\u001b[0m\u001b[1;33m,\u001b[0m \u001b[0mcopy\u001b[0m\u001b[1;33m=\u001b[0m\u001b[1;32mFalse\u001b[0m\u001b[1;33m,\u001b[0m \u001b[0merrors\u001b[0m\u001b[1;33m=\u001b[0m\u001b[1;34m\"raise\"\u001b[0m\u001b[1;33m,\u001b[0m \u001b[0mvalues\u001b[0m\u001b[1;33m=\u001b[0m\u001b[1;32mNone\u001b[0m\u001b[1;33m,\u001b[0m \u001b[1;33m**\u001b[0m\u001b[0mkwargs\u001b[0m\u001b[1;33m)\u001b[0m\u001b[1;33m:\u001b[0m\u001b[1;33m\u001b[0m\u001b[1;33m\u001b[0m\u001b[0m\n\u001b[1;32m--> 559\u001b[1;33m         \u001b[1;32mreturn\u001b[0m \u001b[0mself\u001b[0m\u001b[1;33m.\u001b[0m\u001b[0m_astype\u001b[0m\u001b[1;33m(\u001b[0m\u001b[0mdtype\u001b[0m\u001b[1;33m,\u001b[0m \u001b[0mcopy\u001b[0m\u001b[1;33m=\u001b[0m\u001b[0mcopy\u001b[0m\u001b[1;33m,\u001b[0m \u001b[0merrors\u001b[0m\u001b[1;33m=\u001b[0m\u001b[0merrors\u001b[0m\u001b[1;33m,\u001b[0m \u001b[0mvalues\u001b[0m\u001b[1;33m=\u001b[0m\u001b[0mvalues\u001b[0m\u001b[1;33m,\u001b[0m \u001b[1;33m**\u001b[0m\u001b[0mkwargs\u001b[0m\u001b[1;33m)\u001b[0m\u001b[1;33m\u001b[0m\u001b[1;33m\u001b[0m\u001b[0m\n\u001b[0m\u001b[0;32m    560\u001b[0m \u001b[1;33m\u001b[0m\u001b[0m\n\u001b[0;32m    561\u001b[0m     \u001b[1;32mdef\u001b[0m \u001b[0m_astype\u001b[0m\u001b[1;33m(\u001b[0m\u001b[0mself\u001b[0m\u001b[1;33m,\u001b[0m \u001b[0mdtype\u001b[0m\u001b[1;33m,\u001b[0m \u001b[0mcopy\u001b[0m\u001b[1;33m=\u001b[0m\u001b[1;32mFalse\u001b[0m\u001b[1;33m,\u001b[0m \u001b[0merrors\u001b[0m\u001b[1;33m=\u001b[0m\u001b[1;34m\"raise\"\u001b[0m\u001b[1;33m,\u001b[0m \u001b[0mvalues\u001b[0m\u001b[1;33m=\u001b[0m\u001b[1;32mNone\u001b[0m\u001b[1;33m,\u001b[0m \u001b[1;33m**\u001b[0m\u001b[0mkwargs\u001b[0m\u001b[1;33m)\u001b[0m\u001b[1;33m:\u001b[0m\u001b[1;33m\u001b[0m\u001b[1;33m\u001b[0m\u001b[0m\n",
      "\u001b[1;32m~\\Anaconda3\\lib\\site-packages\\pandas\\core\\internals\\blocks.py\u001b[0m in \u001b[0;36m_astype\u001b[1;34m(self, dtype, copy, errors, values, **kwargs)\u001b[0m\n\u001b[0;32m    641\u001b[0m                     \u001b[1;31m# _astype_nansafe works fine with 1-d only\u001b[0m\u001b[1;33m\u001b[0m\u001b[1;33m\u001b[0m\u001b[1;33m\u001b[0m\u001b[0m\n\u001b[0;32m    642\u001b[0m                     \u001b[0mvals1d\u001b[0m \u001b[1;33m=\u001b[0m \u001b[0mvalues\u001b[0m\u001b[1;33m.\u001b[0m\u001b[0mravel\u001b[0m\u001b[1;33m(\u001b[0m\u001b[1;33m)\u001b[0m\u001b[1;33m\u001b[0m\u001b[1;33m\u001b[0m\u001b[0m\n\u001b[1;32m--> 643\u001b[1;33m                     \u001b[0mvalues\u001b[0m \u001b[1;33m=\u001b[0m \u001b[0mastype_nansafe\u001b[0m\u001b[1;33m(\u001b[0m\u001b[0mvals1d\u001b[0m\u001b[1;33m,\u001b[0m \u001b[0mdtype\u001b[0m\u001b[1;33m,\u001b[0m \u001b[0mcopy\u001b[0m\u001b[1;33m=\u001b[0m\u001b[1;32mTrue\u001b[0m\u001b[1;33m,\u001b[0m \u001b[1;33m**\u001b[0m\u001b[0mkwargs\u001b[0m\u001b[1;33m)\u001b[0m\u001b[1;33m\u001b[0m\u001b[1;33m\u001b[0m\u001b[0m\n\u001b[0m\u001b[0;32m    644\u001b[0m \u001b[1;33m\u001b[0m\u001b[0m\n\u001b[0;32m    645\u001b[0m                 \u001b[1;31m# TODO(extension)\u001b[0m\u001b[1;33m\u001b[0m\u001b[1;33m\u001b[0m\u001b[1;33m\u001b[0m\u001b[0m\n",
      "\u001b[1;32m~\\Anaconda3\\lib\\site-packages\\pandas\\core\\dtypes\\cast.py\u001b[0m in \u001b[0;36mastype_nansafe\u001b[1;34m(arr, dtype, copy, skipna)\u001b[0m\n\u001b[0;32m    727\u001b[0m     \u001b[1;32mif\u001b[0m \u001b[0mcopy\u001b[0m \u001b[1;32mor\u001b[0m \u001b[0mis_object_dtype\u001b[0m\u001b[1;33m(\u001b[0m\u001b[0marr\u001b[0m\u001b[1;33m)\u001b[0m \u001b[1;32mor\u001b[0m \u001b[0mis_object_dtype\u001b[0m\u001b[1;33m(\u001b[0m\u001b[0mdtype\u001b[0m\u001b[1;33m)\u001b[0m\u001b[1;33m:\u001b[0m\u001b[1;33m\u001b[0m\u001b[1;33m\u001b[0m\u001b[0m\n\u001b[0;32m    728\u001b[0m         \u001b[1;31m# Explicit copy, or required since NumPy can't view from / to object.\u001b[0m\u001b[1;33m\u001b[0m\u001b[1;33m\u001b[0m\u001b[1;33m\u001b[0m\u001b[0m\n\u001b[1;32m--> 729\u001b[1;33m         \u001b[1;32mreturn\u001b[0m \u001b[0marr\u001b[0m\u001b[1;33m.\u001b[0m\u001b[0mastype\u001b[0m\u001b[1;33m(\u001b[0m\u001b[0mdtype\u001b[0m\u001b[1;33m,\u001b[0m \u001b[0mcopy\u001b[0m\u001b[1;33m=\u001b[0m\u001b[1;32mTrue\u001b[0m\u001b[1;33m)\u001b[0m\u001b[1;33m\u001b[0m\u001b[1;33m\u001b[0m\u001b[0m\n\u001b[0m\u001b[0;32m    730\u001b[0m \u001b[1;33m\u001b[0m\u001b[0m\n\u001b[0;32m    731\u001b[0m     \u001b[1;32mreturn\u001b[0m \u001b[0marr\u001b[0m\u001b[1;33m.\u001b[0m\u001b[0mview\u001b[0m\u001b[1;33m(\u001b[0m\u001b[0mdtype\u001b[0m\u001b[1;33m)\u001b[0m\u001b[1;33m\u001b[0m\u001b[1;33m\u001b[0m\u001b[0m\n",
      "\u001b[1;31mValueError\u001b[0m: could not convert string to float: '- '"
     ],
     "ename": "ValueError",
     "evalue": "could not convert string to float: '- '",
     "output_type": "error"
    }
   ],
   "source": [
    "df['cap_hit'] = df['cap_hit'].replace(to_replace='[\\$,]', value='', regex=True).astype(float)"
   ],
   "metadata": {
    "collapsed": false,
    "pycharm": {
     "name": "#%%\n",
     "is_executing": false
    }
   }
  },
  {
   "cell_type": "code",
   "execution_count": 8,
   "outputs": [
    {
     "data": {
      "text/plain": "0        $7,000,000 \n1        $5,836,000 \n2        $5,400,000 \n3        $5,000,000 \n4        $4,010,000 \n            ...     \n41892       $78,096 \n41893       $10,666 \n41894       $10,000 \n41895        $6,667 \n41896        $3,334 \nName: cap_hit, Length: 41897, dtype: object"
     },
     "metadata": {},
     "output_type": "execute_result",
     "execution_count": 8
    }
   ],
   "source": [
    "df['cap_hit']"
   ],
   "metadata": {
    "collapsed": false,
    "pycharm": {
     "name": "#%%\n",
     "is_executing": false
    }
   }
  },
  {
   "cell_type": "code",
   "execution_count": 5,
   "outputs": [
    {
     "traceback": [
      "\u001b[1;31m---------------------------------------------------------------------------\u001b[0m",
      "\u001b[1;31mKeyError\u001b[0m                                  Traceback (most recent call last)",
      "\u001b[1;32m~\\Anaconda3\\lib\\site-packages\\pandas\\core\\indexes\\base.py\u001b[0m in \u001b[0;36mget_loc\u001b[1;34m(self, key, method, tolerance)\u001b[0m\n\u001b[0;32m   2896\u001b[0m             \u001b[1;32mtry\u001b[0m\u001b[1;33m:\u001b[0m\u001b[1;33m\u001b[0m\u001b[1;33m\u001b[0m\u001b[0m\n\u001b[1;32m-> 2897\u001b[1;33m                 \u001b[1;32mreturn\u001b[0m \u001b[0mself\u001b[0m\u001b[1;33m.\u001b[0m\u001b[0m_engine\u001b[0m\u001b[1;33m.\u001b[0m\u001b[0mget_loc\u001b[0m\u001b[1;33m(\u001b[0m\u001b[0mkey\u001b[0m\u001b[1;33m)\u001b[0m\u001b[1;33m\u001b[0m\u001b[1;33m\u001b[0m\u001b[0m\n\u001b[0m\u001b[0;32m   2898\u001b[0m             \u001b[1;32mexcept\u001b[0m \u001b[0mKeyError\u001b[0m\u001b[1;33m:\u001b[0m\u001b[1;33m\u001b[0m\u001b[1;33m\u001b[0m\u001b[0m\n",
      "\u001b[1;32mpandas/_libs/index.pyx\u001b[0m in \u001b[0;36mpandas._libs.index.IndexEngine.get_loc\u001b[1;34m()\u001b[0m\n",
      "\u001b[1;32mpandas/_libs/index.pyx\u001b[0m in \u001b[0;36mpandas._libs.index.IndexEngine.get_loc\u001b[1;34m()\u001b[0m\n",
      "\u001b[1;32mpandas/_libs/hashtable_class_helper.pxi\u001b[0m in \u001b[0;36mpandas._libs.hashtable.PyObjectHashTable.get_item\u001b[1;34m()\u001b[0m\n",
      "\u001b[1;32mpandas/_libs/hashtable_class_helper.pxi\u001b[0m in \u001b[0;36mpandas._libs.hashtable.PyObjectHashTable.get_item\u001b[1;34m()\u001b[0m\n",
      "\u001b[1;31mKeyError\u001b[0m: 'cap_hit'",
      "\nDuring handling of the above exception, another exception occurred:\n",
      "\u001b[1;31mKeyError\u001b[0m                                  Traceback (most recent call last)",
      "\u001b[1;32m<ipython-input-5-76e70d0662a7>\u001b[0m in \u001b[0;36m<module>\u001b[1;34m\u001b[0m\n\u001b[1;32m----> 1\u001b[1;33m \u001b[0mdf\u001b[0m\u001b[1;33m.\u001b[0m\u001b[0mgroupby\u001b[0m\u001b[1;33m(\u001b[0m\u001b[1;33m[\u001b[0m\u001b[1;34m'year'\u001b[0m\u001b[1;33m,\u001b[0m\u001b[1;34m'team'\u001b[0m\u001b[1;33m,\u001b[0m \u001b[1;34m'roster_status'\u001b[0m\u001b[1;33m]\u001b[0m\u001b[1;33m)\u001b[0m\u001b[1;33m.\u001b[0m\u001b[0msum\u001b[0m\u001b[1;33m(\u001b[0m\u001b[1;33m)\u001b[0m\u001b[1;33m[\u001b[0m\u001b[1;34m'cap_hit'\u001b[0m\u001b[1;33m]\u001b[0m\u001b[1;33m\u001b[0m\u001b[1;33m\u001b[0m\u001b[0m\n\u001b[0m\u001b[0;32m      2\u001b[0m \u001b[1;33m\u001b[0m\u001b[0m\n\u001b[0;32m      3\u001b[0m \u001b[1;33m\u001b[0m\u001b[0m\n\u001b[0;32m      4\u001b[0m \u001b[1;33m\u001b[0m\u001b[0m\n",
      "\u001b[1;32m~\\Anaconda3\\lib\\site-packages\\pandas\\core\\frame.py\u001b[0m in \u001b[0;36m__getitem__\u001b[1;34m(self, key)\u001b[0m\n\u001b[0;32m   2993\u001b[0m             \u001b[1;32mif\u001b[0m \u001b[0mself\u001b[0m\u001b[1;33m.\u001b[0m\u001b[0mcolumns\u001b[0m\u001b[1;33m.\u001b[0m\u001b[0mnlevels\u001b[0m \u001b[1;33m>\u001b[0m \u001b[1;36m1\u001b[0m\u001b[1;33m:\u001b[0m\u001b[1;33m\u001b[0m\u001b[1;33m\u001b[0m\u001b[0m\n\u001b[0;32m   2994\u001b[0m                 \u001b[1;32mreturn\u001b[0m \u001b[0mself\u001b[0m\u001b[1;33m.\u001b[0m\u001b[0m_getitem_multilevel\u001b[0m\u001b[1;33m(\u001b[0m\u001b[0mkey\u001b[0m\u001b[1;33m)\u001b[0m\u001b[1;33m\u001b[0m\u001b[1;33m\u001b[0m\u001b[0m\n\u001b[1;32m-> 2995\u001b[1;33m             \u001b[0mindexer\u001b[0m \u001b[1;33m=\u001b[0m \u001b[0mself\u001b[0m\u001b[1;33m.\u001b[0m\u001b[0mcolumns\u001b[0m\u001b[1;33m.\u001b[0m\u001b[0mget_loc\u001b[0m\u001b[1;33m(\u001b[0m\u001b[0mkey\u001b[0m\u001b[1;33m)\u001b[0m\u001b[1;33m\u001b[0m\u001b[1;33m\u001b[0m\u001b[0m\n\u001b[0m\u001b[0;32m   2996\u001b[0m             \u001b[1;32mif\u001b[0m \u001b[0mis_integer\u001b[0m\u001b[1;33m(\u001b[0m\u001b[0mindexer\u001b[0m\u001b[1;33m)\u001b[0m\u001b[1;33m:\u001b[0m\u001b[1;33m\u001b[0m\u001b[1;33m\u001b[0m\u001b[0m\n\u001b[0;32m   2997\u001b[0m                 \u001b[0mindexer\u001b[0m \u001b[1;33m=\u001b[0m \u001b[1;33m[\u001b[0m\u001b[0mindexer\u001b[0m\u001b[1;33m]\u001b[0m\u001b[1;33m\u001b[0m\u001b[1;33m\u001b[0m\u001b[0m\n",
      "\u001b[1;32m~\\Anaconda3\\lib\\site-packages\\pandas\\core\\indexes\\base.py\u001b[0m in \u001b[0;36mget_loc\u001b[1;34m(self, key, method, tolerance)\u001b[0m\n\u001b[0;32m   2897\u001b[0m                 \u001b[1;32mreturn\u001b[0m \u001b[0mself\u001b[0m\u001b[1;33m.\u001b[0m\u001b[0m_engine\u001b[0m\u001b[1;33m.\u001b[0m\u001b[0mget_loc\u001b[0m\u001b[1;33m(\u001b[0m\u001b[0mkey\u001b[0m\u001b[1;33m)\u001b[0m\u001b[1;33m\u001b[0m\u001b[1;33m\u001b[0m\u001b[0m\n\u001b[0;32m   2898\u001b[0m             \u001b[1;32mexcept\u001b[0m \u001b[0mKeyError\u001b[0m\u001b[1;33m:\u001b[0m\u001b[1;33m\u001b[0m\u001b[1;33m\u001b[0m\u001b[0m\n\u001b[1;32m-> 2899\u001b[1;33m                 \u001b[1;32mreturn\u001b[0m \u001b[0mself\u001b[0m\u001b[1;33m.\u001b[0m\u001b[0m_engine\u001b[0m\u001b[1;33m.\u001b[0m\u001b[0mget_loc\u001b[0m\u001b[1;33m(\u001b[0m\u001b[0mself\u001b[0m\u001b[1;33m.\u001b[0m\u001b[0m_maybe_cast_indexer\u001b[0m\u001b[1;33m(\u001b[0m\u001b[0mkey\u001b[0m\u001b[1;33m)\u001b[0m\u001b[1;33m)\u001b[0m\u001b[1;33m\u001b[0m\u001b[1;33m\u001b[0m\u001b[0m\n\u001b[0m\u001b[0;32m   2900\u001b[0m         \u001b[0mindexer\u001b[0m \u001b[1;33m=\u001b[0m \u001b[0mself\u001b[0m\u001b[1;33m.\u001b[0m\u001b[0mget_indexer\u001b[0m\u001b[1;33m(\u001b[0m\u001b[1;33m[\u001b[0m\u001b[0mkey\u001b[0m\u001b[1;33m]\u001b[0m\u001b[1;33m,\u001b[0m \u001b[0mmethod\u001b[0m\u001b[1;33m=\u001b[0m\u001b[0mmethod\u001b[0m\u001b[1;33m,\u001b[0m \u001b[0mtolerance\u001b[0m\u001b[1;33m=\u001b[0m\u001b[0mtolerance\u001b[0m\u001b[1;33m)\u001b[0m\u001b[1;33m\u001b[0m\u001b[1;33m\u001b[0m\u001b[0m\n\u001b[0;32m   2901\u001b[0m         \u001b[1;32mif\u001b[0m \u001b[0mindexer\u001b[0m\u001b[1;33m.\u001b[0m\u001b[0mndim\u001b[0m \u001b[1;33m>\u001b[0m \u001b[1;36m1\u001b[0m \u001b[1;32mor\u001b[0m \u001b[0mindexer\u001b[0m\u001b[1;33m.\u001b[0m\u001b[0msize\u001b[0m \u001b[1;33m>\u001b[0m \u001b[1;36m1\u001b[0m\u001b[1;33m:\u001b[0m\u001b[1;33m\u001b[0m\u001b[1;33m\u001b[0m\u001b[0m\n",
      "\u001b[1;32mpandas/_libs/index.pyx\u001b[0m in \u001b[0;36mpandas._libs.index.IndexEngine.get_loc\u001b[1;34m()\u001b[0m\n",
      "\u001b[1;32mpandas/_libs/index.pyx\u001b[0m in \u001b[0;36mpandas._libs.index.IndexEngine.get_loc\u001b[1;34m()\u001b[0m\n",
      "\u001b[1;32mpandas/_libs/hashtable_class_helper.pxi\u001b[0m in \u001b[0;36mpandas._libs.hashtable.PyObjectHashTable.get_item\u001b[1;34m()\u001b[0m\n",
      "\u001b[1;32mpandas/_libs/hashtable_class_helper.pxi\u001b[0m in \u001b[0;36mpandas._libs.hashtable.PyObjectHashTable.get_item\u001b[1;34m()\u001b[0m\n",
      "\u001b[1;31mKeyError\u001b[0m: 'cap_hit'"
     ],
     "ename": "KeyError",
     "evalue": "'cap_hit'",
     "output_type": "error"
    }
   ],
   "source": [
    "df.groupby(['year','team', 'roster_status']).sum()['cap_hit']\n",
    "\n"
   ],
   "metadata": {
    "collapsed": false,
    "pycharm": {
     "name": "#%%\n",
     "is_executing": false
    }
   }
  },
  {
   "cell_type": "code",
   "execution_count": 35,
   "outputs": [],
   "source": [
    "list_of_teams = pd.read_csv('./files/list_of_nfl_teams.csv', header=None, names=['team'])['team'].str.lower()"
   ],
   "metadata": {
    "collapsed": false,
    "pycharm": {
     "name": "#%%\n",
     "is_executing": false
    }
   }
  },
  {
   "cell_type": "code",
   "execution_count": 42,
   "outputs": [],
   "source": [
    "list_of_teams = list_of_teams.str.replace(' ', '-')"
   ],
   "metadata": {
    "collapsed": false,
    "pycharm": {
     "name": "#%%\n",
     "is_executing": false
    }
   }
  },
  {
   "cell_type": "code",
   "execution_count": 41,
   "outputs": [
    {
     "data": {
      "text/plain": "[('arizona cardinals', 2010),\n ('arizona cardinals', 2011),\n ('arizona cardinals', 2012),\n ('arizona cardinals', 2013),\n ('arizona cardinals', 2014),\n ('arizona cardinals', 2015),\n ('arizona cardinals', 2016),\n ('arizona cardinals', 2017),\n ('arizona cardinals', 2018),\n ('arizona cardinals', 2019),\n ('atlanta falcons', 2010),\n ('atlanta falcons', 2011),\n ('atlanta falcons', 2012),\n ('atlanta falcons', 2013),\n ('atlanta falcons', 2014),\n ('atlanta falcons', 2015),\n ('atlanta falcons', 2016),\n ('atlanta falcons', 2017),\n ('atlanta falcons', 2018),\n ('atlanta falcons', 2019),\n ('baltimore ravens', 2010),\n ('baltimore ravens', 2011),\n ('baltimore ravens', 2012),\n ('baltimore ravens', 2013),\n ('baltimore ravens', 2014),\n ('baltimore ravens', 2015),\n ('baltimore ravens', 2016),\n ('baltimore ravens', 2017),\n ('baltimore ravens', 2018),\n ('baltimore ravens', 2019),\n ('buffalo bills', 2010),\n ('buffalo bills', 2011),\n ('buffalo bills', 2012),\n ('buffalo bills', 2013),\n ('buffalo bills', 2014),\n ('buffalo bills', 2015),\n ('buffalo bills', 2016),\n ('buffalo bills', 2017),\n ('buffalo bills', 2018),\n ('buffalo bills', 2019),\n ('carolina panthers', 2010),\n ('carolina panthers', 2011),\n ('carolina panthers', 2012),\n ('carolina panthers', 2013),\n ('carolina panthers', 2014),\n ('carolina panthers', 2015),\n ('carolina panthers', 2016),\n ('carolina panthers', 2017),\n ('carolina panthers', 2018),\n ('carolina panthers', 2019),\n ('chicago bears', 2010),\n ('chicago bears', 2011),\n ('chicago bears', 2012),\n ('chicago bears', 2013),\n ('chicago bears', 2014),\n ('chicago bears', 2015),\n ('chicago bears', 2016),\n ('chicago bears', 2017),\n ('chicago bears', 2018),\n ('chicago bears', 2019),\n ('cincinnati bengals', 2010),\n ('cincinnati bengals', 2011),\n ('cincinnati bengals', 2012),\n ('cincinnati bengals', 2013),\n ('cincinnati bengals', 2014),\n ('cincinnati bengals', 2015),\n ('cincinnati bengals', 2016),\n ('cincinnati bengals', 2017),\n ('cincinnati bengals', 2018),\n ('cincinnati bengals', 2019),\n ('cleveland browns', 2010),\n ('cleveland browns', 2011),\n ('cleveland browns', 2012),\n ('cleveland browns', 2013),\n ('cleveland browns', 2014),\n ('cleveland browns', 2015),\n ('cleveland browns', 2016),\n ('cleveland browns', 2017),\n ('cleveland browns', 2018),\n ('cleveland browns', 2019),\n ('dallas cowboys', 2010),\n ('dallas cowboys', 2011),\n ('dallas cowboys', 2012),\n ('dallas cowboys', 2013),\n ('dallas cowboys', 2014),\n ('dallas cowboys', 2015),\n ('dallas cowboys', 2016),\n ('dallas cowboys', 2017),\n ('dallas cowboys', 2018),\n ('dallas cowboys', 2019),\n ('denver broncos', 2010),\n ('denver broncos', 2011),\n ('denver broncos', 2012),\n ('denver broncos', 2013),\n ('denver broncos', 2014),\n ('denver broncos', 2015),\n ('denver broncos', 2016),\n ('denver broncos', 2017),\n ('denver broncos', 2018),\n ('denver broncos', 2019),\n ('detroit lions', 2010),\n ('detroit lions', 2011),\n ('detroit lions', 2012),\n ('detroit lions', 2013),\n ('detroit lions', 2014),\n ('detroit lions', 2015),\n ('detroit lions', 2016),\n ('detroit lions', 2017),\n ('detroit lions', 2018),\n ('detroit lions', 2019),\n ('green bay packers', 2010),\n ('green bay packers', 2011),\n ('green bay packers', 2012),\n ('green bay packers', 2013),\n ('green bay packers', 2014),\n ('green bay packers', 2015),\n ('green bay packers', 2016),\n ('green bay packers', 2017),\n ('green bay packers', 2018),\n ('green bay packers', 2019),\n ('houston texans', 2010),\n ('houston texans', 2011),\n ('houston texans', 2012),\n ('houston texans', 2013),\n ('houston texans', 2014),\n ('houston texans', 2015),\n ('houston texans', 2016),\n ('houston texans', 2017),\n ('houston texans', 2018),\n ('houston texans', 2019),\n ('indianapolis colts', 2010),\n ('indianapolis colts', 2011),\n ('indianapolis colts', 2012),\n ('indianapolis colts', 2013),\n ('indianapolis colts', 2014),\n ('indianapolis colts', 2015),\n ('indianapolis colts', 2016),\n ('indianapolis colts', 2017),\n ('indianapolis colts', 2018),\n ('indianapolis colts', 2019),\n ('jacksonville jaguars', 2010),\n ('jacksonville jaguars', 2011),\n ('jacksonville jaguars', 2012),\n ('jacksonville jaguars', 2013),\n ('jacksonville jaguars', 2014),\n ('jacksonville jaguars', 2015),\n ('jacksonville jaguars', 2016),\n ('jacksonville jaguars', 2017),\n ('jacksonville jaguars', 2018),\n ('jacksonville jaguars', 2019),\n ('kansas city chiefs', 2010),\n ('kansas city chiefs', 2011),\n ('kansas city chiefs', 2012),\n ('kansas city chiefs', 2013),\n ('kansas city chiefs', 2014),\n ('kansas city chiefs', 2015),\n ('kansas city chiefs', 2016),\n ('kansas city chiefs', 2017),\n ('kansas city chiefs', 2018),\n ('kansas city chiefs', 2019),\n ('los angeles chargers', 2010),\n ('los angeles chargers', 2011),\n ('los angeles chargers', 2012),\n ('los angeles chargers', 2013),\n ('los angeles chargers', 2014),\n ('los angeles chargers', 2015),\n ('los angeles chargers', 2016),\n ('los angeles chargers', 2017),\n ('los angeles chargers', 2018),\n ('los angeles chargers', 2019),\n ('los angeles rams', 2010),\n ('los angeles rams', 2011),\n ('los angeles rams', 2012),\n ('los angeles rams', 2013),\n ('los angeles rams', 2014),\n ('los angeles rams', 2015),\n ('los angeles rams', 2016),\n ('los angeles rams', 2017),\n ('los angeles rams', 2018),\n ('los angeles rams', 2019),\n ('miami dolphins', 2010),\n ('miami dolphins', 2011),\n ('miami dolphins', 2012),\n ('miami dolphins', 2013),\n ('miami dolphins', 2014),\n ('miami dolphins', 2015),\n ('miami dolphins', 2016),\n ('miami dolphins', 2017),\n ('miami dolphins', 2018),\n ('miami dolphins', 2019),\n ('minnesota vikings', 2010),\n ('minnesota vikings', 2011),\n ('minnesota vikings', 2012),\n ('minnesota vikings', 2013),\n ('minnesota vikings', 2014),\n ('minnesota vikings', 2015),\n ('minnesota vikings', 2016),\n ('minnesota vikings', 2017),\n ('minnesota vikings', 2018),\n ('minnesota vikings', 2019),\n ('new england patriots', 2010),\n ('new england patriots', 2011),\n ('new england patriots', 2012),\n ('new england patriots', 2013),\n ('new england patriots', 2014),\n ('new england patriots', 2015),\n ('new england patriots', 2016),\n ('new england patriots', 2017),\n ('new england patriots', 2018),\n ('new england patriots', 2019),\n ('new orleans saints', 2010),\n ('new orleans saints', 2011),\n ('new orleans saints', 2012),\n ('new orleans saints', 2013),\n ('new orleans saints', 2014),\n ('new orleans saints', 2015),\n ('new orleans saints', 2016),\n ('new orleans saints', 2017),\n ('new orleans saints', 2018),\n ('new orleans saints', 2019),\n ('new york giants', 2010),\n ('new york giants', 2011),\n ('new york giants', 2012),\n ('new york giants', 2013),\n ('new york giants', 2014),\n ('new york giants', 2015),\n ('new york giants', 2016),\n ('new york giants', 2017),\n ('new york giants', 2018),\n ('new york giants', 2019),\n ('new york jets', 2010),\n ('new york jets', 2011),\n ('new york jets', 2012),\n ('new york jets', 2013),\n ('new york jets', 2014),\n ('new york jets', 2015),\n ('new york jets', 2016),\n ('new york jets', 2017),\n ('new york jets', 2018),\n ('new york jets', 2019),\n ('oakland raiders', 2010),\n ('oakland raiders', 2011),\n ('oakland raiders', 2012),\n ('oakland raiders', 2013),\n ('oakland raiders', 2014),\n ('oakland raiders', 2015),\n ('oakland raiders', 2016),\n ('oakland raiders', 2017),\n ('oakland raiders', 2018),\n ('oakland raiders', 2019),\n ('philadelphia eagles', 2010),\n ('philadelphia eagles', 2011),\n ('philadelphia eagles', 2012),\n ('philadelphia eagles', 2013),\n ('philadelphia eagles', 2014),\n ('philadelphia eagles', 2015),\n ('philadelphia eagles', 2016),\n ('philadelphia eagles', 2017),\n ('philadelphia eagles', 2018),\n ('philadelphia eagles', 2019),\n ('pittsburgh steelers', 2010),\n ('pittsburgh steelers', 2011),\n ('pittsburgh steelers', 2012),\n ('pittsburgh steelers', 2013),\n ('pittsburgh steelers', 2014),\n ('pittsburgh steelers', 2015),\n ('pittsburgh steelers', 2016),\n ('pittsburgh steelers', 2017),\n ('pittsburgh steelers', 2018),\n ('pittsburgh steelers', 2019),\n ('san francisco 49ers', 2010),\n ('san francisco 49ers', 2011),\n ('san francisco 49ers', 2012),\n ('san francisco 49ers', 2013),\n ('san francisco 49ers', 2014),\n ('san francisco 49ers', 2015),\n ('san francisco 49ers', 2016),\n ('san francisco 49ers', 2017),\n ('san francisco 49ers', 2018),\n ('san francisco 49ers', 2019),\n ('seattle seahawks', 2010),\n ('seattle seahawks', 2011),\n ('seattle seahawks', 2012),\n ('seattle seahawks', 2013),\n ('seattle seahawks', 2014),\n ('seattle seahawks', 2015),\n ('seattle seahawks', 2016),\n ('seattle seahawks', 2017),\n ('seattle seahawks', 2018),\n ('seattle seahawks', 2019),\n ('tampa bay buccaneers', 2010),\n ('tampa bay buccaneers', 2011),\n ('tampa bay buccaneers', 2012),\n ('tampa bay buccaneers', 2013),\n ('tampa bay buccaneers', 2014),\n ('tampa bay buccaneers', 2015),\n ('tampa bay buccaneers', 2016),\n ('tampa bay buccaneers', 2017),\n ('tampa bay buccaneers', 2018),\n ('tampa bay buccaneers', 2019),\n ('tennessee titans', 2010),\n ('tennessee titans', 2011),\n ('tennessee titans', 2012),\n ('tennessee titans', 2013),\n ('tennessee titans', 2014),\n ('tennessee titans', 2015),\n ('tennessee titans', 2016),\n ('tennessee titans', 2017),\n ('tennessee titans', 2018),\n ('tennessee titans', 2019),\n ('washington redskins', 2010),\n ('washington redskins', 2011),\n ('washington redskins', 2012),\n ('washington redskins', 2013),\n ('washington redskins', 2014),\n ('washington redskins', 2015),\n ('washington redskins', 2016),\n ('washington redskins', 2017),\n ('washington redskins', 2018),\n ('washington redskins', 2019)]"
     },
     "metadata": {},
     "output_type": "execute_result",
     "execution_count": 41
    }
   ],
   "source": [
    "[\n",
    "    (team, year)\n",
    "    for team in list_of_teams\n",
    "    for year in list(range(2010, 2020))\n",
    "]"
   ],
   "metadata": {
    "collapsed": false,
    "pycharm": {
     "name": "#%%\n",
     "is_executing": false
    }
   }
  },
  {
   "cell_type": "code",
   "execution_count": 44,
   "outputs": [
    {
     "data": {
      "text/plain": "['https://www.spotrac.com/nfl/arizona-cardinals//cap/2010/',\n 'https://www.spotrac.com/nfl/arizona-cardinals//cap/2011/',\n 'https://www.spotrac.com/nfl/arizona-cardinals//cap/2012/',\n 'https://www.spotrac.com/nfl/arizona-cardinals//cap/2013/',\n 'https://www.spotrac.com/nfl/arizona-cardinals//cap/2014/',\n 'https://www.spotrac.com/nfl/arizona-cardinals//cap/2015/',\n 'https://www.spotrac.com/nfl/arizona-cardinals//cap/2016/',\n 'https://www.spotrac.com/nfl/arizona-cardinals//cap/2017/',\n 'https://www.spotrac.com/nfl/arizona-cardinals//cap/2018/',\n 'https://www.spotrac.com/nfl/arizona-cardinals//cap/2019/',\n 'https://www.spotrac.com/nfl/atlanta-falcons//cap/2010/',\n 'https://www.spotrac.com/nfl/atlanta-falcons//cap/2011/',\n 'https://www.spotrac.com/nfl/atlanta-falcons//cap/2012/',\n 'https://www.spotrac.com/nfl/atlanta-falcons//cap/2013/',\n 'https://www.spotrac.com/nfl/atlanta-falcons//cap/2014/',\n 'https://www.spotrac.com/nfl/atlanta-falcons//cap/2015/',\n 'https://www.spotrac.com/nfl/atlanta-falcons//cap/2016/',\n 'https://www.spotrac.com/nfl/atlanta-falcons//cap/2017/',\n 'https://www.spotrac.com/nfl/atlanta-falcons//cap/2018/',\n 'https://www.spotrac.com/nfl/atlanta-falcons//cap/2019/',\n 'https://www.spotrac.com/nfl/baltimore-ravens//cap/2010/',\n 'https://www.spotrac.com/nfl/baltimore-ravens//cap/2011/',\n 'https://www.spotrac.com/nfl/baltimore-ravens//cap/2012/',\n 'https://www.spotrac.com/nfl/baltimore-ravens//cap/2013/',\n 'https://www.spotrac.com/nfl/baltimore-ravens//cap/2014/',\n 'https://www.spotrac.com/nfl/baltimore-ravens//cap/2015/',\n 'https://www.spotrac.com/nfl/baltimore-ravens//cap/2016/',\n 'https://www.spotrac.com/nfl/baltimore-ravens//cap/2017/',\n 'https://www.spotrac.com/nfl/baltimore-ravens//cap/2018/',\n 'https://www.spotrac.com/nfl/baltimore-ravens//cap/2019/',\n 'https://www.spotrac.com/nfl/buffalo-bills//cap/2010/',\n 'https://www.spotrac.com/nfl/buffalo-bills//cap/2011/',\n 'https://www.spotrac.com/nfl/buffalo-bills//cap/2012/',\n 'https://www.spotrac.com/nfl/buffalo-bills//cap/2013/',\n 'https://www.spotrac.com/nfl/buffalo-bills//cap/2014/',\n 'https://www.spotrac.com/nfl/buffalo-bills//cap/2015/',\n 'https://www.spotrac.com/nfl/buffalo-bills//cap/2016/',\n 'https://www.spotrac.com/nfl/buffalo-bills//cap/2017/',\n 'https://www.spotrac.com/nfl/buffalo-bills//cap/2018/',\n 'https://www.spotrac.com/nfl/buffalo-bills//cap/2019/',\n 'https://www.spotrac.com/nfl/carolina-panthers//cap/2010/',\n 'https://www.spotrac.com/nfl/carolina-panthers//cap/2011/',\n 'https://www.spotrac.com/nfl/carolina-panthers//cap/2012/',\n 'https://www.spotrac.com/nfl/carolina-panthers//cap/2013/',\n 'https://www.spotrac.com/nfl/carolina-panthers//cap/2014/',\n 'https://www.spotrac.com/nfl/carolina-panthers//cap/2015/',\n 'https://www.spotrac.com/nfl/carolina-panthers//cap/2016/',\n 'https://www.spotrac.com/nfl/carolina-panthers//cap/2017/',\n 'https://www.spotrac.com/nfl/carolina-panthers//cap/2018/',\n 'https://www.spotrac.com/nfl/carolina-panthers//cap/2019/',\n 'https://www.spotrac.com/nfl/chicago-bears//cap/2010/',\n 'https://www.spotrac.com/nfl/chicago-bears//cap/2011/',\n 'https://www.spotrac.com/nfl/chicago-bears//cap/2012/',\n 'https://www.spotrac.com/nfl/chicago-bears//cap/2013/',\n 'https://www.spotrac.com/nfl/chicago-bears//cap/2014/',\n 'https://www.spotrac.com/nfl/chicago-bears//cap/2015/',\n 'https://www.spotrac.com/nfl/chicago-bears//cap/2016/',\n 'https://www.spotrac.com/nfl/chicago-bears//cap/2017/',\n 'https://www.spotrac.com/nfl/chicago-bears//cap/2018/',\n 'https://www.spotrac.com/nfl/chicago-bears//cap/2019/',\n 'https://www.spotrac.com/nfl/cincinnati-bengals//cap/2010/',\n 'https://www.spotrac.com/nfl/cincinnati-bengals//cap/2011/',\n 'https://www.spotrac.com/nfl/cincinnati-bengals//cap/2012/',\n 'https://www.spotrac.com/nfl/cincinnati-bengals//cap/2013/',\n 'https://www.spotrac.com/nfl/cincinnati-bengals//cap/2014/',\n 'https://www.spotrac.com/nfl/cincinnati-bengals//cap/2015/',\n 'https://www.spotrac.com/nfl/cincinnati-bengals//cap/2016/',\n 'https://www.spotrac.com/nfl/cincinnati-bengals//cap/2017/',\n 'https://www.spotrac.com/nfl/cincinnati-bengals//cap/2018/',\n 'https://www.spotrac.com/nfl/cincinnati-bengals//cap/2019/',\n 'https://www.spotrac.com/nfl/cleveland-browns//cap/2010/',\n 'https://www.spotrac.com/nfl/cleveland-browns//cap/2011/',\n 'https://www.spotrac.com/nfl/cleveland-browns//cap/2012/',\n 'https://www.spotrac.com/nfl/cleveland-browns//cap/2013/',\n 'https://www.spotrac.com/nfl/cleveland-browns//cap/2014/',\n 'https://www.spotrac.com/nfl/cleveland-browns//cap/2015/',\n 'https://www.spotrac.com/nfl/cleveland-browns//cap/2016/',\n 'https://www.spotrac.com/nfl/cleveland-browns//cap/2017/',\n 'https://www.spotrac.com/nfl/cleveland-browns//cap/2018/',\n 'https://www.spotrac.com/nfl/cleveland-browns//cap/2019/',\n 'https://www.spotrac.com/nfl/dallas-cowboys//cap/2010/',\n 'https://www.spotrac.com/nfl/dallas-cowboys//cap/2011/',\n 'https://www.spotrac.com/nfl/dallas-cowboys//cap/2012/',\n 'https://www.spotrac.com/nfl/dallas-cowboys//cap/2013/',\n 'https://www.spotrac.com/nfl/dallas-cowboys//cap/2014/',\n 'https://www.spotrac.com/nfl/dallas-cowboys//cap/2015/',\n 'https://www.spotrac.com/nfl/dallas-cowboys//cap/2016/',\n 'https://www.spotrac.com/nfl/dallas-cowboys//cap/2017/',\n 'https://www.spotrac.com/nfl/dallas-cowboys//cap/2018/',\n 'https://www.spotrac.com/nfl/dallas-cowboys//cap/2019/',\n 'https://www.spotrac.com/nfl/denver-broncos//cap/2010/',\n 'https://www.spotrac.com/nfl/denver-broncos//cap/2011/',\n 'https://www.spotrac.com/nfl/denver-broncos//cap/2012/',\n 'https://www.spotrac.com/nfl/denver-broncos//cap/2013/',\n 'https://www.spotrac.com/nfl/denver-broncos//cap/2014/',\n 'https://www.spotrac.com/nfl/denver-broncos//cap/2015/',\n 'https://www.spotrac.com/nfl/denver-broncos//cap/2016/',\n 'https://www.spotrac.com/nfl/denver-broncos//cap/2017/',\n 'https://www.spotrac.com/nfl/denver-broncos//cap/2018/',\n 'https://www.spotrac.com/nfl/denver-broncos//cap/2019/',\n 'https://www.spotrac.com/nfl/detroit-lions//cap/2010/',\n 'https://www.spotrac.com/nfl/detroit-lions//cap/2011/',\n 'https://www.spotrac.com/nfl/detroit-lions//cap/2012/',\n 'https://www.spotrac.com/nfl/detroit-lions//cap/2013/',\n 'https://www.spotrac.com/nfl/detroit-lions//cap/2014/',\n 'https://www.spotrac.com/nfl/detroit-lions//cap/2015/',\n 'https://www.spotrac.com/nfl/detroit-lions//cap/2016/',\n 'https://www.spotrac.com/nfl/detroit-lions//cap/2017/',\n 'https://www.spotrac.com/nfl/detroit-lions//cap/2018/',\n 'https://www.spotrac.com/nfl/detroit-lions//cap/2019/',\n 'https://www.spotrac.com/nfl/green-bay-packers//cap/2010/',\n 'https://www.spotrac.com/nfl/green-bay-packers//cap/2011/',\n 'https://www.spotrac.com/nfl/green-bay-packers//cap/2012/',\n 'https://www.spotrac.com/nfl/green-bay-packers//cap/2013/',\n 'https://www.spotrac.com/nfl/green-bay-packers//cap/2014/',\n 'https://www.spotrac.com/nfl/green-bay-packers//cap/2015/',\n 'https://www.spotrac.com/nfl/green-bay-packers//cap/2016/',\n 'https://www.spotrac.com/nfl/green-bay-packers//cap/2017/',\n 'https://www.spotrac.com/nfl/green-bay-packers//cap/2018/',\n 'https://www.spotrac.com/nfl/green-bay-packers//cap/2019/',\n 'https://www.spotrac.com/nfl/houston-texans//cap/2010/',\n 'https://www.spotrac.com/nfl/houston-texans//cap/2011/',\n 'https://www.spotrac.com/nfl/houston-texans//cap/2012/',\n 'https://www.spotrac.com/nfl/houston-texans//cap/2013/',\n 'https://www.spotrac.com/nfl/houston-texans//cap/2014/',\n 'https://www.spotrac.com/nfl/houston-texans//cap/2015/',\n 'https://www.spotrac.com/nfl/houston-texans//cap/2016/',\n 'https://www.spotrac.com/nfl/houston-texans//cap/2017/',\n 'https://www.spotrac.com/nfl/houston-texans//cap/2018/',\n 'https://www.spotrac.com/nfl/houston-texans//cap/2019/',\n 'https://www.spotrac.com/nfl/indianapolis-colts//cap/2010/',\n 'https://www.spotrac.com/nfl/indianapolis-colts//cap/2011/',\n 'https://www.spotrac.com/nfl/indianapolis-colts//cap/2012/',\n 'https://www.spotrac.com/nfl/indianapolis-colts//cap/2013/',\n 'https://www.spotrac.com/nfl/indianapolis-colts//cap/2014/',\n 'https://www.spotrac.com/nfl/indianapolis-colts//cap/2015/',\n 'https://www.spotrac.com/nfl/indianapolis-colts//cap/2016/',\n 'https://www.spotrac.com/nfl/indianapolis-colts//cap/2017/',\n 'https://www.spotrac.com/nfl/indianapolis-colts//cap/2018/',\n 'https://www.spotrac.com/nfl/indianapolis-colts//cap/2019/',\n 'https://www.spotrac.com/nfl/jacksonville-jaguars//cap/2010/',\n 'https://www.spotrac.com/nfl/jacksonville-jaguars//cap/2011/',\n 'https://www.spotrac.com/nfl/jacksonville-jaguars//cap/2012/',\n 'https://www.spotrac.com/nfl/jacksonville-jaguars//cap/2013/',\n 'https://www.spotrac.com/nfl/jacksonville-jaguars//cap/2014/',\n 'https://www.spotrac.com/nfl/jacksonville-jaguars//cap/2015/',\n 'https://www.spotrac.com/nfl/jacksonville-jaguars//cap/2016/',\n 'https://www.spotrac.com/nfl/jacksonville-jaguars//cap/2017/',\n 'https://www.spotrac.com/nfl/jacksonville-jaguars//cap/2018/',\n 'https://www.spotrac.com/nfl/jacksonville-jaguars//cap/2019/',\n 'https://www.spotrac.com/nfl/kansas-city-chiefs//cap/2010/',\n 'https://www.spotrac.com/nfl/kansas-city-chiefs//cap/2011/',\n 'https://www.spotrac.com/nfl/kansas-city-chiefs//cap/2012/',\n 'https://www.spotrac.com/nfl/kansas-city-chiefs//cap/2013/',\n 'https://www.spotrac.com/nfl/kansas-city-chiefs//cap/2014/',\n 'https://www.spotrac.com/nfl/kansas-city-chiefs//cap/2015/',\n 'https://www.spotrac.com/nfl/kansas-city-chiefs//cap/2016/',\n 'https://www.spotrac.com/nfl/kansas-city-chiefs//cap/2017/',\n 'https://www.spotrac.com/nfl/kansas-city-chiefs//cap/2018/',\n 'https://www.spotrac.com/nfl/kansas-city-chiefs//cap/2019/',\n 'https://www.spotrac.com/nfl/los-angeles-chargers//cap/2010/',\n 'https://www.spotrac.com/nfl/los-angeles-chargers//cap/2011/',\n 'https://www.spotrac.com/nfl/los-angeles-chargers//cap/2012/',\n 'https://www.spotrac.com/nfl/los-angeles-chargers//cap/2013/',\n 'https://www.spotrac.com/nfl/los-angeles-chargers//cap/2014/',\n 'https://www.spotrac.com/nfl/los-angeles-chargers//cap/2015/',\n 'https://www.spotrac.com/nfl/los-angeles-chargers//cap/2016/',\n 'https://www.spotrac.com/nfl/los-angeles-chargers//cap/2017/',\n 'https://www.spotrac.com/nfl/los-angeles-chargers//cap/2018/',\n 'https://www.spotrac.com/nfl/los-angeles-chargers//cap/2019/',\n 'https://www.spotrac.com/nfl/los-angeles-rams//cap/2010/',\n 'https://www.spotrac.com/nfl/los-angeles-rams//cap/2011/',\n 'https://www.spotrac.com/nfl/los-angeles-rams//cap/2012/',\n 'https://www.spotrac.com/nfl/los-angeles-rams//cap/2013/',\n 'https://www.spotrac.com/nfl/los-angeles-rams//cap/2014/',\n 'https://www.spotrac.com/nfl/los-angeles-rams//cap/2015/',\n 'https://www.spotrac.com/nfl/los-angeles-rams//cap/2016/',\n 'https://www.spotrac.com/nfl/los-angeles-rams//cap/2017/',\n 'https://www.spotrac.com/nfl/los-angeles-rams//cap/2018/',\n 'https://www.spotrac.com/nfl/los-angeles-rams//cap/2019/',\n 'https://www.spotrac.com/nfl/miami-dolphins//cap/2010/',\n 'https://www.spotrac.com/nfl/miami-dolphins//cap/2011/',\n 'https://www.spotrac.com/nfl/miami-dolphins//cap/2012/',\n 'https://www.spotrac.com/nfl/miami-dolphins//cap/2013/',\n 'https://www.spotrac.com/nfl/miami-dolphins//cap/2014/',\n 'https://www.spotrac.com/nfl/miami-dolphins//cap/2015/',\n 'https://www.spotrac.com/nfl/miami-dolphins//cap/2016/',\n 'https://www.spotrac.com/nfl/miami-dolphins//cap/2017/',\n 'https://www.spotrac.com/nfl/miami-dolphins//cap/2018/',\n 'https://www.spotrac.com/nfl/miami-dolphins//cap/2019/',\n 'https://www.spotrac.com/nfl/minnesota-vikings//cap/2010/',\n 'https://www.spotrac.com/nfl/minnesota-vikings//cap/2011/',\n 'https://www.spotrac.com/nfl/minnesota-vikings//cap/2012/',\n 'https://www.spotrac.com/nfl/minnesota-vikings//cap/2013/',\n 'https://www.spotrac.com/nfl/minnesota-vikings//cap/2014/',\n 'https://www.spotrac.com/nfl/minnesota-vikings//cap/2015/',\n 'https://www.spotrac.com/nfl/minnesota-vikings//cap/2016/',\n 'https://www.spotrac.com/nfl/minnesota-vikings//cap/2017/',\n 'https://www.spotrac.com/nfl/minnesota-vikings//cap/2018/',\n 'https://www.spotrac.com/nfl/minnesota-vikings//cap/2019/',\n 'https://www.spotrac.com/nfl/new-england-patriots//cap/2010/',\n 'https://www.spotrac.com/nfl/new-england-patriots//cap/2011/',\n 'https://www.spotrac.com/nfl/new-england-patriots//cap/2012/',\n 'https://www.spotrac.com/nfl/new-england-patriots//cap/2013/',\n 'https://www.spotrac.com/nfl/new-england-patriots//cap/2014/',\n 'https://www.spotrac.com/nfl/new-england-patriots//cap/2015/',\n 'https://www.spotrac.com/nfl/new-england-patriots//cap/2016/',\n 'https://www.spotrac.com/nfl/new-england-patriots//cap/2017/',\n 'https://www.spotrac.com/nfl/new-england-patriots//cap/2018/',\n 'https://www.spotrac.com/nfl/new-england-patriots//cap/2019/',\n 'https://www.spotrac.com/nfl/new-orleans-saints//cap/2010/',\n 'https://www.spotrac.com/nfl/new-orleans-saints//cap/2011/',\n 'https://www.spotrac.com/nfl/new-orleans-saints//cap/2012/',\n 'https://www.spotrac.com/nfl/new-orleans-saints//cap/2013/',\n 'https://www.spotrac.com/nfl/new-orleans-saints//cap/2014/',\n 'https://www.spotrac.com/nfl/new-orleans-saints//cap/2015/',\n 'https://www.spotrac.com/nfl/new-orleans-saints//cap/2016/',\n 'https://www.spotrac.com/nfl/new-orleans-saints//cap/2017/',\n 'https://www.spotrac.com/nfl/new-orleans-saints//cap/2018/',\n 'https://www.spotrac.com/nfl/new-orleans-saints//cap/2019/',\n 'https://www.spotrac.com/nfl/new-york-giants//cap/2010/',\n 'https://www.spotrac.com/nfl/new-york-giants//cap/2011/',\n 'https://www.spotrac.com/nfl/new-york-giants//cap/2012/',\n 'https://www.spotrac.com/nfl/new-york-giants//cap/2013/',\n 'https://www.spotrac.com/nfl/new-york-giants//cap/2014/',\n 'https://www.spotrac.com/nfl/new-york-giants//cap/2015/',\n 'https://www.spotrac.com/nfl/new-york-giants//cap/2016/',\n 'https://www.spotrac.com/nfl/new-york-giants//cap/2017/',\n 'https://www.spotrac.com/nfl/new-york-giants//cap/2018/',\n 'https://www.spotrac.com/nfl/new-york-giants//cap/2019/',\n 'https://www.spotrac.com/nfl/new-york-jets//cap/2010/',\n 'https://www.spotrac.com/nfl/new-york-jets//cap/2011/',\n 'https://www.spotrac.com/nfl/new-york-jets//cap/2012/',\n 'https://www.spotrac.com/nfl/new-york-jets//cap/2013/',\n 'https://www.spotrac.com/nfl/new-york-jets//cap/2014/',\n 'https://www.spotrac.com/nfl/new-york-jets//cap/2015/',\n 'https://www.spotrac.com/nfl/new-york-jets//cap/2016/',\n 'https://www.spotrac.com/nfl/new-york-jets//cap/2017/',\n 'https://www.spotrac.com/nfl/new-york-jets//cap/2018/',\n 'https://www.spotrac.com/nfl/new-york-jets//cap/2019/',\n 'https://www.spotrac.com/nfl/oakland-raiders//cap/2010/',\n 'https://www.spotrac.com/nfl/oakland-raiders//cap/2011/',\n 'https://www.spotrac.com/nfl/oakland-raiders//cap/2012/',\n 'https://www.spotrac.com/nfl/oakland-raiders//cap/2013/',\n 'https://www.spotrac.com/nfl/oakland-raiders//cap/2014/',\n 'https://www.spotrac.com/nfl/oakland-raiders//cap/2015/',\n 'https://www.spotrac.com/nfl/oakland-raiders//cap/2016/',\n 'https://www.spotrac.com/nfl/oakland-raiders//cap/2017/',\n 'https://www.spotrac.com/nfl/oakland-raiders//cap/2018/',\n 'https://www.spotrac.com/nfl/oakland-raiders//cap/2019/',\n 'https://www.spotrac.com/nfl/philadelphia-eagles//cap/2010/',\n 'https://www.spotrac.com/nfl/philadelphia-eagles//cap/2011/',\n 'https://www.spotrac.com/nfl/philadelphia-eagles//cap/2012/',\n 'https://www.spotrac.com/nfl/philadelphia-eagles//cap/2013/',\n 'https://www.spotrac.com/nfl/philadelphia-eagles//cap/2014/',\n 'https://www.spotrac.com/nfl/philadelphia-eagles//cap/2015/',\n 'https://www.spotrac.com/nfl/philadelphia-eagles//cap/2016/',\n 'https://www.spotrac.com/nfl/philadelphia-eagles//cap/2017/',\n 'https://www.spotrac.com/nfl/philadelphia-eagles//cap/2018/',\n 'https://www.spotrac.com/nfl/philadelphia-eagles//cap/2019/',\n 'https://www.spotrac.com/nfl/pittsburgh-steelers//cap/2010/',\n 'https://www.spotrac.com/nfl/pittsburgh-steelers//cap/2011/',\n 'https://www.spotrac.com/nfl/pittsburgh-steelers//cap/2012/',\n 'https://www.spotrac.com/nfl/pittsburgh-steelers//cap/2013/',\n 'https://www.spotrac.com/nfl/pittsburgh-steelers//cap/2014/',\n 'https://www.spotrac.com/nfl/pittsburgh-steelers//cap/2015/',\n 'https://www.spotrac.com/nfl/pittsburgh-steelers//cap/2016/',\n 'https://www.spotrac.com/nfl/pittsburgh-steelers//cap/2017/',\n 'https://www.spotrac.com/nfl/pittsburgh-steelers//cap/2018/',\n 'https://www.spotrac.com/nfl/pittsburgh-steelers//cap/2019/',\n 'https://www.spotrac.com/nfl/san-francisco-49ers//cap/2010/',\n 'https://www.spotrac.com/nfl/san-francisco-49ers//cap/2011/',\n 'https://www.spotrac.com/nfl/san-francisco-49ers//cap/2012/',\n 'https://www.spotrac.com/nfl/san-francisco-49ers//cap/2013/',\n 'https://www.spotrac.com/nfl/san-francisco-49ers//cap/2014/',\n 'https://www.spotrac.com/nfl/san-francisco-49ers//cap/2015/',\n 'https://www.spotrac.com/nfl/san-francisco-49ers//cap/2016/',\n 'https://www.spotrac.com/nfl/san-francisco-49ers//cap/2017/',\n 'https://www.spotrac.com/nfl/san-francisco-49ers//cap/2018/',\n 'https://www.spotrac.com/nfl/san-francisco-49ers//cap/2019/',\n 'https://www.spotrac.com/nfl/seattle-seahawks//cap/2010/',\n 'https://www.spotrac.com/nfl/seattle-seahawks//cap/2011/',\n 'https://www.spotrac.com/nfl/seattle-seahawks//cap/2012/',\n 'https://www.spotrac.com/nfl/seattle-seahawks//cap/2013/',\n 'https://www.spotrac.com/nfl/seattle-seahawks//cap/2014/',\n 'https://www.spotrac.com/nfl/seattle-seahawks//cap/2015/',\n 'https://www.spotrac.com/nfl/seattle-seahawks//cap/2016/',\n 'https://www.spotrac.com/nfl/seattle-seahawks//cap/2017/',\n 'https://www.spotrac.com/nfl/seattle-seahawks//cap/2018/',\n 'https://www.spotrac.com/nfl/seattle-seahawks//cap/2019/',\n 'https://www.spotrac.com/nfl/tampa-bay-buccaneers//cap/2010/',\n 'https://www.spotrac.com/nfl/tampa-bay-buccaneers//cap/2011/',\n 'https://www.spotrac.com/nfl/tampa-bay-buccaneers//cap/2012/',\n 'https://www.spotrac.com/nfl/tampa-bay-buccaneers//cap/2013/',\n 'https://www.spotrac.com/nfl/tampa-bay-buccaneers//cap/2014/',\n 'https://www.spotrac.com/nfl/tampa-bay-buccaneers//cap/2015/',\n 'https://www.spotrac.com/nfl/tampa-bay-buccaneers//cap/2016/',\n 'https://www.spotrac.com/nfl/tampa-bay-buccaneers//cap/2017/',\n 'https://www.spotrac.com/nfl/tampa-bay-buccaneers//cap/2018/',\n 'https://www.spotrac.com/nfl/tampa-bay-buccaneers//cap/2019/',\n 'https://www.spotrac.com/nfl/tennessee-titans//cap/2010/',\n 'https://www.spotrac.com/nfl/tennessee-titans//cap/2011/',\n 'https://www.spotrac.com/nfl/tennessee-titans//cap/2012/',\n 'https://www.spotrac.com/nfl/tennessee-titans//cap/2013/',\n 'https://www.spotrac.com/nfl/tennessee-titans//cap/2014/',\n 'https://www.spotrac.com/nfl/tennessee-titans//cap/2015/',\n 'https://www.spotrac.com/nfl/tennessee-titans//cap/2016/',\n 'https://www.spotrac.com/nfl/tennessee-titans//cap/2017/',\n 'https://www.spotrac.com/nfl/tennessee-titans//cap/2018/',\n 'https://www.spotrac.com/nfl/tennessee-titans//cap/2019/',\n 'https://www.spotrac.com/nfl/washington-redskins//cap/2010/',\n 'https://www.spotrac.com/nfl/washington-redskins//cap/2011/',\n 'https://www.spotrac.com/nfl/washington-redskins//cap/2012/',\n 'https://www.spotrac.com/nfl/washington-redskins//cap/2013/',\n 'https://www.spotrac.com/nfl/washington-redskins//cap/2014/',\n 'https://www.spotrac.com/nfl/washington-redskins//cap/2015/',\n 'https://www.spotrac.com/nfl/washington-redskins//cap/2016/',\n 'https://www.spotrac.com/nfl/washington-redskins//cap/2017/',\n 'https://www.spotrac.com/nfl/washington-redskins//cap/2018/',\n 'https://www.spotrac.com/nfl/washington-redskins//cap/2019/']"
     },
     "metadata": {},
     "output_type": "execute_result",
     "execution_count": 44
    }
   ],
   "source": [
    "base_url = \"https://www.spotrac.com/nfl/\"\n",
    "[\n",
    "    base_url + team + '/' + '/cap/' + str(year) + '/'\n",
    "    for team in list_of_teams\n",
    "    for year in list(range(2010, 2020))\n",
    "]"
   ],
   "metadata": {
    "collapsed": false,
    "pycharm": {
     "name": "#%%\n",
     "is_executing": false
    }
   }
  },
  {
   "cell_type": "code",
   "execution_count": 46,
   "outputs": [
    {
     "name": "stderr",
     "text": [
      "C:\\Users\\jason\\AppData\\Roaming\\Python\\Python37\\site-packages\\ipykernel_launcher.py:1: FutureWarning: The signature of `Series.to_csv` was aligned to that of `DataFrame.to_csv`, and argument 'header' will change its default value from False to True: please pass an explicit value to suppress this warning.\n",
      "  \"\"\"Entry point for launching an IPython kernel.\n"
     ],
     "output_type": "stream"
    }
   ],
   "source": [
    "list_of_teams.to_csv('nfl_teams_url_format.csv', index=False)\n"
   ],
   "metadata": {
    "collapsed": false,
    "pycharm": {
     "name": "#%%\n",
     "is_executing": false
    }
   }
  },
  {
   "cell_type": "code",
   "execution_count": 48,
   "outputs": [
    {
     "data": {
      "text/plain": "['arizona-cardinals',\n 'atlanta-falcons',\n 'baltimore-ravens',\n 'buffalo-bills',\n 'carolina-panthers',\n 'chicago-bears',\n 'cincinnati-bengals',\n 'cleveland-browns',\n 'dallas-cowboys',\n 'denver-broncos',\n 'detroit-lions',\n 'green-bay-packers',\n 'houston-texans',\n 'indianapolis-colts',\n 'jacksonville-jaguars',\n 'kansas-city-chiefs',\n 'los-angeles-chargers',\n 'los-angeles-rams',\n 'miami-dolphins',\n 'minnesota-vikings',\n 'new-england-patriots',\n 'new-orleans-saints',\n 'new-york-giants',\n 'new-york-jets',\n 'oakland-raiders',\n 'philadelphia-eagles',\n 'pittsburgh-steelers',\n 'san-francisco-49ers',\n 'seattle-seahawks',\n 'tampa-bay-buccaneers',\n 'tennessee-titans',\n 'washington-redskins']"
     },
     "metadata": {},
     "output_type": "execute_result",
     "execution_count": 48
    }
   ],
   "source": [
    "pd.read_csv('nfl_teams_url_format.csv', header=None, names=['team_name'])['team_name'].to_list()\n"
   ],
   "metadata": {
    "collapsed": false,
    "pycharm": {
     "name": "#%%\n",
     "is_executing": false
    }
   }
  },
  {
   "cell_type": "code",
   "execution_count": null,
   "outputs": [],
   "source": [
    "\n"
   ],
   "metadata": {
    "collapsed": false,
    "pycharm": {
     "name": "#%%\n"
    }
   }
  }
 ],
 "metadata": {
  "kernelspec": {
   "display_name": "Python 3",
   "language": "python",
   "name": "python3"
  },
  "language_info": {
   "codemirror_mode": {
    "name": "ipython",
    "version": 2
   },
   "file_extension": ".py",
   "mimetype": "text/x-python",
   "name": "python",
   "nbconvert_exporter": "python",
   "pygments_lexer": "ipython2",
   "version": "2.7.6"
  },
  "pycharm": {
   "stem_cell": {
    "cell_type": "raw",
    "source": [],
    "metadata": {
     "collapsed": false
    }
   }
  }
 },
 "nbformat": 4,
 "nbformat_minor": 0
}
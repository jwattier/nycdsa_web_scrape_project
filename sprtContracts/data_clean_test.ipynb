{
 "cells": [
  {
   "cell_type": "code",
   "execution_count": 1,
   "metadata": {
    "collapsed": true,
    "pycharm": {
     "is_executing": false
    }
   },
   "outputs": [
    {
     "name": "stdout",
     "text": [
      "Populating the interactive namespace from numpy and matplotlib\n"
     ],
     "output_type": "stream"
    }
   ],
   "source": [
    "%pylab inline\n",
    "import pandas as pd\n",
    "from pandas import DataFrame, Series"
   ]
  },
  {
   "cell_type": "code",
   "execution_count": 4,
   "outputs": [],
   "source": [
    "df = pd.read_csv('nfl_team_contracts.csv')"
   ],
   "metadata": {
    "collapsed": false,
    "pycharm": {
     "name": "#%%\n",
     "is_executing": false
    }
   }
  },
  {
   "cell_type": "code",
   "execution_count": 5,
   "outputs": [
    {
     "data": {
      "text/plain": "    base_salary      cap_hit  cap_perc dead_cap_amt             name  \\\n102     $24,000     $24,000       0.01            -  Pita Taumoepenu   \n22     $805,000  $1,000,000       0.52            -    Cassius Marsh   \n83     $121,823    $121,823       0.06            -  Darrell Daniels   \n87     $104,000    $104,000       0.05            -      Jalen Davis   \n19   $1,072,059  $1,072,059       0.55            -     Kenyan Drake   \n\n    option_bonus other_bonus position restruct_bonus roster_bonus  \\\n102            -           -      OLB              -            -   \n22             -           -      OLB              -            -   \n83             -           -       TE              -            -   \n87             -           -       CB              -            -   \n19             -           -       RB              -            -   \n\n    roster_status signing_bonus               team workout_bonus  year  \n102      dead_cap             -  Arizona Cardinals             -  2019  \n22         active      $195,000  Arizona Cardinals             -  2019  \n83       dead_cap             -  Arizona Cardinals             -  2019  \n87       dead_cap             -  Arizona Cardinals             -  2019  \n19         active             -  Arizona Cardinals             -  2019  ",
      "text/html": "<div>\n<style scoped>\n    .dataframe tbody tr th:only-of-type {\n        vertical-align: middle;\n    }\n\n    .dataframe tbody tr th {\n        vertical-align: top;\n    }\n\n    .dataframe thead th {\n        text-align: right;\n    }\n</style>\n<table border=\"1\" class=\"dataframe\">\n  <thead>\n    <tr style=\"text-align: right;\">\n      <th></th>\n      <th>base_salary</th>\n      <th>cap_hit</th>\n      <th>cap_perc</th>\n      <th>dead_cap_amt</th>\n      <th>name</th>\n      <th>option_bonus</th>\n      <th>other_bonus</th>\n      <th>position</th>\n      <th>restruct_bonus</th>\n      <th>roster_bonus</th>\n      <th>roster_status</th>\n      <th>signing_bonus</th>\n      <th>team</th>\n      <th>workout_bonus</th>\n      <th>year</th>\n    </tr>\n  </thead>\n  <tbody>\n    <tr>\n      <th>102</th>\n      <td>$24,000</td>\n      <td>$24,000</td>\n      <td>0.01</td>\n      <td>-</td>\n      <td>Pita Taumoepenu</td>\n      <td>-</td>\n      <td>-</td>\n      <td>OLB</td>\n      <td>-</td>\n      <td>-</td>\n      <td>dead_cap</td>\n      <td>-</td>\n      <td>Arizona Cardinals</td>\n      <td>-</td>\n      <td>2019</td>\n    </tr>\n    <tr>\n      <th>22</th>\n      <td>$805,000</td>\n      <td>$1,000,000</td>\n      <td>0.52</td>\n      <td>-</td>\n      <td>Cassius Marsh</td>\n      <td>-</td>\n      <td>-</td>\n      <td>OLB</td>\n      <td>-</td>\n      <td>-</td>\n      <td>active</td>\n      <td>$195,000</td>\n      <td>Arizona Cardinals</td>\n      <td>-</td>\n      <td>2019</td>\n    </tr>\n    <tr>\n      <th>83</th>\n      <td>$121,823</td>\n      <td>$121,823</td>\n      <td>0.06</td>\n      <td>-</td>\n      <td>Darrell Daniels</td>\n      <td>-</td>\n      <td>-</td>\n      <td>TE</td>\n      <td>-</td>\n      <td>-</td>\n      <td>dead_cap</td>\n      <td>-</td>\n      <td>Arizona Cardinals</td>\n      <td>-</td>\n      <td>2019</td>\n    </tr>\n    <tr>\n      <th>87</th>\n      <td>$104,000</td>\n      <td>$104,000</td>\n      <td>0.05</td>\n      <td>-</td>\n      <td>Jalen Davis</td>\n      <td>-</td>\n      <td>-</td>\n      <td>CB</td>\n      <td>-</td>\n      <td>-</td>\n      <td>dead_cap</td>\n      <td>-</td>\n      <td>Arizona Cardinals</td>\n      <td>-</td>\n      <td>2019</td>\n    </tr>\n    <tr>\n      <th>19</th>\n      <td>$1,072,059</td>\n      <td>$1,072,059</td>\n      <td>0.55</td>\n      <td>-</td>\n      <td>Kenyan Drake</td>\n      <td>-</td>\n      <td>-</td>\n      <td>RB</td>\n      <td>-</td>\n      <td>-</td>\n      <td>active</td>\n      <td>-</td>\n      <td>Arizona Cardinals</td>\n      <td>-</td>\n      <td>2019</td>\n    </tr>\n  </tbody>\n</table>\n</div>"
     },
     "metadata": {},
     "output_type": "execute_result",
     "execution_count": 5
    }
   ],
   "source": [
    "df.sample(5)"
   ],
   "metadata": {
    "collapsed": false,
    "pycharm": {
     "name": "#%%\n",
     "is_executing": false
    }
   }
  },
  {
   "cell_type": "code",
   "execution_count": 6,
   "outputs": [
    {
     "data": {
      "text/plain": "base_salary        object\ncap_hit            object\ncap_perc          float64\ndead_cap_amt       object\nname               object\noption_bonus       object\nother_bonus        object\nposition           object\nrestruct_bonus     object\nroster_bonus       object\nroster_status      object\nsigning_bonus      object\nteam               object\nworkout_bonus      object\nyear                int64\ndtype: object"
     },
     "metadata": {},
     "output_type": "execute_result",
     "execution_count": 6
    }
   ],
   "source": [
    "df.dtypes\n"
   ],
   "metadata": {
    "collapsed": false,
    "pycharm": {
     "name": "#%%\n",
     "is_executing": false
    }
   }
  },
  {
   "cell_type": "code",
   "execution_count": 12,
   "outputs": [],
   "source": [
    "df['cap_hit'] = df['cap_hit'].replace(to_replace='[\\$,]', value='', regex=True).astype(float)"
   ],
   "metadata": {
    "collapsed": false,
    "pycharm": {
     "name": "#%%\n",
     "is_executing": false
    }
   }
  },
  {
   "cell_type": "code",
   "execution_count": 13,
   "outputs": [
    {
     "data": {
      "text/plain": "0      14833333.0\n1      11750000.0\n2       9656250.0\n3       9625000.0\n4       8002235.0\n          ...    \n124      493235.0\n125      453000.0\n126      380333.0\n127      151764.0\n128      136000.0\nName: cap_hit, Length: 129, dtype: float64"
     },
     "metadata": {},
     "output_type": "execute_result",
     "execution_count": 13
    }
   ],
   "source": [
    "df['cap_hit']"
   ],
   "metadata": {
    "collapsed": false,
    "pycharm": {
     "name": "#%%\n",
     "is_executing": false
    }
   }
  },
  {
   "cell_type": "code",
   "execution_count": 14,
   "outputs": [
    {
     "data": {
      "text/plain": "roster_status\nactive      118348287.0\ndead_cap     50866166.0\ninjured      22278474.0\nName: cap_hit, dtype: float64"
     },
     "metadata": {},
     "output_type": "execute_result",
     "execution_count": 14
    }
   ],
   "source": [
    "df.groupby('roster_status').sum()['cap_hit']\n",
    "\n"
   ],
   "metadata": {
    "collapsed": false,
    "pycharm": {
     "name": "#%%\n",
     "is_executing": false
    }
   }
  },
  {
   "cell_type": "code",
   "execution_count": null,
   "outputs": [],
   "source": [
    "\n"
   ],
   "metadata": {
    "collapsed": false,
    "pycharm": {
     "name": "#%%\n"
    }
   }
  }
 ],
 "metadata": {
  "kernelspec": {
   "display_name": "Python 3",
   "language": "python",
   "name": "python3"
  },
  "language_info": {
   "codemirror_mode": {
    "name": "ipython",
    "version": 2
   },
   "file_extension": ".py",
   "mimetype": "text/x-python",
   "name": "python",
   "nbconvert_exporter": "python",
   "pygments_lexer": "ipython2",
   "version": "2.7.6"
  },
  "pycharm": {
   "stem_cell": {
    "cell_type": "raw",
    "source": [],
    "metadata": {
     "collapsed": false
    }
   }
  }
 },
 "nbformat": 4,
 "nbformat_minor": 0
}
{
 "cells": [
  {
   "cell_type": "code",
   "execution_count": 1,
   "metadata": {},
   "outputs": [
    {
     "name": "stdout",
     "output_type": "stream",
     "text": "Populating the interactive namespace from numpy and matplotlib\n"
    }
   ],
   "source": [
    "%pylab inline\n",
    "import pandas as pd"
   ]
  },
  {
   "cell_type": "code",
   "execution_count": 2,
   "metadata": {},
   "outputs": [],
   "source": [
    "# import the results of the first post-process step\n",
    "nfl_df = pd.read_csv(filepath_or_buffer='2_nfl_contracts_pre_process.csv',\\\n",
    "            header=0, index_col=0, dtype={'position': 'category', 'team': 'category', 'roster_status': 'category'})"
   ]
  },
  {
   "cell_type": "code",
   "execution_count": 3,
   "metadata": {},
   "outputs": [
    {
     "data": {
      "text/html": "<div>\n<style scoped>\n    .dataframe tbody tr th:only-of-type {\n        vertical-align: middle;\n    }\n\n    .dataframe tbody tr th {\n        vertical-align: top;\n    }\n\n    .dataframe thead th {\n        text-align: right;\n    }\n</style>\n<table border=\"1\" class=\"dataframe\">\n  <thead>\n    <tr style=\"text-align: right;\">\n      <th></th>\n      <th>base_salary</th>\n      <th>bonus_total</th>\n      <th>name</th>\n      <th>position</th>\n      <th>roster_status</th>\n      <th>team</th>\n      <th>total_money</th>\n      <th>year</th>\n    </tr>\n    <tr>\n      <th>index</th>\n      <th></th>\n      <th></th>\n      <th></th>\n      <th></th>\n      <th></th>\n      <th></th>\n      <th></th>\n      <th></th>\n    </tr>\n  </thead>\n  <tbody>\n    <tr>\n      <th>28619</th>\n      <td>2000000</td>\n      <td>2000000</td>\n      <td>Jared Cook</td>\n      <td>TE</td>\n      <td>active</td>\n      <td>new-orleans-saints</td>\n      <td>4000000</td>\n      <td>2019</td>\n    </tr>\n    <tr>\n      <th>34625</th>\n      <td>420000</td>\n      <td>126504</td>\n      <td>Dri Archer</td>\n      <td>RB</td>\n      <td>active</td>\n      <td>pittsburgh-steelers</td>\n      <td>546504</td>\n      <td>2014</td>\n    </tr>\n    <tr>\n      <th>41517</th>\n      <td>775000</td>\n      <td>0</td>\n      <td>Phil Taylor</td>\n      <td>DT</td>\n      <td>injured_reserve</td>\n      <td>washington-redskins</td>\n      <td>775000</td>\n      <td>2017</td>\n    </tr>\n    <tr>\n      <th>6077</th>\n      <td>510000</td>\n      <td>134950</td>\n      <td>Trai Turner</td>\n      <td>G</td>\n      <td>active</td>\n      <td>carolina-panthers</td>\n      <td>644950</td>\n      <td>2015</td>\n    </tr>\n    <tr>\n      <th>6643</th>\n      <td>820000</td>\n      <td>390000</td>\n      <td>Chris Manhertz</td>\n      <td>TE</td>\n      <td>active</td>\n      <td>carolina-panthers</td>\n      <td>1210000</td>\n      <td>2020</td>\n    </tr>\n  </tbody>\n</table>\n</div>",
      "text/plain": "       base_salary  bonus_total            name position    roster_status  \\\nindex                                                                       \n28619      2000000      2000000      Jared Cook       TE           active   \n34625       420000       126504      Dri Archer       RB           active   \n41517       775000            0     Phil Taylor       DT  injured_reserve   \n6077        510000       134950     Trai Turner        G           active   \n6643        820000       390000  Chris Manhertz       TE           active   \n\n                      team  total_money  year  \nindex                                          \n28619   new-orleans-saints      4000000  2019  \n34625  pittsburgh-steelers       546504  2014  \n41517  washington-redskins       775000  2017  \n6077     carolina-panthers       644950  2015  \n6643     carolina-panthers      1210000  2020  "
     },
     "execution_count": 3,
     "metadata": {},
     "output_type": "execute_result"
    }
   ],
   "source": [
    "#TODO: Map positions into offense/defense and then sub-groups -> skill_position, o_line, QB; dline, LB, secondary \n",
    "nfl_df.sample(5)"
   ]
  },
  {
   "cell_type": "code",
   "execution_count": 4,
   "metadata": {
    "collapsed": false,
    "pycharm": {
     "is_executing": false,
     "name": "#%%\n"
    }
   },
   "outputs": [
    {
     "data": {
      "text/plain": "WR     5299\nCB     4315\nDE     3152\nRB     3066\nDT     2903\nG      2735\nTE     2719\nOLB    2704\nILB    1946\nQB     1915\nS      1563\nC      1344\nT      1215\nLB     1039\nRT     1003\nSS      900\nFS      891\nLT      803\nK       680\nFB      613\nP       571\nLS      506\nKR       14\nPR        1\nName: position, dtype: int64"
     },
     "execution_count": 4,
     "metadata": {},
     "output_type": "execute_result"
    }
   ],
   "source": [
    "nfl_df['position'].value_counts()"
   ]
  },
  {
   "cell_type": "code",
   "execution_count": 3,
   "metadata": {},
   "outputs": [],
   "source": [
    "position_dict = {'WR':'offense', 'CB': 'defense', 'DE': 'defense', 'RB': 'offense', 'DT': 'defense', 'G': 'offense',\n",
    "                 'TE':'offense', 'OLB': 'defense', 'ILB': 'defense', 'QB': 'offense', 'S': 'defense', 'C': 'offense',\n",
    "                 'T': 'offense', 'LB': 'defense', 'RT': 'offense', 'SS': 'defense', 'FS': 'defense', 'LT': 'offense', \n",
    "                 'K': 'specialty', 'FB': 'offense', 'P': 'specialty', 'LS': 'specialty', 'KR': 'specialty', 'PR': 'specialty'}\n",
    "\n"
   ]
  },
  {
   "cell_type": "code",
   "execution_count": 4,
   "metadata": {},
   "outputs": [
    {
     "data": {
      "text/plain": "{'WR': 'offense',\n 'CB': 'defense',\n 'DE': 'defense',\n 'RB': 'offense',\n 'DT': 'defense',\n 'G': 'offense',\n 'TE': 'offense',\n 'OLB': 'defense',\n 'ILB': 'defense',\n 'QB': 'offense',\n 'S': 'defense',\n 'C': 'offense',\n 'T': 'offense',\n 'LB': 'defense',\n 'RT': 'offense',\n 'SS': 'defense',\n 'FS': 'defense',\n 'LT': 'offense',\n 'K': 'specialty',\n 'FB': 'offense',\n 'P': 'specialty',\n 'LS': 'specialty',\n 'KR': 'specialty',\n 'PR': 'specialty'}"
     },
     "execution_count": 4,
     "metadata": {},
     "output_type": "execute_result"
    }
   ],
   "source": [
    "position_dict"
   ]
  },
  {
   "cell_type": "code",
   "execution_count": 5,
   "metadata": {},
   "outputs": [],
   "source": [
    "nfl_df['pos_group'] = nfl_df.position.map(position_dict)\n",
    "\n"
   ]
  },
  {
   "cell_type": "code",
   "execution_count": 8,
   "metadata": {
    "collapsed": false,
    "pycharm": {
     "is_executing": false,
     "name": "#%%\n"
    }
   },
   "outputs": [
    {
     "data": {
      "text/html": "<div>\n<style scoped>\n    .dataframe tbody tr th:only-of-type {\n        vertical-align: middle;\n    }\n\n    .dataframe tbody tr th {\n        vertical-align: top;\n    }\n\n    .dataframe thead th {\n        text-align: right;\n    }\n</style>\n<table border=\"1\" class=\"dataframe\">\n  <thead>\n    <tr style=\"text-align: right;\">\n      <th></th>\n      <th>base_salary</th>\n      <th>bonus_total</th>\n      <th>name</th>\n      <th>position</th>\n      <th>roster_status</th>\n      <th>team</th>\n      <th>total_money</th>\n      <th>year</th>\n      <th>pos_group</th>\n    </tr>\n    <tr>\n      <th>index</th>\n      <th></th>\n      <th></th>\n      <th></th>\n      <th></th>\n      <th></th>\n      <th></th>\n      <th></th>\n      <th></th>\n      <th></th>\n    </tr>\n  </thead>\n  <tbody>\n    <tr>\n      <th>0</th>\n      <td>5250000</td>\n      <td>1750000</td>\n      <td>Edgerrin James</td>\n      <td>RB</td>\n      <td>active</td>\n      <td>arizona-cardinals</td>\n      <td>7000000</td>\n      <td>2007</td>\n      <td>offense</td>\n    </tr>\n    <tr>\n      <th>1</th>\n      <td>3580000</td>\n      <td>3262000</td>\n      <td>Larry Fitzgerald</td>\n      <td>WR</td>\n      <td>active</td>\n      <td>arizona-cardinals</td>\n      <td>6842000</td>\n      <td>2007</td>\n      <td>offense</td>\n    </tr>\n    <tr>\n      <th>2</th>\n      <td>4500000</td>\n      <td>900000</td>\n      <td>Chike Okeafor</td>\n      <td>G</td>\n      <td>active</td>\n      <td>arizona-cardinals</td>\n      <td>5400000</td>\n      <td>2007</td>\n      <td>offense</td>\n    </tr>\n    <tr>\n      <th>3</th>\n      <td>4000000</td>\n      <td>1000000</td>\n      <td>Kurt Warner</td>\n      <td>QB</td>\n      <td>active</td>\n      <td>arizona-cardinals</td>\n      <td>5000000</td>\n      <td>2007</td>\n      <td>offense</td>\n    </tr>\n    <tr>\n      <th>4</th>\n      <td>510000</td>\n      <td>3500000</td>\n      <td>Darnell Dockett</td>\n      <td>DE</td>\n      <td>active</td>\n      <td>arizona-cardinals</td>\n      <td>4010000</td>\n      <td>2007</td>\n      <td>defense</td>\n    </tr>\n    <tr>\n      <th>...</th>\n      <td>...</td>\n      <td>...</td>\n      <td>...</td>\n      <td>...</td>\n      <td>...</td>\n      <td>...</td>\n      <td>...</td>\n      <td>...</td>\n      <td>...</td>\n    </tr>\n    <tr>\n      <th>41892</th>\n      <td>0</td>\n      <td>78096</td>\n      <td>Adonis Alexander</td>\n      <td>CB</td>\n      <td>dead_cap</td>\n      <td>washington-redskins</td>\n      <td>78096</td>\n      <td>2020</td>\n      <td>defense</td>\n    </tr>\n    <tr>\n      <th>41893</th>\n      <td>0</td>\n      <td>10667</td>\n      <td>JoJo McIntosh</td>\n      <td>S</td>\n      <td>dead_cap</td>\n      <td>washington-redskins</td>\n      <td>10667</td>\n      <td>2020</td>\n      <td>defense</td>\n    </tr>\n    <tr>\n      <th>41894</th>\n      <td>0</td>\n      <td>10000</td>\n      <td>Bryan Blunt</td>\n      <td>LB</td>\n      <td>dead_cap</td>\n      <td>washington-redskins</td>\n      <td>10000</td>\n      <td>2020</td>\n      <td>defense</td>\n    </tr>\n    <tr>\n      <th>41895</th>\n      <td>0</td>\n      <td>6667</td>\n      <td>Todd Rahming</td>\n      <td>WR</td>\n      <td>dead_cap</td>\n      <td>washington-redskins</td>\n      <td>6667</td>\n      <td>2020</td>\n      <td>offense</td>\n    </tr>\n    <tr>\n      <th>41896</th>\n      <td>0</td>\n      <td>3334</td>\n      <td>Ryan Bee</td>\n      <td>DT</td>\n      <td>dead_cap</td>\n      <td>washington-redskins</td>\n      <td>3334</td>\n      <td>2020</td>\n      <td>defense</td>\n    </tr>\n  </tbody>\n</table>\n<p>41897 rows × 9 columns</p>\n</div>",
      "text/plain": "       base_salary  bonus_total              name position roster_status  \\\nindex                                                                      \n0          5250000      1750000    Edgerrin James       RB        active   \n1          3580000      3262000  Larry Fitzgerald       WR        active   \n2          4500000       900000     Chike Okeafor        G        active   \n3          4000000      1000000       Kurt Warner       QB        active   \n4           510000      3500000   Darnell Dockett       DE        active   \n...            ...          ...               ...      ...           ...   \n41892            0        78096  Adonis Alexander       CB      dead_cap   \n41893            0        10667     JoJo McIntosh        S      dead_cap   \n41894            0        10000       Bryan Blunt       LB      dead_cap   \n41895            0         6667      Todd Rahming       WR      dead_cap   \n41896            0         3334          Ryan Bee       DT      dead_cap   \n\n                      team  total_money  year pos_group  \nindex                                                    \n0        arizona-cardinals      7000000  2007   offense  \n1        arizona-cardinals      6842000  2007   offense  \n2        arizona-cardinals      5400000  2007   offense  \n3        arizona-cardinals      5000000  2007   offense  \n4        arizona-cardinals      4010000  2007   defense  \n...                    ...          ...   ...       ...  \n41892  washington-redskins        78096  2020   defense  \n41893  washington-redskins        10667  2020   defense  \n41894  washington-redskins        10000  2020   defense  \n41895  washington-redskins         6667  2020   offense  \n41896  washington-redskins         3334  2020   defense  \n\n[41897 rows x 9 columns]"
     },
     "execution_count": 8,
     "metadata": {},
     "output_type": "execute_result"
    }
   ],
   "source": [
    "nfl_df"
   ]
  },
  {
   "cell_type": "code",
   "execution_count": 6,
   "metadata": {},
   "outputs": [],
   "source": [
    "sub_position_dict = {'WR':'skill', 'CB': 'secondary', 'DE': 'dline', 'RB': 'rb', 'DT': 'dline', 'G': 'oline',\n",
    "                 'TE':'skill', 'OLB': 'lb', 'ILB': 'lb', 'QB': 'qb', 'S': 'secondary', 'C': 'oline',\n",
    "                 'T': 'oline', 'LB': 'lb', 'RT': 'oline', 'SS': 'secondary', 'FS': 'secondary', 'LT': 'oline', \n",
    "                 'K': 'specialty', 'FB': 'rb', 'P': 'specialty', 'LS': 'specialty', 'KR': 'specialty', 'PR': 'specialty'}\n",
    "\n",
    "nfl_df['pos_subgroup'] = nfl_df.position.map(sub_position_dict)"
   ]
  },
  {
   "cell_type": "code",
   "execution_count": 7,
   "metadata": {},
   "outputs": [
    {
     "data": {
      "text/html": "<div>\n<style scoped>\n    .dataframe tbody tr th:only-of-type {\n        vertical-align: middle;\n    }\n\n    .dataframe tbody tr th {\n        vertical-align: top;\n    }\n\n    .dataframe thead th {\n        text-align: right;\n    }\n</style>\n<table border=\"1\" class=\"dataframe\">\n  <thead>\n    <tr style=\"text-align: right;\">\n      <th></th>\n      <th>position</th>\n      <th>pos_group</th>\n      <th>pos_subgroup</th>\n    </tr>\n    <tr>\n      <th>index</th>\n      <th></th>\n      <th></th>\n      <th></th>\n    </tr>\n  </thead>\n  <tbody>\n    <tr>\n      <th>22604</th>\n      <td>LS</td>\n      <td>specialty</td>\n      <td>specialty</td>\n    </tr>\n    <tr>\n      <th>34848</th>\n      <td>DT</td>\n      <td>defense</td>\n      <td>dline</td>\n    </tr>\n    <tr>\n      <th>33370</th>\n      <td>FS</td>\n      <td>defense</td>\n      <td>secondary</td>\n    </tr>\n    <tr>\n      <th>26114</th>\n      <td>RB</td>\n      <td>offense</td>\n      <td>rb</td>\n    </tr>\n    <tr>\n      <th>12033</th>\n      <td>DE</td>\n      <td>defense</td>\n      <td>dline</td>\n    </tr>\n  </tbody>\n</table>\n</div>",
      "text/plain": "      position  pos_group pos_subgroup\nindex                                 \n22604       LS  specialty    specialty\n34848       DT    defense        dline\n33370       FS    defense    secondary\n26114       RB    offense           rb\n12033       DE    defense        dline"
     },
     "execution_count": 7,
     "metadata": {},
     "output_type": "execute_result"
    }
   ],
   "source": [
    "nfl_df[['position', 'pos_group', 'pos_subgroup']].sample(5)"
   ]
  },
  {
   "cell_type": "code",
   "execution_count": 11,
   "metadata": {
    "collapsed": false,
    "pycharm": {
     "is_executing": false,
     "name": "#%%\n"
    }
   },
   "outputs": [
    {
     "data": {
      "text/plain": "new-england-patriots    1437\njacksonville-jaguars    1401\nbuffalo-bills           1399\nmiami-dolphins          1392\nindianapolis-colts      1370\narizona-cardinals       1360\nsan-francisco-49ers     1356\nwashington-redskins     1351\natlanta-falcons         1337\nphiladelphia-eagles     1336\nbaltimore-ravens        1330\ndallas-cowboys          1328\nnew-york-giants         1328\nnew-york-jets           1326\nhouston-texans          1325\nseattle-seahawks        1324\ndetroit-lions           1318\ncleveland-browns        1303\ntampa-bay-buccaneers    1290\nlos-angeles-chargers    1288\npittsburgh-steelers     1288\ndenver-broncos          1283\nnew-orleans-saints      1274\ngreen-bay-packers       1271\nchicago-bears           1267\ntennessee-titans        1265\ncarolina-panthers       1257\noakland-raiders         1247\nkansas-city-chiefs      1227\nminnesota-vikings       1221\ncincinnati-bengals      1210\nlos-angeles-rams        1188\nName: team, dtype: int64"
     },
     "execution_count": 11,
     "metadata": {},
     "output_type": "execute_result"
    }
   ],
   "source": [
    "nfl_df['team'].value_counts()\n",
    "\n"
   ]
  },
  {
   "cell_type": "code",
   "execution_count": 62,
   "metadata": {},
   "outputs": [],
   "source": [
    "# read-in nfl standings from 2019 year\n",
    "nfl_wl_df = pd.read_csv('nfl_standings.csv', header=0, usecols=[0, 1, 2, 3, 4])\n"
   ]
  },
  {
   "cell_type": "code",
   "execution_count": 64,
   "metadata": {},
   "outputs": [
    {
     "data": {
      "text/plain": "array(['arizona-cardinals', 'atlanta-falcons', 'baltimore-ravens',\n       'buffalo-bills', 'carolina-panthers', 'chicago-bears',\n       'cincinnati-bengals', 'cleveland-browns', 'dallas-cowboys',\n       'denver-broncos', 'detroit-lions', 'green-bay-packers',\n       'houston-texans', 'indianapolis-colts', 'jacksonville-jaguars',\n       'kansas-city-chiefs', 'los-angeles-chargers', 'los-angeles-rams',\n       'miami-dolphins', 'minnesota-vikings', 'new-england-patriots',\n       'new-orleans-saints', 'new-york-giants', 'new-york-jets',\n       'oakland-raiders', 'philadelphia-eagles', 'pittsburgh-steelers',\n       'san-francisco-49ers', 'seattle-seahawks', 'tampa-bay-buccaneers',\n       'tennessee-titans', 'washington-redskins'], dtype=object)"
     },
     "execution_count": 64,
     "metadata": {},
     "output_type": "execute_result"
    }
   ],
   "source": [
    "nfl_wl_df['team'].unique()"
   ]
  },
  {
   "cell_type": "code",
   "execution_count": 10,
   "metadata": {},
   "outputs": [
    {
     "data": {
      "text/plain": "[arizona-cardinals, atlanta-falcons, baltimore-ravens, buffalo-bills, carolina-panthers, ..., san-francisco-49ers, seattle-seahawks, tampa-bay-buccaneers, tennessee-titans, washington-redskins]\nLength: 32\nCategories (32, object): [arizona-cardinals, atlanta-falcons, baltimore-ravens, buffalo-bills, ..., seattle-seahawks, tampa-bay-buccaneers, tennessee-titans, washington-redskins]"
     },
     "execution_count": 10,
     "metadata": {},
     "output_type": "execute_result"
    }
   ],
   "source": [
    "nfl_df['team'].unique()\n"
   ]
  },
  {
   "cell_type": "code",
   "execution_count": 26,
   "metadata": {
    "collapsed": false,
    "pycharm": {
     "is_executing": false,
     "name": "#%%\n"
    }
   },
   "outputs": [
    {
     "data": {
      "text/html": "<div>\n<style scoped>\n    .dataframe tbody tr th:only-of-type {\n        vertical-align: middle;\n    }\n\n    .dataframe tbody tr th {\n        vertical-align: top;\n    }\n\n    .dataframe thead th {\n        text-align: right;\n    }\n</style>\n<table border=\"1\" class=\"dataframe\">\n  <thead>\n    <tr style=\"text-align: right;\">\n      <th></th>\n      <th>base_salary</th>\n      <th>bonus_total</th>\n      <th>name</th>\n      <th>position</th>\n      <th>roster_status</th>\n      <th>team</th>\n      <th>total_money</th>\n      <th>year</th>\n      <th>pos_group</th>\n      <th>pos_subgroup</th>\n    </tr>\n    <tr>\n      <th>index</th>\n      <th></th>\n      <th></th>\n      <th></th>\n      <th></th>\n      <th></th>\n      <th></th>\n      <th></th>\n      <th></th>\n      <th></th>\n      <th></th>\n    </tr>\n  </thead>\n  <tbody>\n    <tr>\n      <th>1159</th>\n      <td>9500000</td>\n      <td>5333333</td>\n      <td>Chandler Jones</td>\n      <td>OLB</td>\n      <td>active</td>\n      <td>arizona-cardinals</td>\n      <td>14833333</td>\n      <td>2019</td>\n      <td>defense</td>\n      <td>lb</td>\n    </tr>\n    <tr>\n      <th>1160</th>\n      <td>11000000</td>\n      <td>750000</td>\n      <td>Larry Fitzgerald</td>\n      <td>WR</td>\n      <td>active</td>\n      <td>arizona-cardinals</td>\n      <td>11750000</td>\n      <td>2019</td>\n      <td>offense</td>\n      <td>skill</td>\n    </tr>\n    <tr>\n      <th>1161</th>\n      <td>5700000</td>\n      <td>3956250</td>\n      <td>David Johnson</td>\n      <td>RB</td>\n      <td>active</td>\n      <td>arizona-cardinals</td>\n      <td>9656250</td>\n      <td>2019</td>\n      <td>offense</td>\n      <td>rb</td>\n    </tr>\n    <tr>\n      <th>1162</th>\n      <td>9625000</td>\n      <td>0</td>\n      <td>D.J. Humphries</td>\n      <td>LT</td>\n      <td>active</td>\n      <td>arizona-cardinals</td>\n      <td>9625000</td>\n      <td>2019</td>\n      <td>offense</td>\n      <td>oline</td>\n    </tr>\n    <tr>\n      <th>1163</th>\n      <td>7117647</td>\n      <td>884588</td>\n      <td>Patrick Peterson</td>\n      <td>CB</td>\n      <td>active</td>\n      <td>arizona-cardinals</td>\n      <td>8002235</td>\n      <td>2019</td>\n      <td>defense</td>\n      <td>secondary</td>\n    </tr>\n    <tr>\n      <th>...</th>\n      <td>...</td>\n      <td>...</td>\n      <td>...</td>\n      <td>...</td>\n      <td>...</td>\n      <td>...</td>\n      <td>...</td>\n      <td>...</td>\n      <td>...</td>\n      <td>...</td>\n    </tr>\n    <tr>\n      <th>41823</th>\n      <td>8000</td>\n      <td>0</td>\n      <td>Donald Parham</td>\n      <td>TE</td>\n      <td>dead_cap</td>\n      <td>washington-redskins</td>\n      <td>8000</td>\n      <td>2019</td>\n      <td>offense</td>\n      <td>skill</td>\n    </tr>\n    <tr>\n      <th>41824</th>\n      <td>8000</td>\n      <td>0</td>\n      <td>Jojo Wicker</td>\n      <td>DE</td>\n      <td>dead_cap</td>\n      <td>washington-redskins</td>\n      <td>8000</td>\n      <td>2019</td>\n      <td>defense</td>\n      <td>dline</td>\n    </tr>\n    <tr>\n      <th>41825</th>\n      <td>8000</td>\n      <td>0</td>\n      <td>Darrell Williams</td>\n      <td>LB</td>\n      <td>dead_cap</td>\n      <td>washington-redskins</td>\n      <td>8000</td>\n      <td>2019</td>\n      <td>defense</td>\n      <td>lb</td>\n    </tr>\n    <tr>\n      <th>41826</th>\n      <td>0</td>\n      <td>5333</td>\n      <td>JoJo McIntosh</td>\n      <td>S</td>\n      <td>dead_cap</td>\n      <td>washington-redskins</td>\n      <td>5333</td>\n      <td>2019</td>\n      <td>defense</td>\n      <td>secondary</td>\n    </tr>\n    <tr>\n      <th>41827</th>\n      <td>0</td>\n      <td>3333</td>\n      <td>Todd Rahming</td>\n      <td>WR</td>\n      <td>dead_cap</td>\n      <td>washington-redskins</td>\n      <td>3333</td>\n      <td>2019</td>\n      <td>offense</td>\n      <td>skill</td>\n    </tr>\n  </tbody>\n</table>\n<p>3843 rows × 10 columns</p>\n</div>",
      "text/plain": "       base_salary  bonus_total              name position roster_status  \\\nindex                                                                      \n1159       9500000      5333333    Chandler Jones      OLB        active   \n1160      11000000       750000  Larry Fitzgerald       WR        active   \n1161       5700000      3956250     David Johnson       RB        active   \n1162       9625000            0    D.J. Humphries       LT        active   \n1163       7117647       884588  Patrick Peterson       CB        active   \n...            ...          ...               ...      ...           ...   \n41823         8000            0     Donald Parham       TE      dead_cap   \n41824         8000            0       Jojo Wicker       DE      dead_cap   \n41825         8000            0  Darrell Williams       LB      dead_cap   \n41826            0         5333     JoJo McIntosh        S      dead_cap   \n41827            0         3333      Todd Rahming       WR      dead_cap   \n\n                      team  total_money  year pos_group pos_subgroup  \nindex                                                                 \n1159     arizona-cardinals     14833333  2019   defense           lb  \n1160     arizona-cardinals     11750000  2019   offense        skill  \n1161     arizona-cardinals      9656250  2019   offense           rb  \n1162     arizona-cardinals      9625000  2019   offense        oline  \n1163     arizona-cardinals      8002235  2019   defense    secondary  \n...                    ...          ...   ...       ...          ...  \n41823  washington-redskins         8000  2019   offense        skill  \n41824  washington-redskins         8000  2019   defense        dline  \n41825  washington-redskins         8000  2019   defense           lb  \n41826  washington-redskins         5333  2019   defense    secondary  \n41827  washington-redskins         3333  2019   offense        skill  \n\n[3843 rows x 10 columns]"
     },
     "execution_count": 26,
     "metadata": {},
     "output_type": "execute_result"
    }
   ],
   "source": [
    "mask = nfl_df['year'] == 2019\n",
    "nfl_df[mask]"
   ]
  },
  {
   "cell_type": "code",
   "execution_count": 50,
   "metadata": {
    "collapsed": false,
    "pycharm": {
     "is_executing": false,
     "name": "#%%\n"
    }
   },
   "outputs": [
    {
     "data": {
      "text/html": "<div>\n<style scoped>\n    .dataframe tbody tr th:only-of-type {\n        vertical-align: middle;\n    }\n\n    .dataframe tbody tr th {\n        vertical-align: top;\n    }\n\n    .dataframe thead th {\n        text-align: right;\n    }\n</style>\n<table border=\"1\" class=\"dataframe\">\n  <thead>\n    <tr style=\"text-align: right;\">\n      <th></th>\n      <th>base_salary</th>\n      <th>bonus_total</th>\n      <th>name</th>\n      <th>position</th>\n      <th>roster_status</th>\n      <th>team</th>\n      <th>total_money</th>\n      <th>year_x</th>\n      <th>pos_group</th>\n      <th>pos_subgroup</th>\n      <th>year_y</th>\n      <th>w</th>\n      <th>l</th>\n      <th>playoff</th>\n    </tr>\n  </thead>\n  <tbody>\n    <tr>\n      <th>0</th>\n      <td>9500000</td>\n      <td>5333333</td>\n      <td>Chandler Jones</td>\n      <td>OLB</td>\n      <td>active</td>\n      <td>arizona-cardinals</td>\n      <td>14833333</td>\n      <td>2019</td>\n      <td>defense</td>\n      <td>lb</td>\n      <td>2019</td>\n      <td>5</td>\n      <td>10</td>\n      <td>no</td>\n    </tr>\n    <tr>\n      <th>1</th>\n      <td>11000000</td>\n      <td>750000</td>\n      <td>Larry Fitzgerald</td>\n      <td>WR</td>\n      <td>active</td>\n      <td>arizona-cardinals</td>\n      <td>11750000</td>\n      <td>2019</td>\n      <td>offense</td>\n      <td>skill</td>\n      <td>2019</td>\n      <td>5</td>\n      <td>10</td>\n      <td>no</td>\n    </tr>\n    <tr>\n      <th>2</th>\n      <td>5700000</td>\n      <td>3956250</td>\n      <td>David Johnson</td>\n      <td>RB</td>\n      <td>active</td>\n      <td>arizona-cardinals</td>\n      <td>9656250</td>\n      <td>2019</td>\n      <td>offense</td>\n      <td>rb</td>\n      <td>2019</td>\n      <td>5</td>\n      <td>10</td>\n      <td>no</td>\n    </tr>\n    <tr>\n      <th>3</th>\n      <td>9625000</td>\n      <td>0</td>\n      <td>D.J. Humphries</td>\n      <td>LT</td>\n      <td>active</td>\n      <td>arizona-cardinals</td>\n      <td>9625000</td>\n      <td>2019</td>\n      <td>offense</td>\n      <td>oline</td>\n      <td>2019</td>\n      <td>5</td>\n      <td>10</td>\n      <td>no</td>\n    </tr>\n    <tr>\n      <th>4</th>\n      <td>7117647</td>\n      <td>884588</td>\n      <td>Patrick Peterson</td>\n      <td>CB</td>\n      <td>active</td>\n      <td>arizona-cardinals</td>\n      <td>8002235</td>\n      <td>2019</td>\n      <td>defense</td>\n      <td>secondary</td>\n      <td>2019</td>\n      <td>5</td>\n      <td>10</td>\n      <td>no</td>\n    </tr>\n    <tr>\n      <th>...</th>\n      <td>...</td>\n      <td>...</td>\n      <td>...</td>\n      <td>...</td>\n      <td>...</td>\n      <td>...</td>\n      <td>...</td>\n      <td>...</td>\n      <td>...</td>\n      <td>...</td>\n      <td>...</td>\n      <td>...</td>\n      <td>...</td>\n      <td>...</td>\n    </tr>\n    <tr>\n      <th>3838</th>\n      <td>8000</td>\n      <td>0</td>\n      <td>Donald Parham</td>\n      <td>TE</td>\n      <td>dead_cap</td>\n      <td>washington-redskins</td>\n      <td>8000</td>\n      <td>2019</td>\n      <td>offense</td>\n      <td>skill</td>\n      <td>2019</td>\n      <td>3</td>\n      <td>13</td>\n      <td>no</td>\n    </tr>\n    <tr>\n      <th>3839</th>\n      <td>8000</td>\n      <td>0</td>\n      <td>Jojo Wicker</td>\n      <td>DE</td>\n      <td>dead_cap</td>\n      <td>washington-redskins</td>\n      <td>8000</td>\n      <td>2019</td>\n      <td>defense</td>\n      <td>dline</td>\n      <td>2019</td>\n      <td>3</td>\n      <td>13</td>\n      <td>no</td>\n    </tr>\n    <tr>\n      <th>3840</th>\n      <td>8000</td>\n      <td>0</td>\n      <td>Darrell Williams</td>\n      <td>LB</td>\n      <td>dead_cap</td>\n      <td>washington-redskins</td>\n      <td>8000</td>\n      <td>2019</td>\n      <td>defense</td>\n      <td>lb</td>\n      <td>2019</td>\n      <td>3</td>\n      <td>13</td>\n      <td>no</td>\n    </tr>\n    <tr>\n      <th>3841</th>\n      <td>0</td>\n      <td>5333</td>\n      <td>JoJo McIntosh</td>\n      <td>S</td>\n      <td>dead_cap</td>\n      <td>washington-redskins</td>\n      <td>5333</td>\n      <td>2019</td>\n      <td>defense</td>\n      <td>secondary</td>\n      <td>2019</td>\n      <td>3</td>\n      <td>13</td>\n      <td>no</td>\n    </tr>\n    <tr>\n      <th>3842</th>\n      <td>0</td>\n      <td>3333</td>\n      <td>Todd Rahming</td>\n      <td>WR</td>\n      <td>dead_cap</td>\n      <td>washington-redskins</td>\n      <td>3333</td>\n      <td>2019</td>\n      <td>offense</td>\n      <td>skill</td>\n      <td>2019</td>\n      <td>3</td>\n      <td>13</td>\n      <td>no</td>\n    </tr>\n  </tbody>\n</table>\n<p>3843 rows × 14 columns</p>\n</div>",
      "text/plain": "      base_salary  bonus_total              name position roster_status  \\\n0         9500000      5333333    Chandler Jones      OLB        active   \n1        11000000       750000  Larry Fitzgerald       WR        active   \n2         5700000      3956250     David Johnson       RB        active   \n3         9625000            0    D.J. Humphries       LT        active   \n4         7117647       884588  Patrick Peterson       CB        active   \n...           ...          ...               ...      ...           ...   \n3838         8000            0     Donald Parham       TE      dead_cap   \n3839         8000            0       Jojo Wicker       DE      dead_cap   \n3840         8000            0  Darrell Williams       LB      dead_cap   \n3841            0         5333     JoJo McIntosh        S      dead_cap   \n3842            0         3333      Todd Rahming       WR      dead_cap   \n\n                     team  total_money  year_x pos_group pos_subgroup  year_y  \\\n0       arizona-cardinals     14833333    2019   defense           lb    2019   \n1       arizona-cardinals     11750000    2019   offense        skill    2019   \n2       arizona-cardinals      9656250    2019   offense           rb    2019   \n3       arizona-cardinals      9625000    2019   offense        oline    2019   \n4       arizona-cardinals      8002235    2019   defense    secondary    2019   \n...                   ...          ...     ...       ...          ...     ...   \n3838  washington-redskins         8000    2019   offense        skill    2019   \n3839  washington-redskins         8000    2019   defense        dline    2019   \n3840  washington-redskins         8000    2019   defense           lb    2019   \n3841  washington-redskins         5333    2019   defense    secondary    2019   \n3842  washington-redskins         3333    2019   offense        skill    2019   \n\n      w   l playoff  \n0     5  10      no  \n1     5  10      no  \n2     5  10      no  \n3     5  10      no  \n4     5  10      no  \n...  ..  ..     ...  \n3838  3  13      no  \n3839  3  13      no  \n3840  3  13      no  \n3841  3  13      no  \n3842  3  13      no  \n\n[3843 rows x 14 columns]"
     },
     "execution_count": 50,
     "metadata": {},
     "output_type": "execute_result"
    }
   ],
   "source": [
    "pd.merge(left=nfl_df[mask], right=nfl_wl_df, on='team', how='inner')#%%"
   ]
  },
  {
   "cell_type": "code",
   "execution_count": 43,
   "metadata": {
    "collapsed": false,
    "pycharm": {
     "is_executing": false,
     "name": "#%%\n"
    }
   },
   "outputs": [
    {
     "data": {
      "text/plain": "array(['arizona-cardinals', 'atlanta-falcons', 'baltimore-ravens',\n       'buffalo-bills', 'carolina-panthers', 'chicago-bears',\n       'cincinnati-bengals', 'cleveland-browns', 'dallas-cowboys',\n       'denver-broncos', 'detroit-lions', 'green-bay-packers',\n       'houston-texans', 'indianapolis-colts', 'jacksonville-jaguars',\n       'los-angeles-chargers', 'los-angeles-rams', 'miami-dolphins',\n       'minnesota-vikings', 'new-england-patriots', 'new-york-giants',\n       'new-york-jets', 'oakland-raiders', 'philadelphia-eagles',\n       'pittsburgh-steelers', 'seattle-seahawks', 'tampa-bay-buccaneers',\n       'tennessee-titans', 'washington-redskins'], dtype=object)"
     },
     "execution_count": 43,
     "metadata": {},
     "output_type": "execute_result"
    }
   ],
   "source": [
    "# pd.merge(left=nfl_df[mask], right=nfl_wl_df, on='team', how='inner') ['team'].unique()"
   ]
  },
  {
   "cell_type": "code",
   "execution_count": 51,
   "metadata": {
    "collapsed": false,
    "pycharm": {
     "is_executing": false,
     "name": "#%%\n"
    }
   },
   "outputs": [
    {
     "data": {
      "text/plain": "<pandas.core.groupby.generic.DataFrameGroupBy object at 0x0000026C43CED2C8>"
     },
     "execution_count": 51,
     "metadata": {},
     "output_type": "execute_result"
    }
   ],
   "source": [
    "# grouping nfl_df into a frame where a team is an individual row\n",
    "nfl_df[mask].groupby(['year', 'team'])"
   ]
  },
  {
   "cell_type": "code",
   "execution_count": 54,
   "metadata": {
    "collapsed": false,
    "pycharm": {
     "is_executing": false,
     "name": "#%%\n"
    }
   },
   "outputs": [
    {
     "data": {
      "text/plain": "[active, injured_reserve, non_fb_injury, practice_squad, dead_cap]\nCategories (5, object): [active, injured_reserve, non_fb_injury, practice_squad, dead_cap]"
     },
     "execution_count": 54,
     "metadata": {},
     "output_type": "execute_result"
    }
   ],
   "source": [
    "nfl_df[mask]['roster_status'].unique()\n"
   ]
  },
  {
   "cell_type": "code",
   "execution_count": 59,
   "metadata": {
    "collapsed": false,
    "pycharm": {
     "is_executing": false,
     "name": "#%%\n"
    }
   },
   "outputs": [
    {
     "data": {
      "text/html": "<div>\n<style scoped>\n    .dataframe tbody tr th:only-of-type {\n        vertical-align: middle;\n    }\n\n    .dataframe tbody tr th {\n        vertical-align: top;\n    }\n\n    .dataframe thead th {\n        text-align: right;\n    }\n</style>\n<table border=\"1\" class=\"dataframe\">\n  <thead>\n    <tr style=\"text-align: right;\">\n      <th></th>\n      <th>year</th>\n      <th>team</th>\n      <th>roster_status</th>\n      <th>total_money</th>\n    </tr>\n  </thead>\n  <tbody>\n    <tr>\n      <th>0</th>\n      <td>2019</td>\n      <td>arizona-cardinals</td>\n      <td>active</td>\n      <td>NaN</td>\n    </tr>\n    <tr>\n      <th>1</th>\n      <td>2019</td>\n      <td>arizona-cardinals</td>\n      <td>dead_cap</td>\n      <td>50899702.0</td>\n    </tr>\n    <tr>\n      <th>2</th>\n      <td>2019</td>\n      <td>arizona-cardinals</td>\n      <td>injured_reserve</td>\n      <td>22343475.0</td>\n    </tr>\n    <tr>\n      <th>3</th>\n      <td>2019</td>\n      <td>arizona-cardinals</td>\n      <td>non_fb_injury</td>\n      <td>NaN</td>\n    </tr>\n    <tr>\n      <th>4</th>\n      <td>2019</td>\n      <td>arizona-cardinals</td>\n      <td>practice_squad</td>\n      <td>NaN</td>\n    </tr>\n    <tr>\n      <th>...</th>\n      <td>...</td>\n      <td>...</td>\n      <td>...</td>\n      <td>...</td>\n    </tr>\n    <tr>\n      <th>155</th>\n      <td>2019</td>\n      <td>washington-redskins</td>\n      <td>active</td>\n      <td>NaN</td>\n    </tr>\n    <tr>\n      <th>156</th>\n      <td>2019</td>\n      <td>washington-redskins</td>\n      <td>dead_cap</td>\n      <td>13286484.0</td>\n    </tr>\n    <tr>\n      <th>157</th>\n      <td>2019</td>\n      <td>washington-redskins</td>\n      <td>injured_reserve</td>\n      <td>64540405.0</td>\n    </tr>\n    <tr>\n      <th>158</th>\n      <td>2019</td>\n      <td>washington-redskins</td>\n      <td>non_fb_injury</td>\n      <td>NaN</td>\n    </tr>\n    <tr>\n      <th>159</th>\n      <td>2019</td>\n      <td>washington-redskins</td>\n      <td>practice_squad</td>\n      <td>NaN</td>\n    </tr>\n  </tbody>\n</table>\n<p>160 rows × 4 columns</p>\n</div>",
      "text/plain": "     year                 team    roster_status  total_money\n0    2019    arizona-cardinals           active          NaN\n1    2019    arizona-cardinals         dead_cap   50899702.0\n2    2019    arizona-cardinals  injured_reserve   22343475.0\n3    2019    arizona-cardinals    non_fb_injury          NaN\n4    2019    arizona-cardinals   practice_squad          NaN\n..    ...                  ...              ...          ...\n155  2019  washington-redskins           active          NaN\n156  2019  washington-redskins         dead_cap   13286484.0\n157  2019  washington-redskins  injured_reserve   64540405.0\n158  2019  washington-redskins    non_fb_injury          NaN\n159  2019  washington-redskins   practice_squad          NaN\n\n[160 rows x 4 columns]"
     },
     "execution_count": 59,
     "metadata": {},
     "output_type": "execute_result"
    }
   ],
   "source": [
    "nfl_df[mask & nfl_df['roster_status'].isin(['injured_reserve', 'dead_cap'])].groupby(['year', 'team','roster_status'], as_index=False)['total_money'].sum()\n"
   ]
  },
  {
   "cell_type": "code",
   "execution_count": 63,
   "metadata": {
    "collapsed": false,
    "pycharm": {
     "is_executing": false,
     "name": "#%%\n"
    }
   },
   "outputs": [
    {
     "data": {
      "text/html": "<div>\n<style scoped>\n    .dataframe tbody tr th:only-of-type {\n        vertical-align: middle;\n    }\n\n    .dataframe tbody tr th {\n        vertical-align: top;\n    }\n\n    .dataframe thead th {\n        text-align: right;\n    }\n</style>\n<table border=\"1\" class=\"dataframe\">\n  <thead>\n    <tr style=\"text-align: right;\">\n      <th></th>\n      <th>base_salary</th>\n      <th>bonus_total</th>\n      <th>name</th>\n      <th>position</th>\n      <th>roster_status</th>\n      <th>team</th>\n      <th>total_money</th>\n      <th>year</th>\n      <th>pos_group</th>\n      <th>pos_subgroup</th>\n    </tr>\n    <tr>\n      <th>index</th>\n      <th></th>\n      <th></th>\n      <th></th>\n      <th></th>\n      <th></th>\n      <th></th>\n      <th></th>\n      <th></th>\n      <th></th>\n      <th></th>\n    </tr>\n  </thead>\n  <tbody>\n    <tr>\n      <th>11074</th>\n      <td>0</td>\n      <td>1666</td>\n      <td>Chris Whaley</td>\n      <td>DT</td>\n      <td>non_fb_injury</td>\n      <td>dallas-cowboys</td>\n      <td>1666</td>\n      <td>2014</td>\n      <td>defense</td>\n      <td>dline</td>\n    </tr>\n    <tr>\n      <th>37240</th>\n      <td>0</td>\n      <td>25418</td>\n      <td>Garrett Scott</td>\n      <td>LT</td>\n      <td>non_fb_injury</td>\n      <td>seattle-seahawks</td>\n      <td>25418</td>\n      <td>2014</td>\n      <td>offense</td>\n      <td>oline</td>\n    </tr>\n    <tr>\n      <th>16458</th>\n      <td>0</td>\n      <td>28363</td>\n      <td>David Quessenberry</td>\n      <td>LT</td>\n      <td>non_fb_injury</td>\n      <td>houston-texans</td>\n      <td>28363</td>\n      <td>2016</td>\n      <td>offense</td>\n      <td>oline</td>\n    </tr>\n    <tr>\n      <th>28674</th>\n      <td>102000</td>\n      <td>1666</td>\n      <td>Chase Hansen</td>\n      <td>LB</td>\n      <td>non_fb_injury</td>\n      <td>new-orleans-saints</td>\n      <td>103666</td>\n      <td>2019</td>\n      <td>defense</td>\n      <td>lb</td>\n    </tr>\n    <tr>\n      <th>23044</th>\n      <td>0</td>\n      <td>127972</td>\n      <td>Stedman Bailey</td>\n      <td>WR</td>\n      <td>non_fb_injury</td>\n      <td>los-angeles-rams</td>\n      <td>127972</td>\n      <td>2016</td>\n      <td>offense</td>\n      <td>skill</td>\n    </tr>\n    <tr>\n      <th>...</th>\n      <td>...</td>\n      <td>...</td>\n      <td>...</td>\n      <td>...</td>\n      <td>...</td>\n      <td>...</td>\n      <td>...</td>\n      <td>...</td>\n      <td>...</td>\n      <td>...</td>\n    </tr>\n    <tr>\n      <th>28428</th>\n      <td>1000000</td>\n      <td>2000000</td>\n      <td>Nick Fairley</td>\n      <td>DT</td>\n      <td>non_fb_injury</td>\n      <td>new-orleans-saints</td>\n      <td>3000000</td>\n      <td>2017</td>\n      <td>defense</td>\n      <td>dline</td>\n    </tr>\n    <tr>\n      <th>31719</th>\n      <td>2823529</td>\n      <td>1000000</td>\n      <td>Chris Johnson</td>\n      <td>CB</td>\n      <td>non_fb_injury</td>\n      <td>oakland-raiders</td>\n      <td>3823529</td>\n      <td>2011</td>\n      <td>defense</td>\n      <td>secondary</td>\n    </tr>\n    <tr>\n      <th>24372</th>\n      <td>600000</td>\n      <td>4759132</td>\n      <td>Dion Jordan</td>\n      <td>DE</td>\n      <td>non_fb_injury</td>\n      <td>miami-dolphins</td>\n      <td>5359132</td>\n      <td>2016</td>\n      <td>defense</td>\n      <td>dline</td>\n    </tr>\n    <tr>\n      <th>17560</th>\n      <td>2294117</td>\n      <td>5750000</td>\n      <td>Robert Mathis</td>\n      <td>OLB</td>\n      <td>non_fb_injury</td>\n      <td>indianapolis-colts</td>\n      <td>8044117</td>\n      <td>2014</td>\n      <td>defense</td>\n      <td>lb</td>\n    </tr>\n    <tr>\n      <th>41776</th>\n      <td>10850000</td>\n      <td>4574113</td>\n      <td>Trent Williams</td>\n      <td>LT</td>\n      <td>non_fb_injury</td>\n      <td>washington-redskins</td>\n      <td>15424113</td>\n      <td>2019</td>\n      <td>offense</td>\n      <td>oline</td>\n    </tr>\n  </tbody>\n</table>\n<p>82 rows × 10 columns</p>\n</div>",
      "text/plain": "       base_salary  bonus_total                name position  roster_status  \\\nindex                                                                         \n11074            0         1666        Chris Whaley       DT  non_fb_injury   \n37240            0        25418       Garrett Scott       LT  non_fb_injury   \n16458            0        28363  David Quessenberry       LT  non_fb_injury   \n28674       102000         1666        Chase Hansen       LB  non_fb_injury   \n23044            0       127972      Stedman Bailey       WR  non_fb_injury   \n...            ...          ...                 ...      ...            ...   \n28428      1000000      2000000        Nick Fairley       DT  non_fb_injury   \n31719      2823529      1000000       Chris Johnson       CB  non_fb_injury   \n24372       600000      4759132         Dion Jordan       DE  non_fb_injury   \n17560      2294117      5750000       Robert Mathis      OLB  non_fb_injury   \n41776     10850000      4574113      Trent Williams       LT  non_fb_injury   \n\n                      team  total_money  year pos_group pos_subgroup  \nindex                                                                 \n11074       dallas-cowboys         1666  2014   defense        dline  \n37240     seattle-seahawks        25418  2014   offense        oline  \n16458       houston-texans        28363  2016   offense        oline  \n28674   new-orleans-saints       103666  2019   defense           lb  \n23044     los-angeles-rams       127972  2016   offense        skill  \n...                    ...          ...   ...       ...          ...  \n28428   new-orleans-saints      3000000  2017   defense        dline  \n31719      oakland-raiders      3823529  2011   defense    secondary  \n24372       miami-dolphins      5359132  2016   defense        dline  \n17560   indianapolis-colts      8044117  2014   defense           lb  \n41776  washington-redskins     15424113  2019   offense        oline  \n\n[82 rows x 10 columns]"
     },
     "execution_count": 63,
     "metadata": {},
     "output_type": "execute_result"
    }
   ],
   "source": [
    "other_mask = nfl_df['roster_status'].isin(['non_fb_injury'])\n",
    "nfl_df[other_mask].sort_values(by='total_money')"
   ]
  },
  {
   "cell_type": "code",
   "execution_count": 8,
   "metadata": {},
   "outputs": [],
   "source": [
    "nfl_df['roster_status_adj']= nfl_df['roster_status']\\\n",
    "    .map({'injured_reserve': 'injured', 'non_fb_injury': 'injured', 'dead_cap': 'dead_cap', 'active': 'active', 'practice_squad': 'ps'})"
   ]
  },
  {
   "cell_type": "code",
   "execution_count": 9,
   "metadata": {},
   "outputs": [],
   "source": [
    "nfl_df = nfl_df.astype({'roster_status_adj':'category', 'pos_group':'category', 'pos_subgroup': 'category'})"
   ]
  },
  {
   "cell_type": "code",
   "execution_count": 10,
   "metadata": {},
   "outputs": [
    {
     "data": {
      "text/plain": "base_salary             int64\nbonus_total             int64\nname                   object\nposition             category\nroster_status        category\nteam                 category\ntotal_money             int64\nyear                    int64\npos_group            category\npos_subgroup         category\nroster_status_adj    category\ndtype: object"
     },
     "execution_count": 10,
     "metadata": {},
     "output_type": "execute_result"
    }
   ],
   "source": [
    "nfl_df.dtypes"
   ]
  },
  {
   "cell_type": "code",
   "execution_count": 11,
   "metadata": {},
   "outputs": [],
   "source": [
    "# one category of \"money\" split is how much of a team's money is occupied by player's no longer on team (dead cap)\n",
    "# or injured players (players on team but not able to play due to medical or other reasons)\n",
    "roster_mask = (nfl_df['roster_status_adj'].isin(['dead_cap', 'injured'])) & (nfl_df['year'] != 2020)\n",
    "disactive_rstr_df = nfl_df[roster_mask].groupby(['year', 'team', 'roster_status_adj'], as_index=False)['total_money'].sum().dropna()"
   ]
  },
  {
   "cell_type": "code",
   "execution_count": 12,
   "metadata": {},
   "outputs": [],
   "source": [
    "# active players will have several different splits -> first pass will be offense versus defense, second pass will be particular positions \n",
    "active_rstr_mask = (nfl_df['roster_status_adj'] == 'active') & (nfl_df['year'] != 2020)\n",
    "active_rstr_df = nfl_df[active_rstr_mask].groupby(['year', 'team','pos_group'], as_index=False)['total_money'].sum()"
   ]
  },
  {
   "cell_type": "code",
   "execution_count": 13,
   "metadata": {},
   "outputs": [],
   "source": [
    "# rename separate \"roster-like' columns to a single name before combining\n",
    "active_rstr_df = active_rstr_df.rename({'pos_group': 'roster_type'}, axis='columns')\n",
    "disactive_rstr_df = disactive_rstr_df.rename({'roster_status_adj': 'roster_type'}, axis='columns')"
   ]
  },
  {
   "cell_type": "code",
   "execution_count": 14,
   "metadata": {},
   "outputs": [],
   "source": [
    "# combine the fellas\n",
    "nfl_agg_df = pd.concat([active_rstr_df, disactive_rstr_df], axis='rows')"
   ]
  },
  {
   "cell_type": "code",
   "execution_count": 15,
   "metadata": {},
   "outputs": [
    {
     "data": {
      "text/plain": "<matplotlib.axes._subplots.AxesSubplot at 0x1ee5379d108>"
     },
     "execution_count": 15,
     "metadata": {},
     "output_type": "execute_result"
    },
    {
     "data": {
      "image/png": "[encoded data removed]",
      "image/svg+xml": "<?xml version=\"1.0\" encoding=\"utf-8\" standalone=\"no\"?>\r\n<!DOCTYPE svg PUBLIC \"-//W3C//DTD SVG 1.1//EN\"\r\n  \"http://www.w3.org/Graphics/SVG/1.1/DTD/svg11.dtd\">\r\n<!-- Created with matplotlib (https://matplotlib.org/) -->\r\n<svg height=\"272.794688pt\" version=\"1.1\" viewBox=\"0 0 372.103125 272.794688\" width=\"372.103125pt\" xmlns=\"http://www.w3.org/2000/svg\" xmlns:xlink=\"http://www.w3.org/1999/xlink\">\r\n <defs>\r\n  <style type=\"text/css\">\r\n*{stroke-linecap:butt;stroke-linejoin:round;}\r\n  </style>\r\n </defs>\r\n <g id=\"figure_1\">\r\n  <g id=\"patch_1\">\r\n   <path d=\"M 0 272.794688 \r\nL 372.103125 272.794688 \r\nL 372.103125 0 \r\nL 0 0 \r\nz\r\n\" style=\"fill:none;\"/>\r\n  </g>\r\n  <g id=\"axes_1\">\r\n   <g id=\"patch_2\">\r\n    <path d=\"M 30.103125 235.238438 \r\nL 364.903125 235.238438 \r\nL 364.903125 17.798438 \r\nL 30.103125 17.798438 \r\nz\r\n\" style=\"fill:#ffffff;\"/>\r\n   </g>\r\n   <g id=\"matplotlib.axis_1\">\r\n    <g id=\"xtick_1\">\r\n     <g id=\"line2d_1\">\r\n      <defs>\r\n       <path d=\"M 0 0 \r\nL 0 3.5 \r\n\" id=\"ma4f57808f4\" style=\"stroke:#000000;stroke-width:0.8;\"/>\r\n      </defs>\r\n      <g>\r\n       <use style=\"stroke:#000000;stroke-width:0.8;\" x=\"58.003125\" xlink:href=\"#ma4f57808f4\" y=\"235.238438\"/>\r\n      </g>\r\n     </g>\r\n     <g id=\"text_1\">\r\n      <!-- 2008 -->\r\n      <defs>\r\n       <path d=\"M 19.1875 8.296875 \r\nL 53.609375 8.296875 \r\nL 53.609375 0 \r\nL 7.328125 0 \r\nL 7.328125 8.296875 \r\nQ 12.9375 14.109375 22.625 23.890625 \r\nQ 32.328125 33.6875 34.8125 36.53125 \r\nQ 39.546875 41.84375 41.421875 45.53125 \r\nQ 43.3125 49.21875 43.3125 52.78125 \r\nQ 43.3125 58.59375 39.234375 62.25 \r\nQ 35.15625 65.921875 28.609375 65.921875 \r\nQ 23.96875 65.921875 18.8125 64.3125 \r\nQ 13.671875 62.703125 7.8125 59.421875 \r\nL 7.8125 69.390625 \r\nQ 13.765625 71.78125 18.9375 73 \r\nQ 24.125 74.21875 28.421875 74.21875 \r\nQ 39.75 74.21875 46.484375 68.546875 \r\nQ 53.21875 62.890625 53.21875 53.421875 \r\nQ 53.21875 48.921875 51.53125 44.890625 \r\nQ 49.859375 40.875 45.40625 35.40625 \r\nQ 44.1875 33.984375 37.640625 27.21875 \r\nQ 31.109375 20.453125 19.1875 8.296875 \r\nz\r\n\" id=\"DejaVuSans-50\"/>\r\n       <path d=\"M 31.78125 66.40625 \r\nQ 24.171875 66.40625 20.328125 58.90625 \r\nQ 16.5 51.421875 16.5 36.375 \r\nQ 16.5 21.390625 20.328125 13.890625 \r\nQ 24.171875 6.390625 31.78125 6.390625 \r\nQ 39.453125 6.390625 43.28125 13.890625 \r\nQ 47.125 21.390625 47.125 36.375 \r\nQ 47.125 51.421875 43.28125 58.90625 \r\nQ 39.453125 66.40625 31.78125 66.40625 \r\nz\r\nM 31.78125 74.21875 \r\nQ 44.046875 74.21875 50.515625 64.515625 \r\nQ 56.984375 54.828125 56.984375 36.375 \r\nQ 56.984375 17.96875 50.515625 8.265625 \r\nQ 44.046875 -1.421875 31.78125 -1.421875 \r\nQ 19.53125 -1.421875 13.0625 8.265625 \r\nQ 6.59375 17.96875 6.59375 36.375 \r\nQ 6.59375 54.828125 13.0625 64.515625 \r\nQ 19.53125 74.21875 31.78125 74.21875 \r\nz\r\n\" id=\"DejaVuSans-48\"/>\r\n       <path d=\"M 31.78125 34.625 \r\nQ 24.75 34.625 20.71875 30.859375 \r\nQ 16.703125 27.09375 16.703125 20.515625 \r\nQ 16.703125 13.921875 20.71875 10.15625 \r\nQ 24.75 6.390625 31.78125 6.390625 \r\nQ 38.8125 6.390625 42.859375 10.171875 \r\nQ 46.921875 13.96875 46.921875 20.515625 \r\nQ 46.921875 27.09375 42.890625 30.859375 \r\nQ 38.875 34.625 31.78125 34.625 \r\nz\r\nM 21.921875 38.8125 \r\nQ 15.578125 40.375 12.03125 44.71875 \r\nQ 8.5 49.078125 8.5 55.328125 \r\nQ 8.5 64.0625 14.71875 69.140625 \r\nQ 20.953125 74.21875 31.78125 74.21875 \r\nQ 42.671875 74.21875 48.875 69.140625 \r\nQ 55.078125 64.0625 55.078125 55.328125 \r\nQ 55.078125 49.078125 51.53125 44.71875 \r\nQ 48 40.375 41.703125 38.8125 \r\nQ 48.828125 37.15625 52.796875 32.3125 \r\nQ 56.78125 27.484375 56.78125 20.515625 \r\nQ 56.78125 9.90625 50.3125 4.234375 \r\nQ 43.84375 -1.421875 31.78125 -1.421875 \r\nQ 19.734375 -1.421875 13.25 4.234375 \r\nQ 6.78125 9.90625 6.78125 20.515625 \r\nQ 6.78125 27.484375 10.78125 32.3125 \r\nQ 14.796875 37.15625 21.921875 38.8125 \r\nz\r\nM 18.3125 54.390625 \r\nQ 18.3125 48.734375 21.84375 45.5625 \r\nQ 25.390625 42.390625 31.78125 42.390625 \r\nQ 38.140625 42.390625 41.71875 45.5625 \r\nQ 45.3125 48.734375 45.3125 54.390625 \r\nQ 45.3125 60.0625 41.71875 63.234375 \r\nQ 38.140625 66.40625 31.78125 66.40625 \r\nQ 25.390625 66.40625 21.84375 63.234375 \r\nQ 18.3125 60.0625 18.3125 54.390625 \r\nz\r\n\" id=\"DejaVuSans-56\"/>\r\n      </defs>\r\n      <g transform=\"translate(45.278125 249.836875)scale(0.1 -0.1)\">\r\n       <use xlink:href=\"#DejaVuSans-50\"/>\r\n       <use x=\"63.623047\" xlink:href=\"#DejaVuSans-48\"/>\r\n       <use x=\"127.246094\" xlink:href=\"#DejaVuSans-48\"/>\r\n       <use x=\"190.869141\" xlink:href=\"#DejaVuSans-56\"/>\r\n      </g>\r\n     </g>\r\n    </g>\r\n    <g id=\"xtick_2\">\r\n     <g id=\"line2d_2\">\r\n      <g>\r\n       <use style=\"stroke:#000000;stroke-width:0.8;\" x=\"113.803125\" xlink:href=\"#ma4f57808f4\" y=\"235.238438\"/>\r\n      </g>\r\n     </g>\r\n     <g id=\"text_2\">\r\n      <!-- 2010 -->\r\n      <defs>\r\n       <path d=\"M 12.40625 8.296875 \r\nL 28.515625 8.296875 \r\nL 28.515625 63.921875 \r\nL 10.984375 60.40625 \r\nL 10.984375 69.390625 \r\nL 28.421875 72.90625 \r\nL 38.28125 72.90625 \r\nL 38.28125 8.296875 \r\nL 54.390625 8.296875 \r\nL 54.390625 0 \r\nL 12.40625 0 \r\nz\r\n\" id=\"DejaVuSans-49\"/>\r\n      </defs>\r\n      <g transform=\"translate(101.078125 249.836875)scale(0.1 -0.1)\">\r\n       <use xlink:href=\"#DejaVuSans-50\"/>\r\n       <use x=\"63.623047\" xlink:href=\"#DejaVuSans-48\"/>\r\n       <use x=\"127.246094\" xlink:href=\"#DejaVuSans-49\"/>\r\n       <use x=\"190.869141\" xlink:href=\"#DejaVuSans-48\"/>\r\n      </g>\r\n     </g>\r\n    </g>\r\n    <g id=\"xtick_3\">\r\n     <g id=\"line2d_3\">\r\n      <g>\r\n       <use style=\"stroke:#000000;stroke-width:0.8;\" x=\"169.603125\" xlink:href=\"#ma4f57808f4\" y=\"235.238438\"/>\r\n      </g>\r\n     </g>\r\n     <g id=\"text_3\">\r\n      <!-- 2012 -->\r\n      <g transform=\"translate(156.878125 249.836875)scale(0.1 -0.1)\">\r\n       <use xlink:href=\"#DejaVuSans-50\"/>\r\n       <use x=\"63.623047\" xlink:href=\"#DejaVuSans-48\"/>\r\n       <use x=\"127.246094\" xlink:href=\"#DejaVuSans-49\"/>\r\n       <use x=\"190.869141\" xlink:href=\"#DejaVuSans-50\"/>\r\n      </g>\r\n     </g>\r\n    </g>\r\n    <g id=\"xtick_4\">\r\n     <g id=\"line2d_4\">\r\n      <g>\r\n       <use style=\"stroke:#000000;stroke-width:0.8;\" x=\"225.403125\" xlink:href=\"#ma4f57808f4\" y=\"235.238438\"/>\r\n      </g>\r\n     </g>\r\n     <g id=\"text_4\">\r\n      <!-- 2014 -->\r\n      <defs>\r\n       <path d=\"M 37.796875 64.3125 \r\nL 12.890625 25.390625 \r\nL 37.796875 25.390625 \r\nz\r\nM 35.203125 72.90625 \r\nL 47.609375 72.90625 \r\nL 47.609375 25.390625 \r\nL 58.015625 25.390625 \r\nL 58.015625 17.1875 \r\nL 47.609375 17.1875 \r\nL 47.609375 0 \r\nL 37.796875 0 \r\nL 37.796875 17.1875 \r\nL 4.890625 17.1875 \r\nL 4.890625 26.703125 \r\nz\r\n\" id=\"DejaVuSans-52\"/>\r\n      </defs>\r\n      <g transform=\"translate(212.678125 249.836875)scale(0.1 -0.1)\">\r\n       <use xlink:href=\"#DejaVuSans-50\"/>\r\n       <use x=\"63.623047\" xlink:href=\"#DejaVuSans-48\"/>\r\n       <use x=\"127.246094\" xlink:href=\"#DejaVuSans-49\"/>\r\n       <use x=\"190.869141\" xlink:href=\"#DejaVuSans-52\"/>\r\n      </g>\r\n     </g>\r\n    </g>\r\n    <g id=\"xtick_5\">\r\n     <g id=\"line2d_5\">\r\n      <g>\r\n       <use style=\"stroke:#000000;stroke-width:0.8;\" x=\"281.203125\" xlink:href=\"#ma4f57808f4\" y=\"235.238438\"/>\r\n      </g>\r\n     </g>\r\n     <g id=\"text_5\">\r\n      <!-- 2016 -->\r\n      <defs>\r\n       <path d=\"M 33.015625 40.375 \r\nQ 26.375 40.375 22.484375 35.828125 \r\nQ 18.609375 31.296875 18.609375 23.390625 \r\nQ 18.609375 15.53125 22.484375 10.953125 \r\nQ 26.375 6.390625 33.015625 6.390625 \r\nQ 39.65625 6.390625 43.53125 10.953125 \r\nQ 47.40625 15.53125 47.40625 23.390625 \r\nQ 47.40625 31.296875 43.53125 35.828125 \r\nQ 39.65625 40.375 33.015625 40.375 \r\nz\r\nM 52.59375 71.296875 \r\nL 52.59375 62.3125 \r\nQ 48.875 64.0625 45.09375 64.984375 \r\nQ 41.3125 65.921875 37.59375 65.921875 \r\nQ 27.828125 65.921875 22.671875 59.328125 \r\nQ 17.53125 52.734375 16.796875 39.40625 \r\nQ 19.671875 43.65625 24.015625 45.921875 \r\nQ 28.375 48.1875 33.59375 48.1875 \r\nQ 44.578125 48.1875 50.953125 41.515625 \r\nQ 57.328125 34.859375 57.328125 23.390625 \r\nQ 57.328125 12.15625 50.6875 5.359375 \r\nQ 44.046875 -1.421875 33.015625 -1.421875 \r\nQ 20.359375 -1.421875 13.671875 8.265625 \r\nQ 6.984375 17.96875 6.984375 36.375 \r\nQ 6.984375 53.65625 15.1875 63.9375 \r\nQ 23.390625 74.21875 37.203125 74.21875 \r\nQ 40.921875 74.21875 44.703125 73.484375 \r\nQ 48.484375 72.75 52.59375 71.296875 \r\nz\r\n\" id=\"DejaVuSans-54\"/>\r\n      </defs>\r\n      <g transform=\"translate(268.478125 249.836875)scale(0.1 -0.1)\">\r\n       <use xlink:href=\"#DejaVuSans-50\"/>\r\n       <use x=\"63.623047\" xlink:href=\"#DejaVuSans-48\"/>\r\n       <use x=\"127.246094\" xlink:href=\"#DejaVuSans-49\"/>\r\n       <use x=\"190.869141\" xlink:href=\"#DejaVuSans-54\"/>\r\n      </g>\r\n     </g>\r\n    </g>\r\n    <g id=\"xtick_6\">\r\n     <g id=\"line2d_6\">\r\n      <g>\r\n       <use style=\"stroke:#000000;stroke-width:0.8;\" x=\"337.003125\" xlink:href=\"#ma4f57808f4\" y=\"235.238438\"/>\r\n      </g>\r\n     </g>\r\n     <g id=\"text_6\">\r\n      <!-- 2018 -->\r\n      <g transform=\"translate(324.278125 249.836875)scale(0.1 -0.1)\">\r\n       <use xlink:href=\"#DejaVuSans-50\"/>\r\n       <use x=\"63.623047\" xlink:href=\"#DejaVuSans-48\"/>\r\n       <use x=\"127.246094\" xlink:href=\"#DejaVuSans-49\"/>\r\n       <use x=\"190.869141\" xlink:href=\"#DejaVuSans-56\"/>\r\n      </g>\r\n     </g>\r\n    </g>\r\n    <g id=\"text_7\">\r\n     <!-- year -->\r\n     <defs>\r\n      <path d=\"M 32.171875 -5.078125 \r\nQ 28.375 -14.84375 24.75 -17.8125 \r\nQ 21.140625 -20.796875 15.09375 -20.796875 \r\nL 7.90625 -20.796875 \r\nL 7.90625 -13.28125 \r\nL 13.1875 -13.28125 \r\nQ 16.890625 -13.28125 18.9375 -11.515625 \r\nQ 21 -9.765625 23.484375 -3.21875 \r\nL 25.09375 0.875 \r\nL 2.984375 54.6875 \r\nL 12.5 54.6875 \r\nL 29.59375 11.921875 \r\nL 46.6875 54.6875 \r\nL 56.203125 54.6875 \r\nz\r\n\" id=\"DejaVuSans-121\"/>\r\n      <path d=\"M 56.203125 29.59375 \r\nL 56.203125 25.203125 \r\nL 14.890625 25.203125 \r\nQ 15.484375 15.921875 20.484375 11.0625 \r\nQ 25.484375 6.203125 34.421875 6.203125 \r\nQ 39.59375 6.203125 44.453125 7.46875 \r\nQ 49.3125 8.734375 54.109375 11.28125 \r\nL 54.109375 2.78125 \r\nQ 49.265625 0.734375 44.1875 -0.34375 \r\nQ 39.109375 -1.421875 33.890625 -1.421875 \r\nQ 20.796875 -1.421875 13.15625 6.1875 \r\nQ 5.515625 13.8125 5.515625 26.8125 \r\nQ 5.515625 40.234375 12.765625 48.109375 \r\nQ 20.015625 56 32.328125 56 \r\nQ 43.359375 56 49.78125 48.890625 \r\nQ 56.203125 41.796875 56.203125 29.59375 \r\nz\r\nM 47.21875 32.234375 \r\nQ 47.125 39.59375 43.09375 43.984375 \r\nQ 39.0625 48.390625 32.421875 48.390625 \r\nQ 24.90625 48.390625 20.390625 44.140625 \r\nQ 15.875 39.890625 15.1875 32.171875 \r\nz\r\n\" id=\"DejaVuSans-101\"/>\r\n      <path d=\"M 34.28125 27.484375 \r\nQ 23.390625 27.484375 19.1875 25 \r\nQ 14.984375 22.515625 14.984375 16.5 \r\nQ 14.984375 11.71875 18.140625 8.90625 \r\nQ 21.296875 6.109375 26.703125 6.109375 \r\nQ 34.1875 6.109375 38.703125 11.40625 \r\nQ 43.21875 16.703125 43.21875 25.484375 \r\nL 43.21875 27.484375 \r\nz\r\nM 52.203125 31.203125 \r\nL 52.203125 0 \r\nL 43.21875 0 \r\nL 43.21875 8.296875 \r\nQ 40.140625 3.328125 35.546875 0.953125 \r\nQ 30.953125 -1.421875 24.3125 -1.421875 \r\nQ 15.921875 -1.421875 10.953125 3.296875 \r\nQ 6 8.015625 6 15.921875 \r\nQ 6 25.140625 12.171875 29.828125 \r\nQ 18.359375 34.515625 30.609375 34.515625 \r\nL 43.21875 34.515625 \r\nL 43.21875 35.40625 \r\nQ 43.21875 41.609375 39.140625 45 \r\nQ 35.0625 48.390625 27.6875 48.390625 \r\nQ 23 48.390625 18.546875 47.265625 \r\nQ 14.109375 46.140625 10.015625 43.890625 \r\nL 10.015625 52.203125 \r\nQ 14.9375 54.109375 19.578125 55.046875 \r\nQ 24.21875 56 28.609375 56 \r\nQ 40.484375 56 46.34375 49.84375 \r\nQ 52.203125 43.703125 52.203125 31.203125 \r\nz\r\n\" id=\"DejaVuSans-97\"/>\r\n      <path d=\"M 41.109375 46.296875 \r\nQ 39.59375 47.171875 37.8125 47.578125 \r\nQ 36.03125 48 33.890625 48 \r\nQ 26.265625 48 22.1875 43.046875 \r\nQ 18.109375 38.09375 18.109375 28.8125 \r\nL 18.109375 0 \r\nL 9.078125 0 \r\nL 9.078125 54.6875 \r\nL 18.109375 54.6875 \r\nL 18.109375 46.1875 \r\nQ 20.953125 51.171875 25.484375 53.578125 \r\nQ 30.03125 56 36.53125 56 \r\nQ 37.453125 56 38.578125 55.875 \r\nQ 39.703125 55.765625 41.0625 55.515625 \r\nz\r\n\" id=\"DejaVuSans-114\"/>\r\n     </defs>\r\n     <g transform=\"translate(186.347656 263.515)scale(0.1 -0.1)\">\r\n      <use xlink:href=\"#DejaVuSans-121\"/>\r\n      <use x=\"59.179688\" xlink:href=\"#DejaVuSans-101\"/>\r\n      <use x=\"120.703125\" xlink:href=\"#DejaVuSans-97\"/>\r\n      <use x=\"181.982422\" xlink:href=\"#DejaVuSans-114\"/>\r\n     </g>\r\n    </g>\r\n   </g>\r\n   <g id=\"matplotlib.axis_2\">\r\n    <g id=\"ytick_1\">\r\n     <g id=\"line2d_7\">\r\n      <defs>\r\n       <path d=\"M 0 0 \r\nL -3.5 0 \r\n\" id=\"mc6ff6dfc64\" style=\"stroke:#000000;stroke-width:0.8;\"/>\r\n      </defs>\r\n      <g>\r\n       <use style=\"stroke:#000000;stroke-width:0.8;\" x=\"30.103125\" xlink:href=\"#mc6ff6dfc64\" y=\"210.257662\"/>\r\n      </g>\r\n     </g>\r\n     <g id=\"text_8\">\r\n      <!-- 2.5 -->\r\n      <defs>\r\n       <path d=\"M 10.6875 12.40625 \r\nL 21 12.40625 \r\nL 21 0 \r\nL 10.6875 0 \r\nz\r\n\" id=\"DejaVuSans-46\"/>\r\n       <path d=\"M 10.796875 72.90625 \r\nL 49.515625 72.90625 \r\nL 49.515625 64.59375 \r\nL 19.828125 64.59375 \r\nL 19.828125 46.734375 \r\nQ 21.96875 47.46875 24.109375 47.828125 \r\nQ 26.265625 48.1875 28.421875 48.1875 \r\nQ 40.625 48.1875 47.75 41.5 \r\nQ 54.890625 34.8125 54.890625 23.390625 \r\nQ 54.890625 11.625 47.5625 5.09375 \r\nQ 40.234375 -1.421875 26.90625 -1.421875 \r\nQ 22.3125 -1.421875 17.546875 -0.640625 \r\nQ 12.796875 0.140625 7.71875 1.703125 \r\nL 7.71875 11.625 \r\nQ 12.109375 9.234375 16.796875 8.0625 \r\nQ 21.484375 6.890625 26.703125 6.890625 \r\nQ 35.15625 6.890625 40.078125 11.328125 \r\nQ 45.015625 15.765625 45.015625 23.390625 \r\nQ 45.015625 31 40.078125 35.4375 \r\nQ 35.15625 39.890625 26.703125 39.890625 \r\nQ 22.75 39.890625 18.8125 39.015625 \r\nQ 14.890625 38.140625 10.796875 36.28125 \r\nz\r\n\" id=\"DejaVuSans-53\"/>\r\n      </defs>\r\n      <g transform=\"translate(7.2 214.05688)scale(0.1 -0.1)\">\r\n       <use xlink:href=\"#DejaVuSans-50\"/>\r\n       <use x=\"63.623047\" xlink:href=\"#DejaVuSans-46\"/>\r\n       <use x=\"95.410156\" xlink:href=\"#DejaVuSans-53\"/>\r\n      </g>\r\n     </g>\r\n    </g>\r\n    <g id=\"ytick_2\">\r\n     <g id=\"line2d_8\">\r\n      <g>\r\n       <use style=\"stroke:#000000;stroke-width:0.8;\" x=\"30.103125\" xlink:href=\"#mc6ff6dfc64\" y=\"184.192604\"/>\r\n      </g>\r\n     </g>\r\n     <g id=\"text_9\">\r\n      <!-- 3.0 -->\r\n      <defs>\r\n       <path d=\"M 40.578125 39.3125 \r\nQ 47.65625 37.796875 51.625 33 \r\nQ 55.609375 28.21875 55.609375 21.1875 \r\nQ 55.609375 10.40625 48.1875 4.484375 \r\nQ 40.765625 -1.421875 27.09375 -1.421875 \r\nQ 22.515625 -1.421875 17.65625 -0.515625 \r\nQ 12.796875 0.390625 7.625 2.203125 \r\nL 7.625 11.71875 \r\nQ 11.71875 9.328125 16.59375 8.109375 \r\nQ 21.484375 6.890625 26.8125 6.890625 \r\nQ 36.078125 6.890625 40.9375 10.546875 \r\nQ 45.796875 14.203125 45.796875 21.1875 \r\nQ 45.796875 27.640625 41.28125 31.265625 \r\nQ 36.765625 34.90625 28.71875 34.90625 \r\nL 20.21875 34.90625 \r\nL 20.21875 43.015625 \r\nL 29.109375 43.015625 \r\nQ 36.375 43.015625 40.234375 45.921875 \r\nQ 44.09375 48.828125 44.09375 54.296875 \r\nQ 44.09375 59.90625 40.109375 62.90625 \r\nQ 36.140625 65.921875 28.71875 65.921875 \r\nQ 24.65625 65.921875 20.015625 65.03125 \r\nQ 15.375 64.15625 9.8125 62.3125 \r\nL 9.8125 71.09375 \r\nQ 15.4375 72.65625 20.34375 73.4375 \r\nQ 25.25 74.21875 29.59375 74.21875 \r\nQ 40.828125 74.21875 47.359375 69.109375 \r\nQ 53.90625 64.015625 53.90625 55.328125 \r\nQ 53.90625 49.265625 50.4375 45.09375 \r\nQ 46.96875 40.921875 40.578125 39.3125 \r\nz\r\n\" id=\"DejaVuSans-51\"/>\r\n      </defs>\r\n      <g transform=\"translate(7.2 187.991823)scale(0.1 -0.1)\">\r\n       <use xlink:href=\"#DejaVuSans-51\"/>\r\n       <use x=\"63.623047\" xlink:href=\"#DejaVuSans-46\"/>\r\n       <use x=\"95.410156\" xlink:href=\"#DejaVuSans-48\"/>\r\n      </g>\r\n     </g>\r\n    </g>\r\n    <g id=\"ytick_3\">\r\n     <g id=\"line2d_9\">\r\n      <g>\r\n       <use style=\"stroke:#000000;stroke-width:0.8;\" x=\"30.103125\" xlink:href=\"#mc6ff6dfc64\" y=\"158.127547\"/>\r\n      </g>\r\n     </g>\r\n     <g id=\"text_10\">\r\n      <!-- 3.5 -->\r\n      <g transform=\"translate(7.2 161.926766)scale(0.1 -0.1)\">\r\n       <use xlink:href=\"#DejaVuSans-51\"/>\r\n       <use x=\"63.623047\" xlink:href=\"#DejaVuSans-46\"/>\r\n       <use x=\"95.410156\" xlink:href=\"#DejaVuSans-53\"/>\r\n      </g>\r\n     </g>\r\n    </g>\r\n    <g id=\"ytick_4\">\r\n     <g id=\"line2d_10\">\r\n      <g>\r\n       <use style=\"stroke:#000000;stroke-width:0.8;\" x=\"30.103125\" xlink:href=\"#mc6ff6dfc64\" y=\"132.06249\"/>\r\n      </g>\r\n     </g>\r\n     <g id=\"text_11\">\r\n      <!-- 4.0 -->\r\n      <g transform=\"translate(7.2 135.861709)scale(0.1 -0.1)\">\r\n       <use xlink:href=\"#DejaVuSans-52\"/>\r\n       <use x=\"63.623047\" xlink:href=\"#DejaVuSans-46\"/>\r\n       <use x=\"95.410156\" xlink:href=\"#DejaVuSans-48\"/>\r\n      </g>\r\n     </g>\r\n    </g>\r\n    <g id=\"ytick_5\">\r\n     <g id=\"line2d_11\">\r\n      <g>\r\n       <use style=\"stroke:#000000;stroke-width:0.8;\" x=\"30.103125\" xlink:href=\"#mc6ff6dfc64\" y=\"105.997433\"/>\r\n      </g>\r\n     </g>\r\n     <g id=\"text_12\">\r\n      <!-- 4.5 -->\r\n      <g transform=\"translate(7.2 109.796652)scale(0.1 -0.1)\">\r\n       <use xlink:href=\"#DejaVuSans-52\"/>\r\n       <use x=\"63.623047\" xlink:href=\"#DejaVuSans-46\"/>\r\n       <use x=\"95.410156\" xlink:href=\"#DejaVuSans-53\"/>\r\n      </g>\r\n     </g>\r\n    </g>\r\n    <g id=\"ytick_6\">\r\n     <g id=\"line2d_12\">\r\n      <g>\r\n       <use style=\"stroke:#000000;stroke-width:0.8;\" x=\"30.103125\" xlink:href=\"#mc6ff6dfc64\" y=\"79.932376\"/>\r\n      </g>\r\n     </g>\r\n     <g id=\"text_13\">\r\n      <!-- 5.0 -->\r\n      <g transform=\"translate(7.2 83.731594)scale(0.1 -0.1)\">\r\n       <use xlink:href=\"#DejaVuSans-53\"/>\r\n       <use x=\"63.623047\" xlink:href=\"#DejaVuSans-46\"/>\r\n       <use x=\"95.410156\" xlink:href=\"#DejaVuSans-48\"/>\r\n      </g>\r\n     </g>\r\n    </g>\r\n    <g id=\"ytick_7\">\r\n     <g id=\"line2d_13\">\r\n      <g>\r\n       <use style=\"stroke:#000000;stroke-width:0.8;\" x=\"30.103125\" xlink:href=\"#mc6ff6dfc64\" y=\"53.867318\"/>\r\n      </g>\r\n     </g>\r\n     <g id=\"text_14\">\r\n      <!-- 5.5 -->\r\n      <g transform=\"translate(7.2 57.666537)scale(0.1 -0.1)\">\r\n       <use xlink:href=\"#DejaVuSans-53\"/>\r\n       <use x=\"63.623047\" xlink:href=\"#DejaVuSans-46\"/>\r\n       <use x=\"95.410156\" xlink:href=\"#DejaVuSans-53\"/>\r\n      </g>\r\n     </g>\r\n    </g>\r\n    <g id=\"ytick_8\">\r\n     <g id=\"line2d_14\">\r\n      <g>\r\n       <use style=\"stroke:#000000;stroke-width:0.8;\" x=\"30.103125\" xlink:href=\"#mc6ff6dfc64\" y=\"27.802261\"/>\r\n      </g>\r\n     </g>\r\n     <g id=\"text_15\">\r\n      <!-- 6.0 -->\r\n      <g transform=\"translate(7.2 31.60148)scale(0.1 -0.1)\">\r\n       <use xlink:href=\"#DejaVuSans-54\"/>\r\n       <use x=\"63.623047\" xlink:href=\"#DejaVuSans-46\"/>\r\n       <use x=\"95.410156\" xlink:href=\"#DejaVuSans-48\"/>\r\n      </g>\r\n     </g>\r\n    </g>\r\n    <g id=\"text_16\">\r\n     <!-- 1e9 -->\r\n     <defs>\r\n      <path d=\"M 10.984375 1.515625 \r\nL 10.984375 10.5 \r\nQ 14.703125 8.734375 18.5 7.8125 \r\nQ 22.3125 6.890625 25.984375 6.890625 \r\nQ 35.75 6.890625 40.890625 13.453125 \r\nQ 46.046875 20.015625 46.78125 33.40625 \r\nQ 43.953125 29.203125 39.59375 26.953125 \r\nQ 35.25 24.703125 29.984375 24.703125 \r\nQ 19.046875 24.703125 12.671875 31.3125 \r\nQ 6.296875 37.9375 6.296875 49.421875 \r\nQ 6.296875 60.640625 12.9375 67.421875 \r\nQ 19.578125 74.21875 30.609375 74.21875 \r\nQ 43.265625 74.21875 49.921875 64.515625 \r\nQ 56.59375 54.828125 56.59375 36.375 \r\nQ 56.59375 19.140625 48.40625 8.859375 \r\nQ 40.234375 -1.421875 26.421875 -1.421875 \r\nQ 22.703125 -1.421875 18.890625 -0.6875 \r\nQ 15.09375 0.046875 10.984375 1.515625 \r\nz\r\nM 30.609375 32.421875 \r\nQ 37.25 32.421875 41.125 36.953125 \r\nQ 45.015625 41.5 45.015625 49.421875 \r\nQ 45.015625 57.28125 41.125 61.84375 \r\nQ 37.25 66.40625 30.609375 66.40625 \r\nQ 23.96875 66.40625 20.09375 61.84375 \r\nQ 16.21875 57.28125 16.21875 49.421875 \r\nQ 16.21875 41.5 20.09375 36.953125 \r\nQ 23.96875 32.421875 30.609375 32.421875 \r\nz\r\n\" id=\"DejaVuSans-57\"/>\r\n     </defs>\r\n     <g transform=\"translate(30.103125 14.798437)scale(0.1 -0.1)\">\r\n      <use xlink:href=\"#DejaVuSans-49\"/>\r\n      <use x=\"63.623047\" xlink:href=\"#DejaVuSans-101\"/>\r\n      <use x=\"125.146484\" xlink:href=\"#DejaVuSans-57\"/>\r\n     </g>\r\n    </g>\r\n   </g>\r\n   <g id=\"line2d_15\">\r\n    <path clip-path=\"url(#p683d245c28)\" d=\"M 30.103125 225.354801 \r\nL 58.003125 199.127579 \r\nL 85.903125 166.385483 \r\nL 113.803125 143.256147 \r\nL 141.703125 140.883083 \r\nL 169.603125 118.796828 \r\nL 197.503125 125.059311 \r\nL 225.403125 112.467114 \r\nL 253.303125 101.059191 \r\nL 281.203125 87.364329 \r\nL 309.103125 68.565147 \r\nL 337.003125 43.221457 \r\nL 364.903125 27.682074 \r\n\" style=\"fill:none;stroke:#1f77b4;stroke-linecap:square;stroke-width:1.5;\"/>\r\n   </g>\r\n   <g id=\"patch_3\">\r\n    <path d=\"M 30.103125 235.238437 \r\nL 30.103125 17.798437 \r\n\" style=\"fill:none;stroke:#000000;stroke-linecap:square;stroke-linejoin:miter;stroke-width:0.8;\"/>\r\n   </g>\r\n   <g id=\"patch_4\">\r\n    <path d=\"M 364.903125 235.238437 \r\nL 364.903125 17.798437 \r\n\" style=\"fill:none;stroke:#000000;stroke-linecap:square;stroke-linejoin:miter;stroke-width:0.8;\"/>\r\n   </g>\r\n   <g id=\"patch_5\">\r\n    <path d=\"M 30.103125 235.238438 \r\nL 364.903125 235.238438 \r\n\" style=\"fill:none;stroke:#000000;stroke-linecap:square;stroke-linejoin:miter;stroke-width:0.8;\"/>\r\n   </g>\r\n   <g id=\"patch_6\">\r\n    <path d=\"M 30.103125 17.798438 \r\nL 364.903125 17.798438 \r\n\" style=\"fill:none;stroke:#000000;stroke-linecap:square;stroke-linejoin:miter;stroke-width:0.8;\"/>\r\n   </g>\r\n  </g>\r\n </g>\r\n <defs>\r\n  <clipPath id=\"p683d245c28\">\r\n   <rect height=\"217.44\" width=\"334.8\" x=\"30.103125\" y=\"17.798438\"/>\r\n  </clipPath>\r\n </defs>\r\n</svg>\r\n",
      "text/plain": "<Figure size 432x288 with 1 Axes>"
     },
     "metadata": {
      "needs_background": "light"
     },
     "output_type": "display_data"
    }
   ],
   "source": [
    "nfl_agg_df.groupby('year')['total_money'].sum().plot()\n"
   ]
  },
  {
   "cell_type": "code",
   "execution_count": 16,
   "metadata": {},
   "outputs": [],
   "source": [
    "team_totals = nfl_agg_df.groupby(['year', 'team'], as_index=False)['total_money'].sum()"
   ]
  },
  {
   "cell_type": "code",
   "execution_count": 17,
   "metadata": {},
   "outputs": [],
   "source": [
    "team_totals = team_totals.rename({'total_money': 'team_total'}, axis='columns')"
   ]
  },
  {
   "cell_type": "code",
   "execution_count": 18,
   "metadata": {},
   "outputs": [
    {
     "data": {
      "text/html": "<div>\n<style scoped>\n    .dataframe tbody tr th:only-of-type {\n        vertical-align: middle;\n    }\n\n    .dataframe tbody tr th {\n        vertical-align: top;\n    }\n\n    .dataframe thead th {\n        text-align: right;\n    }\n</style>\n<table border=\"1\" class=\"dataframe\">\n  <thead>\n    <tr style=\"text-align: right;\">\n      <th></th>\n      <th>year</th>\n      <th>team</th>\n      <th>team_total</th>\n    </tr>\n  </thead>\n  <tbody>\n    <tr>\n      <th>135</th>\n      <td>2011</td>\n      <td>cleveland-browns</td>\n      <td>102501199.0</td>\n    </tr>\n    <tr>\n      <th>51</th>\n      <td>2008</td>\n      <td>minnesota-vikings</td>\n      <td>117223452.0</td>\n    </tr>\n    <tr>\n      <th>356</th>\n      <td>2018</td>\n      <td>carolina-panthers</td>\n      <td>189593364.0</td>\n    </tr>\n    <tr>\n      <th>304</th>\n      <td>2016</td>\n      <td>los-angeles-chargers</td>\n      <td>156063147.0</td>\n    </tr>\n    <tr>\n      <th>49</th>\n      <td>2008</td>\n      <td>los-angeles-rams</td>\n      <td>80666760.0</td>\n    </tr>\n  </tbody>\n</table>\n</div>",
      "text/plain": "     year                  team   team_total\n135  2011      cleveland-browns  102501199.0\n51   2008     minnesota-vikings  117223452.0\n356  2018     carolina-panthers  189593364.0\n304  2016  los-angeles-chargers  156063147.0\n49   2008      los-angeles-rams   80666760.0"
     },
     "execution_count": 18,
     "metadata": {},
     "output_type": "execute_result"
    }
   ],
   "source": [
    "team_totals.sample(5)"
   ]
  },
  {
   "cell_type": "code",
   "execution_count": 19,
   "metadata": {},
   "outputs": [],
   "source": [
    "nfl_agg_df_w_total = pd.merge(left=nfl_agg_df, right=team_totals, on=['year', 'team'])"
   ]
  },
  {
   "cell_type": "code",
   "execution_count": 20,
   "metadata": {},
   "outputs": [],
   "source": [
    "nfl_agg_df_w_total['perc_of_total'] = nfl_agg_df_w_total['total_money'] / nfl_agg_df_w_total['team_total']\n",
    "\n"
   ]
  },
  {
   "cell_type": "code",
   "execution_count": 21,
   "metadata": {},
   "outputs": [
    {
     "data": {
      "text/plain": "year  team                \n2007  arizona-cardinals       1.0\n      atlanta-falcons         1.0\n      baltimore-ravens        1.0\n      buffalo-bills           1.0\n      carolina-panthers       1.0\n                             ... \n2019  san-francisco-49ers     1.0\n      seattle-seahawks        1.0\n      tampa-bay-buccaneers    1.0\n      tennessee-titans        1.0\n      washington-redskins     1.0\nName: perc_of_total, Length: 416, dtype: float64"
     },
     "execution_count": 21,
     "metadata": {},
     "output_type": "execute_result"
    }
   ],
   "source": [
    "# sample basis check these all total 1\n",
    "nfl_agg_df_w_total.groupby(['year', 'team'])['perc_of_total'].sum()"
   ]
  },
  {
   "cell_type": "code",
   "execution_count": 36,
   "metadata": {},
   "outputs": [],
   "source": [
    "nfl_agg_df_w_total = nfl_agg_df_w_total.astype({'year': 'object', 'team': 'object'})"
   ]
  },
  {
   "cell_type": "code",
   "execution_count": 46,
   "metadata": {},
   "outputs": [
    {
     "data": {
      "text/html": "<div>\n<style scoped>\n    .dataframe tbody tr th:only-of-type {\n        vertical-align: middle;\n    }\n\n    .dataframe tbody tr th {\n        vertical-align: top;\n    }\n\n    .dataframe thead th {\n        text-align: right;\n    }\n</style>\n<table border=\"1\" class=\"dataframe\">\n  <thead>\n    <tr style=\"text-align: right;\">\n      <th></th>\n      <th>year</th>\n      <th>team</th>\n    </tr>\n  </thead>\n  <tbody>\n    <tr>\n      <th>0</th>\n      <td>2007</td>\n      <td>arizona-cardinals</td>\n    </tr>\n    <tr>\n      <th>1</th>\n      <td>2007</td>\n      <td>arizona-cardinals</td>\n    </tr>\n    <tr>\n      <th>2</th>\n      <td>2007</td>\n      <td>arizona-cardinals</td>\n    </tr>\n    <tr>\n      <th>3</th>\n      <td>2007</td>\n      <td>arizona-cardinals</td>\n    </tr>\n    <tr>\n      <th>4</th>\n      <td>2007</td>\n      <td>arizona-cardinals</td>\n    </tr>\n    <tr>\n      <th>...</th>\n      <td>...</td>\n      <td>...</td>\n    </tr>\n    <tr>\n      <th>2043</th>\n      <td>2019</td>\n      <td>washington-redskins</td>\n    </tr>\n    <tr>\n      <th>2044</th>\n      <td>2019</td>\n      <td>washington-redskins</td>\n    </tr>\n    <tr>\n      <th>2045</th>\n      <td>2019</td>\n      <td>washington-redskins</td>\n    </tr>\n    <tr>\n      <th>2046</th>\n      <td>2019</td>\n      <td>washington-redskins</td>\n    </tr>\n    <tr>\n      <th>2047</th>\n      <td>2019</td>\n      <td>washington-redskins</td>\n    </tr>\n  </tbody>\n</table>\n<p>2048 rows × 2 columns</p>\n</div>",
      "text/plain": "      year                 team\n0     2007    arizona-cardinals\n1     2007    arizona-cardinals\n2     2007    arizona-cardinals\n3     2007    arizona-cardinals\n4     2007    arizona-cardinals\n...    ...                  ...\n2043  2019  washington-redskins\n2044  2019  washington-redskins\n2045  2019  washington-redskins\n2046  2019  washington-redskins\n2047  2019  washington-redskins\n\n[2048 rows x 2 columns]"
     },
     "execution_count": 46,
     "metadata": {},
     "output_type": "execute_result"
    }
   ],
   "source": [
    "# combine year and period to be new index\n",
    "nfl_agg_df_w_total[['year', 'team']]"
   ]
  },
  {
   "cell_type": "code",
   "execution_count": 53,
   "metadata": {},
   "outputs": [],
   "source": [
    "# nfl_agg_df_w_total['yr_team'] = nfl_agg_df_w_total['year'].astype('str').str.cat(nfl_agg_df_w_total['team'] , sep='_')\n",
    "nfl_agg_df_w_total = nfl_agg_df_w_total.set_index('yr_team').drop(['year', 'team'], axis='columns')"
   ]
  },
  {
   "cell_type": "code",
   "execution_count": 54,
   "metadata": {},
   "outputs": [
    {
     "data": {
      "text/html": "<div>\n<style scoped>\n    .dataframe tbody tr th:only-of-type {\n        vertical-align: middle;\n    }\n\n    .dataframe tbody tr th {\n        vertical-align: top;\n    }\n\n    .dataframe thead th {\n        text-align: right;\n    }\n</style>\n<table border=\"1\" class=\"dataframe\">\n  <thead>\n    <tr style=\"text-align: right;\">\n      <th></th>\n      <th>roster_type</th>\n      <th>total_money</th>\n      <th>team_total</th>\n      <th>perc_of_total</th>\n    </tr>\n    <tr>\n      <th>yr_team</th>\n      <th></th>\n      <th></th>\n      <th></th>\n      <th></th>\n    </tr>\n  </thead>\n  <tbody>\n    <tr>\n      <th>2012_tennessee-titans</th>\n      <td>dead_cap</td>\n      <td>1712920.0</td>\n      <td>124842679.0</td>\n      <td>0.013721</td>\n    </tr>\n    <tr>\n      <th>2016_chicago-bears</th>\n      <td>dead_cap</td>\n      <td>12797351.0</td>\n      <td>149021220.0</td>\n      <td>0.085876</td>\n    </tr>\n    <tr>\n      <th>2011_philadelphia-eagles</th>\n      <td>dead_cap</td>\n      <td>6179232.0</td>\n      <td>131226464.0</td>\n      <td>0.047088</td>\n    </tr>\n    <tr>\n      <th>2011_houston-texans</th>\n      <td>specialty</td>\n      <td>2975000.0</td>\n      <td>129775569.0</td>\n      <td>0.022924</td>\n    </tr>\n    <tr>\n      <th>2012_minnesota-vikings</th>\n      <td>dead_cap</td>\n      <td>11121795.0</td>\n      <td>118179941.0</td>\n      <td>0.094109</td>\n    </tr>\n  </tbody>\n</table>\n</div>",
      "text/plain": "                         roster_type  total_money   team_total  perc_of_total\nyr_team                                                                      \n2012_tennessee-titans       dead_cap    1712920.0  124842679.0       0.013721\n2016_chicago-bears          dead_cap   12797351.0  149021220.0       0.085876\n2011_philadelphia-eagles    dead_cap    6179232.0  131226464.0       0.047088\n2011_houston-texans        specialty    2975000.0  129775569.0       0.022924\n2012_minnesota-vikings      dead_cap   11121795.0  118179941.0       0.094109"
     },
     "execution_count": 54,
     "metadata": {},
     "output_type": "execute_result"
    }
   ],
   "source": [
    "nfl_agg_df_w_total.sample(5)"
   ]
  },
  {
   "cell_type": "code",
   "execution_count": 58,
   "metadata": {},
   "outputs": [],
   "source": [
    "features_df = nfl_agg_df_w_total.pivot(columns='roster_type', values='perc_of_total')"
   ]
  },
  {
   "cell_type": "code",
   "execution_count": 26,
   "metadata": {},
   "outputs": [],
   "source": [
    "# nfl_agg_w_wins = pd.merge(left=nfl_agg_df_w_total, right=nfl_wl_df, on=['year', 'team'], how='inner')\n"
   ]
  },
  {
   "cell_type": "code",
   "execution_count": 67,
   "metadata": {},
   "outputs": [
    {
     "data": {
      "text/html": "<div>\n<style scoped>\n    .dataframe tbody tr th:only-of-type {\n        vertical-align: middle;\n    }\n\n    .dataframe tbody tr th {\n        vertical-align: top;\n    }\n\n    .dataframe thead th {\n        text-align: right;\n    }\n</style>\n<table border=\"1\" class=\"dataframe\">\n  <thead>\n    <tr style=\"text-align: right;\">\n      <th></th>\n      <th>year</th>\n      <th>team</th>\n      <th>w</th>\n      <th>l</th>\n      <th>playoff</th>\n    </tr>\n  </thead>\n  <tbody>\n    <tr>\n      <th>16</th>\n      <td>2019</td>\n      <td>los-angeles-chargers</td>\n      <td>5</td>\n      <td>11</td>\n      <td>no</td>\n    </tr>\n    <tr>\n      <th>25</th>\n      <td>2019</td>\n      <td>philadelphia-eagles</td>\n      <td>9</td>\n      <td>7</td>\n      <td>yes</td>\n    </tr>\n    <tr>\n      <th>10</th>\n      <td>2019</td>\n      <td>detroit-lions</td>\n      <td>3</td>\n      <td>12</td>\n      <td>no</td>\n    </tr>\n    <tr>\n      <th>26</th>\n      <td>2019</td>\n      <td>pittsburgh-steelers</td>\n      <td>8</td>\n      <td>8</td>\n      <td>no</td>\n    </tr>\n    <tr>\n      <th>1</th>\n      <td>2019</td>\n      <td>atlanta-falcons</td>\n      <td>7</td>\n      <td>9</td>\n      <td>no</td>\n    </tr>\n  </tbody>\n</table>\n</div>",
      "text/plain": "    year                  team  w   l playoff\n16  2019  los-angeles-chargers  5  11      no\n25  2019   philadelphia-eagles  9   7     yes\n10  2019         detroit-lions  3  12      no\n26  2019   pittsburgh-steelers  8   8      no\n1   2019       atlanta-falcons  7   9      no"
     },
     "execution_count": 67,
     "metadata": {},
     "output_type": "execute_result"
    }
   ],
   "source": [
    "nfl_wl_df.sample(5)"
   ]
  },
  {
   "cell_type": "code",
   "execution_count": 68,
   "metadata": {},
   "outputs": [
    {
     "data": {
      "text/plain": "0     2019\n1     2019\n2     2019\n3     2019\n4     2019\n5     2019\n6     2019\n7     2019\n8     2019\n9     2019\n10    2019\n11    2019\n12    2019\n13    2019\n14    2019\n15    2019\n16    2019\n17    2019\n18    2019\n19    2019\n20    2019\n21    2019\n22    2019\n23    2019\n24    2019\n25    2019\n26    2019\n27    2019\n28    2019\n29    2019\n30    2019\n31    2019\nName: year, dtype: object"
     },
     "execution_count": 68,
     "metadata": {},
     "output_type": "execute_result"
    }
   ],
   "source": [
    "nfl_wl_df['year'].astype('str')"
   ]
  },
  {
   "cell_type": "code",
   "execution_count": 69,
   "metadata": {},
   "outputs": [
    {
     "data": {
      "text/html": "<div>\n<style scoped>\n    .dataframe tbody tr th:only-of-type {\n        vertical-align: middle;\n    }\n\n    .dataframe tbody tr th {\n        vertical-align: top;\n    }\n\n    .dataframe thead th {\n        text-align: right;\n    }\n</style>\n<table border=\"1\" class=\"dataframe\">\n  <thead>\n    <tr style=\"text-align: right;\">\n      <th></th>\n      <th>w</th>\n      <th>l</th>\n      <th>playoff</th>\n    </tr>\n    <tr>\n      <th>yr_team</th>\n      <th></th>\n      <th></th>\n      <th></th>\n    </tr>\n  </thead>\n  <tbody>\n    <tr>\n      <th>2019_los-angeles-chargers</th>\n      <td>5</td>\n      <td>11</td>\n      <td>no</td>\n    </tr>\n    <tr>\n      <th>2019_chicago-bears</th>\n      <td>8</td>\n      <td>8</td>\n      <td>no</td>\n    </tr>\n    <tr>\n      <th>2019_seattle-seahawks</th>\n      <td>11</td>\n      <td>5</td>\n      <td>yes</td>\n    </tr>\n    <tr>\n      <th>2019_kansas-city-chiefs</th>\n      <td>12</td>\n      <td>4</td>\n      <td>yes</td>\n    </tr>\n    <tr>\n      <th>2019_indianapolis-colts</th>\n      <td>7</td>\n      <td>9</td>\n      <td>no</td>\n    </tr>\n  </tbody>\n</table>\n</div>",
      "text/plain": "                            w   l playoff\nyr_team                                  \n2019_los-angeles-chargers   5  11      no\n2019_chicago-bears          8   8      no\n2019_seattle-seahawks      11   5     yes\n2019_kansas-city-chiefs    12   4     yes\n2019_indianapolis-colts     7   9      no"
     },
     "execution_count": 69,
     "metadata": {},
     "output_type": "execute_result"
    }
   ],
   "source": [
    "nfl_wl_df['yr_team'] = nfl_wl_df['year'].astype('str').str.cat(nfl_wl_df['team'], sep='_')\n",
    "nfl_wl_df = nfl_wl_df.set_index('yr_team').drop(['year', 'team'], axis='columns')\n",
    "nfl_wl_df.sample(5)"
   ]
  },
  {
   "cell_type": "code",
   "execution_count": 74,
   "metadata": {},
   "outputs": [],
   "source": [
    "# note this is for 2019 only\n",
    "ftr_trgt_df = pd.merge(left=features_df, right=nfl_wl_df, left_index=True, right_index=True, sort=False)"
   ]
  },
  {
   "cell_type": "code",
   "execution_count": 76,
   "metadata": {},
   "outputs": [
    {
     "data": {
      "text/plain": "(32, 8)"
     },
     "execution_count": 76,
     "metadata": {},
     "output_type": "execute_result"
    }
   ],
   "source": [
    "ftr_trgt_df.shape"
   ]
  },
  {
   "cell_type": "code",
   "execution_count": 77,
   "metadata": {},
   "outputs": [
    {
     "data": {
      "text/html": "<div>\n<style scoped>\n    .dataframe tbody tr th:only-of-type {\n        vertical-align: middle;\n    }\n\n    .dataframe tbody tr th {\n        vertical-align: top;\n    }\n\n    .dataframe thead th {\n        text-align: right;\n    }\n</style>\n<table border=\"1\" class=\"dataframe\">\n  <thead>\n    <tr style=\"text-align: right;\">\n      <th></th>\n      <th>dead_cap</th>\n      <th>defense</th>\n      <th>injured</th>\n      <th>offense</th>\n      <th>specialty</th>\n      <th>w</th>\n      <th>l</th>\n      <th>playoff</th>\n    </tr>\n    <tr>\n      <th>yr_team</th>\n      <th></th>\n      <th></th>\n      <th></th>\n      <th></th>\n      <th></th>\n      <th></th>\n      <th></th>\n      <th></th>\n    </tr>\n  </thead>\n  <tbody>\n    <tr>\n      <th>2019_chicago-bears</th>\n      <td>0.055910</td>\n      <td>0.430112</td>\n      <td>0.171630</td>\n      <td>0.326405</td>\n      <td>0.015942</td>\n      <td>8</td>\n      <td>8</td>\n      <td>no</td>\n    </tr>\n    <tr>\n      <th>2019_indianapolis-colts</th>\n      <td>0.124933</td>\n      <td>0.358492</td>\n      <td>0.148831</td>\n      <td>0.343824</td>\n      <td>0.023921</td>\n      <td>7</td>\n      <td>9</td>\n      <td>no</td>\n    </tr>\n    <tr>\n      <th>2019_tennessee-titans</th>\n      <td>0.069256</td>\n      <td>0.321994</td>\n      <td>0.155069</td>\n      <td>0.431958</td>\n      <td>0.021723</td>\n      <td>9</td>\n      <td>7</td>\n      <td>yes</td>\n    </tr>\n    <tr>\n      <th>2019_green-bay-packers</th>\n      <td>0.096446</td>\n      <td>0.282823</td>\n      <td>0.047492</td>\n      <td>0.541562</td>\n      <td>0.031677</td>\n      <td>13</td>\n      <td>3</td>\n      <td>yes</td>\n    </tr>\n    <tr>\n      <th>2019_cleveland-browns</th>\n      <td>0.157002</td>\n      <td>0.328422</td>\n      <td>0.083503</td>\n      <td>0.422010</td>\n      <td>0.009063</td>\n      <td>6</td>\n      <td>10</td>\n      <td>no</td>\n    </tr>\n  </tbody>\n</table>\n</div>",
      "text/plain": "                         dead_cap   defense   injured   offense  specialty  \\\nyr_team                                                                      \n2019_chicago-bears       0.055910  0.430112  0.171630  0.326405   0.015942   \n2019_indianapolis-colts  0.124933  0.358492  0.148831  0.343824   0.023921   \n2019_tennessee-titans    0.069256  0.321994  0.155069  0.431958   0.021723   \n2019_green-bay-packers   0.096446  0.282823  0.047492  0.541562   0.031677   \n2019_cleveland-browns    0.157002  0.328422  0.083503  0.422010   0.009063   \n\n                          w   l playoff  \nyr_team                                  \n2019_chicago-bears        8   8      no  \n2019_indianapolis-colts   7   9      no  \n2019_tennessee-titans     9   7     yes  \n2019_green-bay-packers   13   3     yes  \n2019_cleveland-browns     6  10      no  "
     },
     "execution_count": 77,
     "metadata": {},
     "output_type": "execute_result"
    }
   ],
   "source": [
    "ftr_trgt_df.sample(5)"
   ]
  },
  {
   "cell_type": "code",
   "execution_count": 78,
   "metadata": {},
   "outputs": [
    {
     "data": {
      "text/plain": "LinearRegression(copy_X=True, fit_intercept=True, n_jobs=None, normalize=False)"
     },
     "execution_count": 78,
     "metadata": {},
     "output_type": "execute_result"
    }
   ],
   "source": [
    "from sklearn.linear_model import LinearRegression\n",
    "lr = LinearRegression()\n",
    "X = ftr_trgt_df[['dead_cap', 'injured', 'offense', 'specialty']]\n",
    "y = ftr_trgt_df['w']\n",
    "lr.fit(X=X, y=y) "
   ]
  },
  {
   "cell_type": "code",
   "execution_count": 79,
   "metadata": {},
   "outputs": [
    {
     "data": {
      "text/plain": "array([ -6.10291833, -22.82937376,  -7.38556369,  76.36525368])"
     },
     "execution_count": 79,
     "metadata": {},
     "output_type": "execute_result"
    }
   ],
   "source": [
    "lr.coef_"
   ]
  },
  {
   "cell_type": "code",
   "execution_count": 80,
   "metadata": {},
   "outputs": [
    {
     "data": {
      "text/plain": "LinearRegression(copy_X=True, fit_intercept=True, n_jobs=None, normalize=False)"
     },
     "execution_count": 80,
     "metadata": {},
     "output_type": "execute_result"
    }
   ],
   "source": [
    "lr2 = LinearRegression()\n",
    "X = ftr_trgt_df[['dead_cap', 'injured', 'offense']]\n",
    "y = ftr_trgt_df['w']\n",
    "lr2.fit(X=X, y=y) "
   ]
  },
  {
   "cell_type": "code",
   "execution_count": 81,
   "metadata": {},
   "outputs": [
    {
     "data": {
      "text/plain": "array([-10.78329407, -26.10952026, -12.69558762])"
     },
     "execution_count": 81,
     "metadata": {},
     "output_type": "execute_result"
    }
   ],
   "source": [
    "\n",
    "lr2.coef_"
   ]
  },
  {
   "cell_type": "code",
   "execution_count": 83,
   "metadata": {},
   "outputs": [
    {
     "ename": "AttributeError",
     "evalue": "'LinearRegression' object has no attribute 'summary'",
     "output_type": "error",
     "traceback": [
      "\u001b[1;31m---------------------------------------------------------------------------\u001b[0m",
      "\u001b[1;31mAttributeError\u001b[0m                            Traceback (most recent call last)",
      "\u001b[1;32m<ipython-input-83-10898807412d>\u001b[0m in \u001b[0;36m<module>\u001b[1;34m\u001b[0m\n\u001b[1;32m----> 1\u001b[1;33m \u001b[0mprint\u001b[0m\u001b[1;33m(\u001b[0m\u001b[0mlr2\u001b[0m\u001b[1;33m.\u001b[0m\u001b[0msummary\u001b[0m\u001b[1;33m(\u001b[0m\u001b[1;33m)\u001b[0m\u001b[1;33m)\u001b[0m\u001b[1;33m\u001b[0m\u001b[1;33m\u001b[0m\u001b[0m\n\u001b[0m",
      "\u001b[1;31mAttributeError\u001b[0m: 'LinearRegression' object has no attribute 'summary'"
     ]
    }
   ],
   "source": [
    "print(lr2.summary())"
   ]
  },
  {
   "cell_type": "code",
   "execution_count": 84,
   "metadata": {},
   "outputs": [
    {
     "name": "stdout",
     "output_type": "stream",
     "text": "OLS Regression Results                            \n==============================================================================\nDep. Variable:                      w   R-squared:                       0.379\nModel:                            OLS   Adj. R-squared:                  0.312\nMethod:                 Least Squares   F-statistic:                     5.690\nDate:                Fri, 24 Jan 2020   Prob (F-statistic):            0.00358\nTime:                        20:57:30   Log-Likelihood:                -74.580\nNo. Observations:                  32   AIC:                             157.2\nDf Residuals:                      28   BIC:                             163.0\nDf Model:                           3                                         \nCovariance Type:            nonrobust                                         \n==============================================================================\n                 coef    std err          t      P>|t|      [0.025      0.975]\n------------------------------------------------------------------------------\nconst         18.1056      4.938      3.666      0.001       7.990      28.221\ndead_cap     -10.7833      7.599     -1.419      0.167     -26.349       4.782\ninjured      -26.1095      7.752     -3.368      0.002     -41.990     -10.229\noffense      -12.6956      9.063     -1.401      0.172     -31.261       5.869\n==============================================================================\nOmnibus:                        0.697   Durbin-Watson:                   2.061\nProb(Omnibus):                  0.706   Jarque-Bera (JB):                0.747\nSkew:                           0.174   Prob(JB):                        0.688\nKurtosis:                       2.337   Cond. No.                         30.2\n==============================================================================\n\nWarnings:\n[1] Standard Errors assume that the covariance matrix of the errors is correctly specified.\nC:\\Users\\jason\\Anaconda3\\lib\\site-packages\\numpy\\core\\fromnumeric.py:2542: FutureWarning: Method .ptp is deprecated and will be removed in a future version. Use numpy.ptp instead.\n  return ptp(axis=axis, out=out, **kwargs)\n"
    }
   ],
   "source": [
    "from sklearn import datasets, linear_model\n",
    "from sklearn.linear_model import LinearRegression\n",
    "import statsmodels.api as sm\n",
    "from scipy import stats\n",
    "\n",
    "X2 = sm.add_constant(X)\n",
    "est = sm.OLS(y, X2)\n",
    "est2 = est.fit()\n",
    "print(est2.summary())"
   ]
  },
  {
   "cell_type": "code",
   "execution_count": 27,
   "metadata": {},
   "outputs": [
    {
     "data": {
      "text/html": "<div>\n<style scoped>\n    .dataframe tbody tr th:only-of-type {\n        vertical-align: middle;\n    }\n\n    .dataframe tbody tr th {\n        vertical-align: top;\n    }\n\n    .dataframe thead th {\n        text-align: right;\n    }\n</style>\n<table border=\"1\" class=\"dataframe\">\n  <thead>\n    <tr style=\"text-align: right;\">\n      <th></th>\n      <th>year</th>\n      <th>team</th>\n      <th>roster_type</th>\n      <th>total_money</th>\n      <th>team_total</th>\n      <th>perc_of_total</th>\n      <th>w</th>\n      <th>l</th>\n      <th>playoff</th>\n    </tr>\n  </thead>\n  <tbody>\n    <tr>\n      <th>157</th>\n      <td>2019</td>\n      <td>washington-redskins</td>\n      <td>specialty</td>\n      <td>6307857.0</td>\n      <td>172905188.0</td>\n      <td>0.036482</td>\n      <td>3</td>\n      <td>13</td>\n      <td>no</td>\n    </tr>\n    <tr>\n      <th>35</th>\n      <td>2019</td>\n      <td>cleveland-browns</td>\n      <td>defense</td>\n      <td>67523409.0</td>\n      <td>205599528.0</td>\n      <td>0.328422</td>\n      <td>6</td>\n      <td>10</td>\n      <td>no</td>\n    </tr>\n    <tr>\n      <th>133</th>\n      <td>2019</td>\n      <td>pittsburgh-steelers</td>\n      <td>dead_cap</td>\n      <td>34440398.0</td>\n      <td>205931939.0</td>\n      <td>0.167242</td>\n      <td>8</td>\n      <td>8</td>\n      <td>no</td>\n    </tr>\n    <tr>\n      <th>100</th>\n      <td>2019</td>\n      <td>new-england-patriots</td>\n      <td>defense</td>\n      <td>79266787.0</td>\n      <td>196624194.0</td>\n      <td>0.403139</td>\n      <td>12</td>\n      <td>4</td>\n      <td>yes</td>\n    </tr>\n    <tr>\n      <th>60</th>\n      <td>2019</td>\n      <td>houston-texans</td>\n      <td>defense</td>\n      <td>74565458.0</td>\n      <td>195086460.0</td>\n      <td>0.382217</td>\n      <td>10</td>\n      <td>6</td>\n      <td>yes</td>\n    </tr>\n  </tbody>\n</table>\n</div>",
      "text/plain": "     year                  team roster_type  total_money   team_total  \\\n157  2019   washington-redskins   specialty    6307857.0  172905188.0   \n35   2019      cleveland-browns     defense   67523409.0  205599528.0   \n133  2019   pittsburgh-steelers    dead_cap   34440398.0  205931939.0   \n100  2019  new-england-patriots     defense   79266787.0  196624194.0   \n60   2019        houston-texans     defense   74565458.0  195086460.0   \n\n     perc_of_total   w   l playoff  \n157       0.036482   3  13      no  \n35        0.328422   6  10      no  \n133       0.167242   8   8      no  \n100       0.403139  12   4     yes  \n60        0.382217  10   6     yes  "
     },
     "execution_count": 27,
     "metadata": {},
     "output_type": "execute_result"
    }
   ],
   "source": [
    "nfl_agg_w_wins.sample(5)\n"
   ]
  },
  {
   "cell_type": "code",
   "execution_count": 34,
   "metadata": {},
   "outputs": [
    {
     "data": {
      "text/html": "<div>\n<style scoped>\n    .dataframe tbody tr th:only-of-type {\n        vertical-align: middle;\n    }\n\n    .dataframe tbody tr th {\n        vertical-align: top;\n    }\n\n    .dataframe thead th {\n        text-align: right;\n    }\n</style>\n<table border=\"1\" class=\"dataframe\">\n  <thead>\n    <tr style=\"text-align: right;\">\n      <th></th>\n      <th>w</th>\n      <th>perc_of_total</th>\n    </tr>\n  </thead>\n  <tbody>\n    <tr>\n      <th>w</th>\n      <td>1.00000</td>\n      <td>-0.56614</td>\n    </tr>\n    <tr>\n      <th>perc_of_total</th>\n      <td>-0.56614</td>\n      <td>1.00000</td>\n    </tr>\n  </tbody>\n</table>\n</div>",
      "text/plain": "                     w  perc_of_total\nw              1.00000       -0.56614\nperc_of_total -0.56614        1.00000"
     },
     "execution_count": 34,
     "metadata": {},
     "output_type": "execute_result"
    }
   ],
   "source": [
    "nfl_agg_w_wins.loc[nfl_agg_w_wins['roster_type'] == 'injured', ['w', 'perc_of_total']].corr()"
   ]
  },
  {
   "cell_type": "code",
   "execution_count": 38,
   "metadata": {},
   "outputs": [
    {
     "data": {
      "text/html": "<div>\n<style scoped>\n    .dataframe tbody tr th:only-of-type {\n        vertical-align: middle;\n    }\n\n    .dataframe tbody tr th {\n        vertical-align: top;\n    }\n\n    .dataframe thead tr th {\n        text-align: left;\n    }\n\n    .dataframe thead tr:last-of-type th {\n        text-align: right;\n    }\n</style>\n<table border=\"1\" class=\"dataframe\">\n  <thead>\n    <tr>\n      <th></th>\n      <th colspan=\"5\" halign=\"left\">perc_of_total</th>\n      <th colspan=\"5\" halign=\"left\">w</th>\n    </tr>\n    <tr>\n      <th>roster_type</th>\n      <th>dead_cap</th>\n      <th>defense</th>\n      <th>injured</th>\n      <th>offense</th>\n      <th>specialty</th>\n      <th>dead_cap</th>\n      <th>defense</th>\n      <th>injured</th>\n      <th>offense</th>\n      <th>specialty</th>\n    </tr>\n    <tr>\n      <th>team</th>\n      <th></th>\n      <th></th>\n      <th></th>\n      <th></th>\n      <th></th>\n      <th></th>\n      <th></th>\n      <th></th>\n      <th></th>\n      <th></th>\n    </tr>\n  </thead>\n  <tbody>\n    <tr>\n      <th>arizona-cardinals</th>\n      <td>0.264931</td>\n      <td>0.252093</td>\n      <td>0.118874</td>\n      <td>0.344876</td>\n      <td>0.019226</td>\n      <td>5.0</td>\n      <td>5.0</td>\n      <td>5.0</td>\n      <td>5.0</td>\n      <td>5.0</td>\n    </tr>\n    <tr>\n      <th>atlanta-falcons</th>\n      <td>0.098395</td>\n      <td>0.281008</td>\n      <td>0.181473</td>\n      <td>0.431443</td>\n      <td>0.007681</td>\n      <td>7.0</td>\n      <td>7.0</td>\n      <td>7.0</td>\n      <td>7.0</td>\n      <td>7.0</td>\n    </tr>\n    <tr>\n      <th>baltimore-ravens</th>\n      <td>0.162171</td>\n      <td>0.397840</td>\n      <td>0.107899</td>\n      <td>0.279156</td>\n      <td>0.052933</td>\n      <td>14.0</td>\n      <td>14.0</td>\n      <td>14.0</td>\n      <td>14.0</td>\n      <td>14.0</td>\n    </tr>\n    <tr>\n      <th>buffalo-bills</th>\n      <td>0.096058</td>\n      <td>0.439945</td>\n      <td>0.025802</td>\n      <td>0.401639</td>\n      <td>0.036556</td>\n      <td>10.0</td>\n      <td>10.0</td>\n      <td>10.0</td>\n      <td>10.0</td>\n      <td>10.0</td>\n    </tr>\n    <tr>\n      <th>carolina-panthers</th>\n      <td>0.078089</td>\n      <td>0.379779</td>\n      <td>0.287155</td>\n      <td>0.238546</td>\n      <td>0.016431</td>\n      <td>5.0</td>\n      <td>5.0</td>\n      <td>5.0</td>\n      <td>5.0</td>\n      <td>5.0</td>\n    </tr>\n    <tr>\n      <th>chicago-bears</th>\n      <td>0.055910</td>\n      <td>0.430112</td>\n      <td>0.171630</td>\n      <td>0.326405</td>\n      <td>0.015942</td>\n      <td>8.0</td>\n      <td>8.0</td>\n      <td>8.0</td>\n      <td>8.0</td>\n      <td>8.0</td>\n    </tr>\n    <tr>\n      <th>cincinnati-bengals</th>\n      <td>0.076621</td>\n      <td>0.269518</td>\n      <td>0.195384</td>\n      <td>0.427342</td>\n      <td>0.031134</td>\n      <td>2.0</td>\n      <td>2.0</td>\n      <td>2.0</td>\n      <td>2.0</td>\n      <td>2.0</td>\n    </tr>\n    <tr>\n      <th>cleveland-browns</th>\n      <td>0.157002</td>\n      <td>0.328422</td>\n      <td>0.083503</td>\n      <td>0.422010</td>\n      <td>0.009063</td>\n      <td>6.0</td>\n      <td>6.0</td>\n      <td>6.0</td>\n      <td>6.0</td>\n      <td>6.0</td>\n    </tr>\n    <tr>\n      <th>dallas-cowboys</th>\n      <td>0.055682</td>\n      <td>0.313469</td>\n      <td>0.122947</td>\n      <td>0.488202</td>\n      <td>0.019700</td>\n      <td>8.0</td>\n      <td>8.0</td>\n      <td>8.0</td>\n      <td>8.0</td>\n      <td>8.0</td>\n    </tr>\n    <tr>\n      <th>denver-broncos</th>\n      <td>0.188213</td>\n      <td>0.343394</td>\n      <td>0.205554</td>\n      <td>0.231111</td>\n      <td>0.031728</td>\n      <td>7.0</td>\n      <td>7.0</td>\n      <td>7.0</td>\n      <td>7.0</td>\n      <td>7.0</td>\n    </tr>\n    <tr>\n      <th>detroit-lions</th>\n      <td>0.088916</td>\n      <td>0.291200</td>\n      <td>0.382551</td>\n      <td>0.198940</td>\n      <td>0.038393</td>\n      <td>3.0</td>\n      <td>3.0</td>\n      <td>3.0</td>\n      <td>3.0</td>\n      <td>3.0</td>\n    </tr>\n    <tr>\n      <th>green-bay-packers</th>\n      <td>0.096446</td>\n      <td>0.282823</td>\n      <td>0.047492</td>\n      <td>0.541562</td>\n      <td>0.031677</td>\n      <td>13.0</td>\n      <td>13.0</td>\n      <td>13.0</td>\n      <td>13.0</td>\n      <td>13.0</td>\n    </tr>\n    <tr>\n      <th>houston-texans</th>\n      <td>0.141801</td>\n      <td>0.382217</td>\n      <td>0.127012</td>\n      <td>0.323563</td>\n      <td>0.025407</td>\n      <td>10.0</td>\n      <td>10.0</td>\n      <td>10.0</td>\n      <td>10.0</td>\n      <td>10.0</td>\n    </tr>\n    <tr>\n      <th>indianapolis-colts</th>\n      <td>0.124933</td>\n      <td>0.358492</td>\n      <td>0.148831</td>\n      <td>0.343824</td>\n      <td>0.023921</td>\n      <td>7.0</td>\n      <td>7.0</td>\n      <td>7.0</td>\n      <td>7.0</td>\n      <td>7.0</td>\n    </tr>\n    <tr>\n      <th>jacksonville-jaguars</th>\n      <td>0.188449</td>\n      <td>0.321608</td>\n      <td>0.169063</td>\n      <td>0.304254</td>\n      <td>0.016627</td>\n      <td>6.0</td>\n      <td>6.0</td>\n      <td>6.0</td>\n      <td>6.0</td>\n      <td>6.0</td>\n    </tr>\n    <tr>\n      <th>kansas-city-chiefs</th>\n      <td>0.120512</td>\n      <td>0.296508</td>\n      <td>0.063979</td>\n      <td>0.486541</td>\n      <td>0.032461</td>\n      <td>12.0</td>\n      <td>12.0</td>\n      <td>12.0</td>\n      <td>12.0</td>\n      <td>12.0</td>\n    </tr>\n    <tr>\n      <th>los-angeles-chargers</th>\n      <td>0.048807</td>\n      <td>0.383768</td>\n      <td>0.107572</td>\n      <td>0.451408</td>\n      <td>0.008445</td>\n      <td>5.0</td>\n      <td>5.0</td>\n      <td>5.0</td>\n      <td>5.0</td>\n      <td>5.0</td>\n    </tr>\n    <tr>\n      <th>los-angeles-rams</th>\n      <td>0.073493</td>\n      <td>0.391517</td>\n      <td>0.027982</td>\n      <td>0.474414</td>\n      <td>0.032594</td>\n      <td>9.0</td>\n      <td>9.0</td>\n      <td>9.0</td>\n      <td>9.0</td>\n      <td>9.0</td>\n    </tr>\n    <tr>\n      <th>miami-dolphins</th>\n      <td>0.383556</td>\n      <td>0.116635</td>\n      <td>0.264979</td>\n      <td>0.224461</td>\n      <td>0.010370</td>\n      <td>5.0</td>\n      <td>5.0</td>\n      <td>5.0</td>\n      <td>5.0</td>\n      <td>5.0</td>\n    </tr>\n    <tr>\n      <th>minnesota-vikings</th>\n      <td>0.042162</td>\n      <td>0.469382</td>\n      <td>0.024593</td>\n      <td>0.445787</td>\n      <td>0.018077</td>\n      <td>10.0</td>\n      <td>10.0</td>\n      <td>10.0</td>\n      <td>10.0</td>\n      <td>10.0</td>\n    </tr>\n    <tr>\n      <th>new-england-patriots</th>\n      <td>0.142105</td>\n      <td>0.403139</td>\n      <td>0.062095</td>\n      <td>0.383687</td>\n      <td>0.008974</td>\n      <td>12.0</td>\n      <td>12.0</td>\n      <td>12.0</td>\n      <td>12.0</td>\n      <td>12.0</td>\n    </tr>\n    <tr>\n      <th>new-orleans-saints</th>\n      <td>0.114301</td>\n      <td>0.302274</td>\n      <td>0.071002</td>\n      <td>0.476500</td>\n      <td>0.035923</td>\n      <td>13.0</td>\n      <td>13.0</td>\n      <td>13.0</td>\n      <td>13.0</td>\n      <td>13.0</td>\n    </tr>\n    <tr>\n      <th>new-york-giants</th>\n      <td>0.282509</td>\n      <td>0.237304</td>\n      <td>0.075552</td>\n      <td>0.395925</td>\n      <td>0.008710</td>\n      <td>4.0</td>\n      <td>4.0</td>\n      <td>4.0</td>\n      <td>4.0</td>\n      <td>4.0</td>\n    </tr>\n    <tr>\n      <th>new-york-jets</th>\n      <td>0.145315</td>\n      <td>0.237479</td>\n      <td>0.341918</td>\n      <td>0.264900</td>\n      <td>0.010387</td>\n      <td>7.0</td>\n      <td>7.0</td>\n      <td>7.0</td>\n      <td>7.0</td>\n      <td>7.0</td>\n    </tr>\n    <tr>\n      <th>oakland-raiders</th>\n      <td>0.138003</td>\n      <td>0.252175</td>\n      <td>0.167232</td>\n      <td>0.432996</td>\n      <td>0.009594</td>\n      <td>7.0</td>\n      <td>7.0</td>\n      <td>7.0</td>\n      <td>7.0</td>\n      <td>7.0</td>\n    </tr>\n    <tr>\n      <th>philadelphia-eagles</th>\n      <td>0.123526</td>\n      <td>0.337115</td>\n      <td>0.180166</td>\n      <td>0.348169</td>\n      <td>0.011024</td>\n      <td>9.0</td>\n      <td>9.0</td>\n      <td>9.0</td>\n      <td>9.0</td>\n      <td>9.0</td>\n    </tr>\n    <tr>\n      <th>pittsburgh-steelers</th>\n      <td>0.167242</td>\n      <td>0.352711</td>\n      <td>0.202674</td>\n      <td>0.246076</td>\n      <td>0.031297</td>\n      <td>8.0</td>\n      <td>8.0</td>\n      <td>8.0</td>\n      <td>8.0</td>\n      <td>8.0</td>\n    </tr>\n    <tr>\n      <th>san-francisco-49ers</th>\n      <td>0.116865</td>\n      <td>0.347968</td>\n      <td>0.180158</td>\n      <td>0.329696</td>\n      <td>0.025314</td>\n      <td>13.0</td>\n      <td>13.0</td>\n      <td>13.0</td>\n      <td>13.0</td>\n      <td>13.0</td>\n    </tr>\n    <tr>\n      <th>seattle-seahawks</th>\n      <td>0.145196</td>\n      <td>0.340223</td>\n      <td>0.138150</td>\n      <td>0.354662</td>\n      <td>0.021769</td>\n      <td>11.0</td>\n      <td>11.0</td>\n      <td>11.0</td>\n      <td>11.0</td>\n      <td>11.0</td>\n    </tr>\n    <tr>\n      <th>tampa-bay-buccaneers</th>\n      <td>0.059334</td>\n      <td>0.340756</td>\n      <td>0.120429</td>\n      <td>0.459505</td>\n      <td>0.019975</td>\n      <td>7.0</td>\n      <td>7.0</td>\n      <td>7.0</td>\n      <td>7.0</td>\n      <td>7.0</td>\n    </tr>\n    <tr>\n      <th>tennessee-titans</th>\n      <td>0.069256</td>\n      <td>0.321994</td>\n      <td>0.155069</td>\n      <td>0.431958</td>\n      <td>0.021723</td>\n      <td>9.0</td>\n      <td>9.0</td>\n      <td>9.0</td>\n      <td>9.0</td>\n      <td>9.0</td>\n    </tr>\n    <tr>\n      <th>washington-redskins</th>\n      <td>0.076843</td>\n      <td>0.215290</td>\n      <td>0.466191</td>\n      <td>0.205195</td>\n      <td>0.036482</td>\n      <td>3.0</td>\n      <td>3.0</td>\n      <td>3.0</td>\n      <td>3.0</td>\n      <td>3.0</td>\n    </tr>\n  </tbody>\n</table>\n</div>",
      "text/plain": "                     perc_of_total                                          \\\nroster_type               dead_cap   defense   injured   offense specialty   \nteam                                                                         \narizona-cardinals         0.264931  0.252093  0.118874  0.344876  0.019226   \natlanta-falcons           0.098395  0.281008  0.181473  0.431443  0.007681   \nbaltimore-ravens          0.162171  0.397840  0.107899  0.279156  0.052933   \nbuffalo-bills             0.096058  0.439945  0.025802  0.401639  0.036556   \ncarolina-panthers         0.078089  0.379779  0.287155  0.238546  0.016431   \nchicago-bears             0.055910  0.430112  0.171630  0.326405  0.015942   \ncincinnati-bengals        0.076621  0.269518  0.195384  0.427342  0.031134   \ncleveland-browns          0.157002  0.328422  0.083503  0.422010  0.009063   \ndallas-cowboys            0.055682  0.313469  0.122947  0.488202  0.019700   \ndenver-broncos            0.188213  0.343394  0.205554  0.231111  0.031728   \ndetroit-lions             0.088916  0.291200  0.382551  0.198940  0.038393   \ngreen-bay-packers         0.096446  0.282823  0.047492  0.541562  0.031677   \nhouston-texans            0.141801  0.382217  0.127012  0.323563  0.025407   \nindianapolis-colts        0.124933  0.358492  0.148831  0.343824  0.023921   \njacksonville-jaguars      0.188449  0.321608  0.169063  0.304254  0.016627   \nkansas-city-chiefs        0.120512  0.296508  0.063979  0.486541  0.032461   \nlos-angeles-chargers      0.048807  0.383768  0.107572  0.451408  0.008445   \nlos-angeles-rams          0.073493  0.391517  0.027982  0.474414  0.032594   \nmiami-dolphins            0.383556  0.116635  0.264979  0.224461  0.010370   \nminnesota-vikings         0.042162  0.469382  0.024593  0.445787  0.018077   \nnew-england-patriots      0.142105  0.403139  0.062095  0.383687  0.008974   \nnew-orleans-saints        0.114301  0.302274  0.071002  0.476500  0.035923   \nnew-york-giants           0.282509  0.237304  0.075552  0.395925  0.008710   \nnew-york-jets             0.145315  0.237479  0.341918  0.264900  0.010387   \noakland-raiders           0.138003  0.252175  0.167232  0.432996  0.009594   \nphiladelphia-eagles       0.123526  0.337115  0.180166  0.348169  0.011024   \npittsburgh-steelers       0.167242  0.352711  0.202674  0.246076  0.031297   \nsan-francisco-49ers       0.116865  0.347968  0.180158  0.329696  0.025314   \nseattle-seahawks          0.145196  0.340223  0.138150  0.354662  0.021769   \ntampa-bay-buccaneers      0.059334  0.340756  0.120429  0.459505  0.019975   \ntennessee-titans          0.069256  0.321994  0.155069  0.431958  0.021723   \nwashington-redskins       0.076843  0.215290  0.466191  0.205195  0.036482   \n\n                            w                                    \nroster_type          dead_cap defense injured offense specialty  \nteam                                                             \narizona-cardinals         5.0     5.0     5.0     5.0       5.0  \natlanta-falcons           7.0     7.0     7.0     7.0       7.0  \nbaltimore-ravens         14.0    14.0    14.0    14.0      14.0  \nbuffalo-bills            10.0    10.0    10.0    10.0      10.0  \ncarolina-panthers         5.0     5.0     5.0     5.0       5.0  \nchicago-bears             8.0     8.0     8.0     8.0       8.0  \ncincinnati-bengals        2.0     2.0     2.0     2.0       2.0  \ncleveland-browns          6.0     6.0     6.0     6.0       6.0  \ndallas-cowboys            8.0     8.0     8.0     8.0       8.0  \ndenver-broncos            7.0     7.0     7.0     7.0       7.0  \ndetroit-lions             3.0     3.0     3.0     3.0       3.0  \ngreen-bay-packers        13.0    13.0    13.0    13.0      13.0  \nhouston-texans           10.0    10.0    10.0    10.0      10.0  \nindianapolis-colts        7.0     7.0     7.0     7.0       7.0  \njacksonville-jaguars      6.0     6.0     6.0     6.0       6.0  \nkansas-city-chiefs       12.0    12.0    12.0    12.0      12.0  \nlos-angeles-chargers      5.0     5.0     5.0     5.0       5.0  \nlos-angeles-rams          9.0     9.0     9.0     9.0       9.0  \nmiami-dolphins            5.0     5.0     5.0     5.0       5.0  \nminnesota-vikings        10.0    10.0    10.0    10.0      10.0  \nnew-england-patriots     12.0    12.0    12.0    12.0      12.0  \nnew-orleans-saints       13.0    13.0    13.0    13.0      13.0  \nnew-york-giants           4.0     4.0     4.0     4.0       4.0  \nnew-york-jets             7.0     7.0     7.0     7.0       7.0  \noakland-raiders           7.0     7.0     7.0     7.0       7.0  \nphiladelphia-eagles       9.0     9.0     9.0     9.0       9.0  \npittsburgh-steelers       8.0     8.0     8.0     8.0       8.0  \nsan-francisco-49ers      13.0    13.0    13.0    13.0      13.0  \nseattle-seahawks         11.0    11.0    11.0    11.0      11.0  \ntampa-bay-buccaneers      7.0     7.0     7.0     7.0       7.0  \ntennessee-titans          9.0     9.0     9.0     9.0       9.0  \nwashington-redskins       3.0     3.0     3.0     3.0       3.0  "
     },
     "execution_count": 38,
     "metadata": {},
     "output_type": "execute_result"
    }
   ],
   "source": [
    "nfl_agg_w_wins.pivot(index='team', columns='roster_type', values=['perc_of_total','w'])"
   ]
  },
  {
   "cell_type": "code",
   "execution_count": null,
   "metadata": {},
   "outputs": [],
   "source": []
  }
 ],
 "metadata": {
  "kernelspec": {
   "display_name": "Python 3",
   "language": "python",
   "name": "python3"
  },
  "language_info": {
   "codemirror_mode": {
    "name": "ipython",
    "version": 2
   },
   "file_extension": ".py",
   "mimetype": "text/x-python",
   "name": "python",
   "nbconvert_exporter": "python",
   "pygments_lexer": "ipython2",
   "version": "3.7.6-final"
  },
  "pycharm": {
   "stem_cell": {
    "cell_type": "raw",
    "source": [],
    "metadata": {
     "collapsed": false
    }
   }
  }
 },
 "nbformat": 4,
 "nbformat_minor": 0
}